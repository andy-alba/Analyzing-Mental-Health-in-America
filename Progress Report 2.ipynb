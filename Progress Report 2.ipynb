{
 "cells": [
  {
   "cell_type": "markdown",
   "metadata": {},
   "source": [
    "# Analyzing Mental Health in America\n"
   ]
  },
  {
   "cell_type": "markdown",
   "metadata": {},
   "source": [
    "Andy Alba, Andy Garcia, David Wang, Nada Dalloul, Allyson Ling"
   ]
  },
  {
   "cell_type": "markdown",
   "metadata": {},
   "source": [
    "## Introduction\n"
   ]
  },
  {
   "cell_type": "markdown",
   "metadata": {},
   "source": [
    "Over the course of a few years, mental health topics in the United States have become less taboo, and many are beginning to engage in an open and inviting conversation on their own psychological state. However, there has been a well documented increase of mental illness, specifically depression, across the United States. In order to shed light on the potential causes of this trend, we aim to explore the effect of different factors on the mental health status of the American population using survey data. Given the overwhelming impact of technology in today’s society and the increasing use of social media  as a source of community, we hope to investigate the scope of information available and topics covered in mental health online forums as compared to survey data. "
   ]
  },
  {
   "cell_type": "markdown",
   "metadata": {},
   "source": [
    "## Data"
   ]
  },
  {
   "cell_type": "markdown",
   "metadata": {},
   "source": [
    "We utilized data from the National Health Interview Survey, an annual cross-sectional survey by the National Center for Health Statistics that aims to illustrate the the health status of those living in the United States. This survey includes a wide range of factors, covering information from health insurance to annual income. There is data for every year between 2004 to 2017, and they are split into multiple files. We began by only looking at the “Person” file from the most recent data in 2017 because it contained a clear indicator of whether a subject had depression. The original CSV contained 700 features, but after going through the features individually in the data documentation, we selected 46 possible features of interest. These features are listed below: \n"
   ]
  },
  {
   "cell_type": "markdown",
   "metadata": {},
   "source": [
    "<style type=\"text/css\">@media screen and (max-width: 767px) {.tg {width: auto !important;}.tg col {width: auto !important;}.tg-wrap {overflow-x: auto;-webkit-overflow-scrolling: touch;margin: auto 0px;}}</style><div class=\"tg-wrap\"><table style=\"border-collapse:collapse;border-spacing:0;margin:0px auto\" class=\"tg\"><tr><td style=\"font-family:Arial, sans-serif;font-size:14px;padding:10px 5px;border-style:solid;border-width:1px;overflow:hidden;word-break:normal;border-color:inherit;text-align:center\">Age</td><td style=\"font-family:Arial, sans-serif;font-size:14px;padding:10px 5px;border-style:solid;border-width:1px;overflow:hidden;word-break:normal;border-color:inherit;text-align:center\">Marital<br>&nbsp;&nbsp;status</td><td style=\"font-family:Arial, sans-serif;font-size:14px;padding:10px 5px;border-style:solid;border-width:1px;overflow:hidden;word-break:normal;border-color:inherit;text-align:center\">Duration<br>&nbsp;&nbsp;of weight problem (in years) </td><td style=\"font-family:Arial, sans-serif;font-size:14px;padding:10px 5px;border-style:solid;border-width:1px;overflow:hidden;word-break:normal;border-color:inherit;text-align:center\">Learning<br>&nbsp;&nbsp;disability causes limitation</td><td style=\"font-family:Arial, sans-serif;font-size:14px;padding:10px 5px;border-style:solid;border-width:1px;overflow:hidden;word-break:normal;border-color:inherit;text-align:center\">Year of<br>&nbsp;&nbsp;National Health Interview Survey</td></tr><tr><td style=\"font-family:Arial, sans-serif;font-size:14px;padding:10px 5px;border-style:solid;border-width:1px;overflow:hidden;word-break:normal;border-color:inherit;text-align:center\">Type<br>&nbsp;&nbsp;of relationship with Mother </td><td style=\"font-family:Arial, sans-serif;font-size:14px;padding:10px 5px;border-style:solid;border-width:1px;overflow:hidden;word-break:normal;border-color:inherit;text-align:center\">Weight problem condition status</td><td style=\"font-family:Arial, sans-serif;font-size:14px;padding:10px 5px;border-style:solid;border-width:1px;overflow:hidden;word-break:normal;border-color:inherit;text-align:center\">Attention Deficit/Hyperactivity<br>&nbsp;&nbsp;Disorder (ADD/ADHD) causes limitation</td><td style=\"font-family:Arial, sans-serif;font-size:14px;padding:10px 5px;border-style:solid;border-width:1px;overflow:hidden;word-break:normal;border-color:inherit;text-align:center\">Family Number</td><td style=\"font-family:Arial, sans-serif;font-size:14px;padding:10px 5px;border-style:solid;border-width:1px;overflow:hidden;word-break:normal;border-color:inherit;text-align:center\">Type of relationship with Father</td></tr><tr><td style=\"font-family:Arial, sans-serif;font-size:14px;padding:10px 5px;border-style:solid;border-width:1px;overflow:hidden;word-break:normal;border-color:inherit;text-align:center\">Years<br>&nbsp;&nbsp;that  has been in the U.S. </td><td style=\"font-family:Arial, sans-serif;font-size:14px;padding:10px 5px;border-style:solid;border-width:1px;overflow:hidden;word-break:normal;border-color:inherit;text-align:center\">Intellectual disability, also known as<br>&nbsp;&nbsp;mental retardation condition status</td><td style=\"font-family:Arial, sans-serif;font-size:14px;padding:10px 5px;border-style:solid;border-width:1px;overflow:hidden;word-break:normal;border-color:inherit;text-align:center\">Person Number</td><td style=\"font-family:Arial, sans-serif;font-size:14px;padding:10px 5px;border-style:solid;border-width:1px;overflow:hidden;word-break:normal;border-color:inherit;text-align:center\">Parent(s) present in the family </td><td style=\"font-family:Arial, sans-serif;font-size:14px;padding:10px 5px;border-style:solid;border-width:1px;overflow:hidden;word-break:normal;border-color:inherit;text-align:center\">No coverage of any type</td></tr><tr><td style=\"font-family:Arial, sans-serif;font-size:14px;padding:10px 5px;border-style:solid;border-width:1px;overflow:hidden;word-break:normal;border-color:inherit;text-align:center\">US<br>&nbsp;&nbsp;citizenship status</td><td style=\"font-family:Arial, sans-serif;font-size:14px;padding:10px 5px;border-style:solid;border-width:1px;overflow:hidden;word-break:normal;border-color:inherit;text-align:center\">Region</td><td style=\"font-family:Arial, sans-serif;font-size:14px;padding:10px 5px;border-style:solid;border-width:1px;overflow:hidden;word-break:normal;border-color:inherit;text-align:center\">Education of father</td><td style=\"font-family:Arial, sans-serif;font-size:14px;padding:10px 5px;border-style:solid;border-width:1px;overflow:hidden;word-break:normal;border-color:inherit;text-align:center\">Highest level of school completed</td><td style=\"font-family:Arial, sans-serif;font-size:14px;padding:10px 5px;border-style:solid;border-width:1px;overflow:hidden;word-break:normal;border-color:inherit;text-align:center\">Now attending Head Start</td></tr><tr><td style=\"font-family:Arial, sans-serif;font-size:14px;padding:10px 5px;border-style:solid;border-width:1px;overflow:hidden;word-break:normal;border-color:inherit;text-align:center\">Sex</td><td style=\"font-family:Arial, sans-serif;font-size:14px;padding:10px 5px;border-style:solid;border-width:1px;overflow:hidden;word-break:normal;border-color:inherit;text-align:center\">Education of mother</td><td style=\"font-family:Arial, sans-serif;font-size:14px;padding:10px 5px;border-style:solid;border-width:1px;overflow:hidden;word-break:normal;border-color:inherit;text-align:center\">Total earnings last year</td><td style=\"font-family:Arial, sans-serif;font-size:14px;padding:10px 5px;border-style:solid;border-width:1px;overflow:hidden;word-break:normal;border-color:inherit;text-align:center\">No health coverage during past 12<br>&nbsp;&nbsp;months</td><td style=\"font-family:Arial, sans-serif;font-size:14px;padding:10px 5px;border-style:solid;border-width:1px;overflow:hidden;word-break:normal;border-color:inherit;text-align:center\">Depression/anxiety/emotional problem<br>&nbsp;&nbsp;causes limitation</td></tr><tr><td style=\"font-family:Arial, sans-serif;font-size:14px;padding:10px 5px;border-style:solid;border-width:1px;overflow:hidden;word-break:normal;border-color:inherit;text-align:center\">Other<br>&nbsp;&nbsp;mental, emotional, or behavioral problem condition status</td><td style=\"font-family:Arial, sans-serif;font-size:14px;padding:10px 5px;border-style:solid;border-width:1px;overflow:hidden;word-break:normal;border-color:inherit;text-align:center\">Alcohol/drug/substance abuse problem<br>&nbsp;&nbsp;condition status</td><td style=\"font-family:Arial, sans-serif;font-size:14px;padding:10px 5px;border-style:solid;border-width:1px;overflow:hidden;word-break:normal;border-color:inherit;text-align:center\">Duration of depression, anxiety, or<br>&nbsp;&nbsp;emotional problem recode 2 </td><td style=\"font-family:Arial, sans-serif;font-size:14px;padding:10px 5px;border-style:solid;border-width:1px;overflow:hidden;word-break:normal;border-color:inherit;text-align:center\">Duration of alcohol/drug/substance<br>&nbsp;&nbsp;abuse problem recode 2 </td><td style=\"font-family:Arial, sans-serif;font-size:14px;padding:10px 5px;border-style:solid;border-width:1px;overflow:hidden;word-break:normal;border-color:inherit;text-align:center\">Ever attended Head Start</td></tr><tr><td style=\"font-family:Arial, sans-serif;font-size:14px;padding:10px 5px;border-style:solid;border-width:1px;overflow:hidden;word-break:normal;border-color:inherit;text-align:center\">Race<br>&nbsp;&nbsp;Recode </td><td style=\"font-family:Arial, sans-serif;font-size:14px;padding:10px 5px;border-style:solid;border-width:1px;overflow:hidden;word-break:normal;border-color:inherit;text-align:center\">Depression/anxiety/emotional problem<br>&nbsp;&nbsp;condition status </td><td style=\"font-family:Arial, sans-serif;font-size:14px;padding:10px 5px;border-style:solid;border-width:1px;overflow:hidden;word-break:normal;border-color:inherit;text-align:center\">Duration of other mental<br>&nbsp;&nbsp;problem/ADD/Bipolar/Schizophrenia (in years) </td><td style=\"font-family:Arial, sans-serif;font-size:14px;padding:10px 5px;border-style:solid;border-width:1px;overflow:hidden;word-break:normal;border-color:inherit;text-align:center\">Has - - ever served in U.S. Armed<br>&nbsp;&nbsp;Forces, Reserves, or National Guard?</td><td style=\"font-family:Arial, sans-serif;font-size:14px;padding:10px 5px;border-style:solid;border-width:1px;overflow:hidden;word-break:normal;border-color:inherit;text-align:center\">Race/ethnicity recode </td></tr><tr><td style=\"font-family:Arial, sans-serif;font-size:14px;padding:10px 5px;border-style:solid;border-width:1px;overflow:hidden;word-break:normal;border-color:inherit;text-align:center\">Duration<br>&nbsp;&nbsp;of other mental, emotional, or behavioral problem recode 2 </td><td style=\"font-family:Arial, sans-serif;font-size:14px;padding:10px 5px;border-style:solid;border-width:1px;overflow:hidden;word-break:normal;border-color:inherit;text-align:center\">Duration of fatigue/tiredness/weakness<br>&nbsp;&nbsp;problem (in years) </td><td style=\"font-family:Arial, sans-serif;font-size:14px;padding:10px 5px;border-style:solid;border-width:1px;overflow:hidden;word-break:normal;border-color:inherit;text-align:center\">Duration of attention<br>&nbsp;&nbsp;deficit/hyperactivity disorder (ADD/ADHD) (in years) </td><td style=\"font-family:Arial, sans-serif;font-size:14px;padding:10px 5px;border-style:solid;border-width:1px;overflow:hidden;word-break:normal;border-color:inherit;text-align:center\">Armed Forces Status </td><td style=\"font-family:Arial, sans-serif;font-size:14px;padding:10px 5px;border-style:solid;border-width:1px;overflow:hidden;word-break:normal;border-color:inherit;text-align:center\">Duration of nervous system/sensory<br>&nbsp;&nbsp;organ condition (in years)</td></tr><tr><td style=\"font-family:Arial, sans-serif;font-size:14px;padding:10px 5px;border-style:solid;border-width:1px;overflow:hidden;word-break:normal;border-color:inherit;text-align:center\">Duration<br>&nbsp;&nbsp;of learning disability (in years) </td><td style=\"font-family:Arial, sans-serif;font-size:14px;padding:10px 5px;border-style:solid;border-width:1px;overflow:hidden;word-break:normal;border-color:inherit;text-align:center\">Duration of other developmental<br>&nbsp;&nbsp;problem (in years) </td><td style=\"font-family:Arial, sans-serif;font-size:14px;padding:10px 5px;border-style:solid;border-width:1px;overflow:hidden;word-break:normal;border-color:inherit;text-align:center\">Duration of intellectual disability,<br>&nbsp;&nbsp;also known as mental retardation (in years)</td><td style=\"font-family:Arial, sans-serif;font-size:14px;padding:10px 5px;border-style:solid;border-width:1px;overflow:hidden;word-break:normal;border-color:inherit;text-align:center\">Duration<br>&nbsp;&nbsp;of endocrine/nutritional/metabolic problem (in years) </td><td style=\"font-family:Arial, sans-serif;font-size:14px;padding:10px 5px;border-style:solid;border-width:1px;overflow:hidden;word-break:normal;border-color:inherit;text-align:center\"></td></tr></table></div>"
   ]
  },
  {
   "cell_type": "markdown",
   "metadata": {},
   "source": [
    "We initially believed that the “Person” file also included the physical weights of each individual, however, upon further inspection, we discovered that key physical characteristics such as weight and height were in the “Sample Adult” and “Sample Child” files. According to the data documentation, these values have been modified to protect the privacy of the individuals surveyed. Height was limited to 59-70 inches for women and 63-76 inches for men. Similarly, weight was limited to 100-274 pounds for women and 126-299 pounds for men. BMI was calculated even for persons whose data was altered, so we made note of that as well. Although we could have applied to obtain some of the confidential data, due to monetary concerns, we did not pursue this further."
   ]
  },
  {
   "cell_type": "markdown",
   "metadata": {},
   "source": [
    "## Past Progress"
   ]
  },
  {
   "cell_type": "markdown",
   "metadata": {},
   "source": [
    "One of the first things that we had to do was change the values of the data. The data was saved with numerical keys representing the possible answers for a given survey question. The key-answer pairings were stored in a separate pdf, so we converted these pairings to a Python dictionary and replaced the numeric keys in the data with its corresponding answer. "
   ]
  },
  {
   "cell_type": "markdown",
   "metadata": {},
   "source": [
    "Next, for our exploratory analysis, we wanted to see the overall spread and distribution of those who responded to mental health questions. These distributions were visualized as interactive bar plots in plot.ly so we could see the distribution of multiple groups at once and individual groups in one plot. \n"
   ]
  },
  {
   "cell_type": "markdown",
   "metadata": {},
   "source": [
    "After subsetting our data to only those who answered mental health questions, the size of our dataset went from around 17,000 observations to 1,500.\n"
   ]
  },
  {
   "cell_type": "code",
   "execution_count": 3,
   "metadata": {},
   "outputs": [],
   "source": [
    "from IPython.display import IFrame"
   ]
  },
  {
   "cell_type": "code",
   "execution_count": 6,
   "metadata": {},
   "outputs": [
    {
     "data": {
      "text/html": [
       "\n",
       "        <iframe\n",
       "            width=\"950\"\n",
       "            height=\"600\"\n",
       "            src=\"depressionXincome.html\"\n",
       "            frameborder=\"0\"\n",
       "            allowfullscreen\n",
       "        ></iframe>\n",
       "        "
      ],
      "text/plain": [
       "<IPython.lib.display.IFrame at 0x11162e048>"
      ]
     },
     "execution_count": 6,
     "metadata": {},
     "output_type": "execute_result"
    }
   ],
   "source": [
    "IFrame('depressionXincome.html', width=950, height=600)"
   ]
  },
  {
   "cell_type": "markdown",
   "metadata": {},
   "source": [
    "The above graph, Depression Length X Income shows the spread of the income of the people surveyed who answered the survey question on depression. We can see that the majority of people who are depressed have been depressed for more than 1 year with very few people identifying as being depressed for less than a year. This may be explained by depression being something that occurs over a long period of time rather than a few days. In addition, we can see that a majority of people who are depressed have a salary of less than $5000. This tells us that money may possibly play a large role in a persons depression or vice versa. "
   ]
  },
  {
   "cell_type": "code",
   "execution_count": 7,
   "metadata": {
    "scrolled": false
   },
   "outputs": [
    {
     "data": {
      "text/html": [
       "\n",
       "        <iframe\n",
       "            width=\"950\"\n",
       "            height=\"600\"\n",
       "            src=\"depressionXage.html\"\n",
       "            frameborder=\"0\"\n",
       "            allowfullscreen\n",
       "        ></iframe>\n",
       "        "
      ],
      "text/plain": [
       "<IPython.lib.display.IFrame at 0x11162e390>"
      ]
     },
     "execution_count": 7,
     "metadata": {},
     "output_type": "execute_result"
    }
   ],
   "source": [
    "IFrame('depressionXage.html', width=950, height=600)"
   ]
  },
  {
   "cell_type": "markdown",
   "metadata": {},
   "source": [
    "The above graph compares the spread of the length of a persons depression and their age. From this we can see that a majority of the people with depression tend to be above 40. We can also see that there are more people in this plot compared to the plot of depression length and income. This tells us that a majority of people who have depressed for more than year did not report their income or did not have their income surveyed."
   ]
  },
  {
   "cell_type": "code",
   "execution_count": 8,
   "metadata": {
    "scrolled": false
   },
   "outputs": [
    {
     "data": {
      "text/html": [
       "\n",
       "        <iframe\n",
       "            width=\"950\"\n",
       "            height=\"600\"\n",
       "            src=\"depressionXageXincome<5k.html\"\n",
       "            frameborder=\"0\"\n",
       "            allowfullscreen\n",
       "        ></iframe>\n",
       "        "
      ],
      "text/plain": [
       "<IPython.lib.display.IFrame at 0x11162e668>"
      ]
     },
     "execution_count": 8,
     "metadata": {},
     "output_type": "execute_result"
    }
   ],
   "source": [
    "IFrame('depressionXageXincome<5k.html', width=950, height=600)"
   ]
  },
  {
   "cell_type": "code",
   "execution_count": 9,
   "metadata": {},
   "outputs": [
    {
     "data": {
      "text/html": [
       "\n",
       "        <iframe\n",
       "            width=\"950\"\n",
       "            height=\"600\"\n",
       "            src=\"demographics.html\"\n",
       "            frameborder=\"0\"\n",
       "            allowfullscreen\n",
       "        ></iframe>\n",
       "        "
      ],
      "text/plain": [
       "<IPython.lib.display.IFrame at 0x11162e588>"
      ]
     },
     "execution_count": 9,
     "metadata": {},
     "output_type": "execute_result"
    }
   ],
   "source": [
    "IFrame('demographics.html', width=950, height=600)"
   ]
  },
  {
   "cell_type": "markdown",
   "metadata": {},
   "source": [
    "Based on our histogram, the majority of people surveyed are White followed by Black, Asian, and other."
   ]
  },
  {
   "cell_type": "code",
   "execution_count": 10,
   "metadata": {},
   "outputs": [
    {
     "data": {
      "text/html": [
       "\n",
       "        <iframe\n",
       "            width=\"950\"\n",
       "            height=\"600\"\n",
       "            src=\"mental_health_male_female.html\"\n",
       "            frameborder=\"0\"\n",
       "            allowfullscreen\n",
       "        ></iframe>\n",
       "        "
      ],
      "text/plain": [
       "<IPython.lib.display.IFrame at 0x11162e630>"
      ]
     },
     "execution_count": 10,
     "metadata": {},
     "output_type": "execute_result"
    }
   ],
   "source": [
    "IFrame('mental_health_male_female.html', width=950, height=600)"
   ]
  },
  {
   "cell_type": "markdown",
   "metadata": {},
   "source": [
    "Out of about 78k people, 921 females and 589 males are reported to have chronic depression. While for 9 females and 7 males, they did not know if it was chronic. 6 females and 2 males reported that it was not chronic. Lastly, the remaining people did not have an answer for this question."
   ]
  },
  {
   "cell_type": "markdown",
   "metadata": {},
   "source": [
    "## Current Progress\n"
   ]
  },
  {
   "cell_type": "markdown",
   "metadata": {},
   "source": [
    "### NHIS Data"
   ]
  },
  {
   "cell_type": "markdown",
   "metadata": {},
   "source": [
    "Although we contacted the Centers for Disease Control and Prevention about obtaining the data from 2004 to 2005, we have not received a response and thus will only look at data from 2006 to 2017 for the rest of this project.\n",
    "\n",
    "For data cleaning, the first goal was to merge the \"Family\" files into the \"Person\" files and \"Sample Adult\" files for each year so that we have family and individual characteristics for each observation. We decided to disregard the \"Sample Child\" files, to limit the number of variables and for easier comparison. The first issue we ran into when cleaning the data was the way the data was stored. The data from 2006 to 2014 were all in ASCII format, which Python struggled to read due to rows having different lengths. To deal with this, we attempted to use the SAS formating files that the NHIS provided with the datasets. The SAS code converted each ASCII file to a SAS dataset, and so we ran a SAS file for each dataset we had. We then merged the appropriate datasets for each year.\n",
    "\n",
    "New issues arose when we tried exporting the SAS datasets as CSVs. The SAS files converted the categorical variables that were stored as integers into meaningful phrases. These phrases, however, could be long. For example, the categories for the variable corresponding to \"region\" are as follows:  \n",
    "* Northeast\n",
    "* Midwest\n",
    "* South\n",
    "* West  \n",
    "\n",
    "While these levels don't seem that long, there were too many variables in each dataset. In 2014 alone, there were 1,539 variables. Some factors had much more complicated levels, and so SAS began to truncate columns when it was exporting the data as CSVs. We attempted to export the data without the detailed factors in SAS, but the sheer number of variables exceeded the logical record length in SAS. SAS truncated the variable names, so instead of having the real variable name, we would get var_899. Initially, we wanted to keep as many variables as possible, but as a result of the truncations, we had to select a subset of the variables. Ultimately, we choose 331, which later dropped to 285 common variables among all years.\n",
    "\n",
    "After all the data was exported as CSVs, we used Python to merge all the separate files into one master data frame with 285 variables and 1,109,807 observations.\n",
    "\n",
    "Since we plotted the data for one year, we wanted to do the same for each year in the survey data. After cleaning the data, we used an interactive plot to show the distribution of each year's reported depression length by income level."
   ]
  },
  {
   "cell_type": "code",
   "execution_count": 11,
   "metadata": {},
   "outputs": [
    {
     "data": {
      "text/html": [
       "\n",
       "        <iframe\n",
       "            width=\"600\"\n",
       "            height=\"600\"\n",
       "            src=\"./incodepr.html\"\n",
       "            frameborder=\"0\"\n",
       "            allowfullscreen\n",
       "        ></iframe>\n",
       "        "
      ],
      "text/plain": [
       "<IPython.lib.display.IFrame at 0x105e1ac18>"
      ]
     },
     "execution_count": 11,
     "metadata": {},
     "output_type": "execute_result"
    }
   ],
   "source": [
    "IFrame('./incodepr.html', width = 600, height = 600)"
   ]
  },
  {
   "cell_type": "markdown",
   "metadata": {},
   "source": [
    "The plot shows that as time goes on, there were more reports of depression at each income level. This could suggest that more people are becoming okay with sharing the information about themselves as the stigma against mental disorders lessens.\n",
    "\n",
    "It was also noted that each year had about 75,000 to 110,000 observations. However, most of these observations did not have a reported depression length, possibly from the person not knowing if they were depressed, not wanting to report it or just leaving the question empty. About 95% of the observations did not have a value for length of depression. This plot showcased the 5% that reported a depression length. The number of observations each year increased up until 2014. That year, the number of observations peaked, and the number of observations declined after.\n",
    "\n",
    "The general distributions for each year were similar to each other. Each year, the lowest income level had the highest counts of reported depression. The $65,000 to $75,000 income level had the least reported depression length. The general trend between income level and depression was the lower the income level, the more the counts of reported depression and the higher the income level, the less the counts of reported depression. \n",
    "\n",
    "The majority of the counts for most of the income levels in each year had more than one year of depression. As each year passes, it is possible that the reported depression favors the more than one year of depression option. If the people from the previous year were still depressed, they would be in the more than one year option for the next years. Also, it is possible that it takes a year for someone to be diagnosed as having a depression disorder as opposed to simply feeling depressed in general.\n",
    "\n",
    "In order to investigate the relationship between specific features and the depression variable, we utilized PCA to try to detect a cluster structure. Initially, running PCA and graphing the components did not help in our visualization of individual clusters. This is likely due to the fact that our variables are categorical and other measures need to be taken. In the upcoming weeks, we plan on utilizing multiple correspondence analysis.\n",
    "\n",
    "The features used in the PCA were sex, race/ethnicity, age, parent(s) present in the family , duration of weight problem (in years), weight problem condition status, and duration of alcohol/drug/substance abuse problem. As shown in the graph, there seems to be a little bit of cluster structure with the data that is associated with non-chronic depression. However, these differences will likely be more evident with other techniques. "
   ]
  },
  {
   "cell_type": "markdown",
   "metadata": {},
   "source": [
    "### Reddit Web Scrape"
   ]
  },
  {
   "cell_type": "markdown",
   "metadata": {},
   "source": [
    "We also moved onto analysing the posts and comments of the depression forum, /r/depression, from the popular website reddit. The goal of this was to find out what depressed people are talking about that may not be covered by the NHIS survey. We used the reddit API to get information on the posts of /r/depression and traditional web scraping to get information on users.\n",
    "\t\n",
    "Using the official reddit API, we found the most common words in discussion post titles for the 100 most controversial and top rated discussion of all time. "
   ]
  },
  {
   "cell_type": "markdown",
   "metadata": {},
   "source": [
    "<img src=\"WordFrequencyTop.png\"/>"
   ]
  },
  {
   "cell_type": "markdown",
   "metadata": {},
   "source": [
    "The plot above shows the word frequencies for the top 100 post titles on /r/depression’s all time section. The plot is still unfinished because we need to filter out unnecessary words but based on what we have so far some notable words are “anyone”, “depression”, “feel”, “people”, “life”, “depressed”, “alone”, “hate”, “fuck”, and “shit” We may get more words if we were to remove the unnecessary words/quotations but the words here have strong associations with depression and pain."
   ]
  },
  {
   "cell_type": "markdown",
   "metadata": {},
   "source": [
    "<img src=\"WordFrequencyControversial.png\" />"
   ]
  },
  {
   "cell_type": "markdown",
   "metadata": {},
   "source": [
    "The plot above shows the word frequencies for the top 100 post titles on /r/depression’s controversial section. The plot is also unfinished because we need to filter out unnecessary words but based on what we have so far some notable words are “depression”, “stop”, “day”, “women”, “people”, etc. We may get more words if we were to remove the unnecessary words/quotations but the words here are of interest. It may be interesting to explore the context some of these words used in such as “women” or “stop” and maybe we can understand why it was controversial on the subreddit.\n",
    "\n",
    "Next we web scraped /r/depression’s regular check-in discussions. These discussions are a mainly a place for users to post about what is going on in their day-to-day life, how their depression is, and positive or negative things that are going in their lives. These discussion posts go back 2 years and as of now there are 7 of these discussions. \n",
    "\n",
    "One of the main problems we ran into when web scraping these posts was getting all of the comments. Some of these discussions had over 5000 comments on them, however, the reddit website only allows us to see 500 comments at a time. One way to get around this was by using the comment sorting attribute. We were able to get the 500 most upvoted comments and the 500 newest comments for each thread.\n",
    "\n",
    "The replies to comments were not grabbed as well. One of the main problems of getting replies is that we lose the context of the reply. A thread is started when a comment gets a reply, and these threads can create their own threads based on which replies other users reply to. When grabbing these replies, a lot of the meaning behind what the reply means is lost since we do not know what comment they are replying to and keeping track of all the threads can get problematic.\n",
    "\n",
    "We also looked at the word frequency across all of these check-in posts. From the below graph, we can see that many users are talking about how they are feeling and what is going on in their day. However, this graph does not give us a good idea of what users are really talking about and what may be impacting their lives and their depression."
   ]
  },
  {
   "cell_type": "markdown",
   "metadata": {},
   "source": [
    "<img src='WordFrequencyCheckIn.png' />"
   ]
  },
  {
   "cell_type": "markdown",
   "metadata": {},
   "source": [
    "We graphed the activity of users in these regular check-in threads based on how many times they posted. One thing to note about this graph is that not all of the comments and replies were scraped. This means that there may be large gaps in the representation of users in this graph, and that some users activity may be over or under represented based on how the sample of comments was taken."
   ]
  },
  {
   "cell_type": "markdown",
   "metadata": {},
   "source": [
    "<img src=\"20ActiveUsers.png\"/>"
   ]
  },
  {
   "cell_type": "markdown",
   "metadata": {},
   "source": [
    "From the above graph we can see that there are a number of users who post multiple times in each discussion post. This shows us that some users are regularly posting in these check-in threads. However, the reason why these people post in these threads frequently is unknown. They may have no one else in their life they feel comfortable talking to, may use these posts as a sort of diary, or they may feel like this discussion is the only place they can be honest. For now, the reason is unknown but we may start looking into why this is happening in the future.\n",
    "\n",
    "One more thing to note is that there does seem to be one user whose post activity is significantly larger than all others. The user has posted more than the next five or six users combined. It may be of interest of us to look into what this person is posting about, if their comments change over time and how, or how frequently this person posts and if it has changed over time.\n",
    "\n",
    "Next, we looked into the activity of users on the rest of reddit. There are multiple subreddits with varying topics. We were interested in seeing which other subreddits users of /r/depression were interested in and if there were any substantial overlap in these subreddits. For this report, we were not able to get the subreddit activity for our list of active users in /r/depression. But we were able to get the subreddits that a single user has posted or commented in. The next step would be to do this for all of the users and combine all the data into a dataframe."
   ]
  },
  {
   "cell_type": "markdown",
   "metadata": {},
   "source": [
    "## Next Goals"
   ]
  },
  {
   "cell_type": "markdown",
   "metadata": {},
   "source": [
    "For the Reddit Web Scrape we want to:\n",
    "- Explore other visualizations that can be used\n",
    "- Make the visualizations more accurate by filtering out unnecessary words\n",
    "- Analyze the top 500 all time and controversial posts to get a better idea of most frequently used words\n",
    "- Explore the overlap of subreddits of users\n",
    "- Find common topics or recurring themes that users are talking about\n",
    "\n",
    "For the NHIS data we want to:\n",
    "- Explore mutual conditional entropy to select significant variables in the dataset and relationship with time\n",
    "- Use different clustering techniques to distinguish depressed people from non-depressed people"
   ]
  }
 ],
 "metadata": {
  "kernelspec": {
   "display_name": "Python 3",
   "language": "python",
   "name": "python3"
  },
  "language_info": {
   "codemirror_mode": {
    "name": "ipython",
    "version": 3
   },
   "file_extension": ".py",
   "mimetype": "text/x-python",
   "name": "python",
   "nbconvert_exporter": "python",
   "pygments_lexer": "ipython3",
   "version": "3.7.1"
  }
 },
 "nbformat": 4,
 "nbformat_minor": 2
}
