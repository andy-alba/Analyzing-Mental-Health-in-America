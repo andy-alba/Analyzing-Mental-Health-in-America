{
 "cells": [
  {
   "cell_type": "code",
   "execution_count": 2,
   "metadata": {},
   "outputs": [],
   "source": [
    "import pandas as pd\n",
    "import numpy as np\n",
    "import seaborn as sns\n",
    "import matplotlib.pyplot as plt"
   ]
  },
  {
   "cell_type": "code",
   "execution_count": null,
   "metadata": {},
   "outputs": [],
   "source": [
    "# run this to setup and save the dictionaries as dicts\n",
    "# this is the csv I sent to the group\n",
    "df = pd.read_csv('../../../stuff.csv')\n",
    "\n",
    "df.loc[:,df.columns[1]].fillna(method = 'ffill', inplace = True)\n",
    "df.drop(df.columns[0] ,axis = 1, inplace = True)\n",
    "df.set_index(keys=[\"Feature name in Doc\"],inplace=True)\n",
    "df.iloc[:3,:] = np.nan\n",
    "df = df[\"How it's recorded\"].str.split(\" \", 1, expand = True)\n",
    "df.columns = ['key', 'value']\n",
    "dicts = df.groupby([df.index.get_level_values(0)]).apply(lambda x:dict(zip(x.key, x.value)))"
   ]
  },
  {
   "cell_type": "code",
   "execution_count": null,
   "metadata": {},
   "outputs": [],
   "source": [
    "def valueof(feat, key):\n",
    "    \"\"\"Takes in the featuredocname and the value of interest. \n",
    "    Returns the meaning of the value. If the featuedocname or the value is invalid,\n",
    "    None will be returned.\"\"\"\n",
    "    try:\n",
    "        dicts[feat][key]\n",
    "    except:\n",
    "        return None\n",
    "    return dicts[feat][key]\n",
    "valueof('SEX','1')"
   ]
  },
  {
   "cell_type": "code",
   "execution_count": 18,
   "metadata": {},
   "outputs": [
    {
     "data": {
      "text/plain": [
       "2    40229\n",
       "1    37903\n",
       "Name: SEX, dtype: int64"
      ]
     },
     "execution_count": 18,
     "metadata": {},
     "output_type": "execute_result"
    }
   ],
   "source": [
    "data.SEX.value_counts()"
   ]
  },
  {
   "cell_type": "code",
   "execution_count": 21,
   "metadata": {},
   "outputs": [
    {
     "data": {
      "text/plain": [
       "1    32196\n",
       "7    16359\n",
       "0    13975\n",
       "5     5542\n",
       "8     4456\n",
       "4     3663\n",
       "6     1086\n",
       "2      693\n",
       "9      162\n",
       "Name: R_MARITL, dtype: int64"
      ]
     },
     "execution_count": 21,
     "metadata": {},
     "output_type": "execute_result"
    }
   ],
   "source": [
    "data.R_MARITL.value_counts()"
   ]
  },
  {
   "cell_type": "code",
   "execution_count": 30,
   "metadata": {},
   "outputs": [
    {
     "name": "stderr",
     "output_type": "stream",
     "text": [
      "/Users/family/anaconda3/lib/python3.7/site-packages/scipy/stats/stats.py:1713: FutureWarning: Using a non-tuple sequence for multidimensional indexing is deprecated; use `arr[tuple(seq)]` instead of `arr[seq]`. In the future this will be interpreted as an array index, `arr[np.array(seq)]`, which will result either in an error or a different result.\n",
      "  return np.add.reduce(sorted[indexer] * weights, axis=axis) / sumval\n"
     ]
    },
    {
     "data": {
      "image/png": "[encoded data removed]",
      "text/plain": [
       "<Figure size 432x288 with 1 Axes>"
      ]
     },
     "metadata": {
      "needs_background": "light"
     },
     "output_type": "display_data"
    }
   ],
   "source": [
    "# data.AGE_P.value_counts()\n",
    "ax = sns.distplot(data.AGE_P,kde = False)"
   ]
  },
  {
   "cell_type": "code",
   "execution_count": 226,
   "metadata": {},
   "outputs": [],
   "source": [
    "import numpy as np\n",
    "import pandas as pd\n",
    "from os import listdir\n",
    "from datetime import datetime as dt\n",
    "import re\n",
    "import seaborn as sns\n",
    "import matplotlib.pyplot as plt\n",
    "from matplotlib import dates\n",
    "%matplotlib inline\n",
    "\n",
    "import imageio\n",
    "import bokeh.io\n",
    "import time\n",
    "import nltk\n",
    "import nltk.corpus\n",
    "\n",
    "\n",
    "\n",
    "import bokeh.layouts\n",
    "from bokeh.models import ColumnDataSource, CustomJS, CDSView, GroupFilter, Span\n",
    "from bokeh.models.widgets import Slider\n",
    "from bokeh.plotting import figure, show\n",
    "from bokeh.core.properties import value\n",
    "from bokeh.io import output_file"
   ]
  },
  {
   "cell_type": "code",
   "execution_count": 227,
   "metadata": {},
   "outputs": [],
   "source": [
    "test = pd.read_csv('../merged_data.csv', usecols = ['SRVY_YR', 'ERNYR_P', 'LADURB17'])\n",
    "test.LADURB17 = np.where(test.LADURB17 != 8.0, test.LADURB17, 9.0)\n",
    "test.LADURB17 = test.LADURB17.fillna(9.0).astype(int).astype(str).map(dicts['LADURB17'])\n",
    "test.ERNYR_P = np.where(test.ERNYR_P != 98.0, test.ERNYR_P, 99.0)\n",
    "test.ERNYR_P = test.ERNYR_P.fillna(99).astype(int).astype(str).str.zfill(2).map(dicts['ERNYR_P'])\n",
    "\n",
    "ok = test.groupby('SRVY_YR').apply(lambda x:x.groupby('ERNYR_P').apply(lambda x:x.groupby('LADURB17').count()))\n",
    "ok = ok.drop(\"ERNYR_P\", axis=1)\n",
    "ok.columns = ['Counts']\n",
    "final = ok.reset_index()\n",
    "final = final.groupby(['SRVY_YR','ERNYR_P']).apply(lambda x:x.groupby([x.index, 'LADURB17'])['Counts'].aggregate('first').unstack()).reset_index()\n",
    "final = final.drop(\"level_2\", axis=1).fillna(0).groupby(['SRVY_YR','ERNYR_P']).sum().reset_index()\n",
    "\n",
    "order = [0,7,1,2,3,4,5,6,8,9,10,12]\n",
    "xax = [final.ERNYR_P.unique()[i] for i in order]\n",
    "final.SRVY_YR = final.SRVY_YR.astype(str)\n",
    "years = sorted(final.SRVY_YR.unique())\n",
    "\n",
    "output_file('incodepr.html', title = 'Income Level x Depression Length')\n",
    "\n",
    "# Set up the slider.\n",
    "\n",
    "start = 0\n",
    "end = 11\n",
    "slider = Slider(start = start, end = end, step = 1, value = start)\n",
    "\n",
    "\n",
    "# Set up figure.\n",
    "p = figure(title = years[start], width = 500, height = 500, x_axis_label='Income Level', y_axis_label = 'Counts', x_range=xax, y_range = (0, 100))\n",
    "\n",
    "# # Set up data sources.\n",
    "source = ColumnDataSource(final)\n",
    "view = CDSView(source = source, filters = [GroupFilter(column_name = \"SRVY_YR\", group = years[start])])\n",
    "\n",
    "p.vbar_stack(['Less than 3 months ', '3-5 months ','6-12 months ','More than 1 year ', 'Refused '], x = 'ERNYR_P', width=0.5, \n",
    "             color=['green', 'orange', 'blue', 'red', 'purple'], source=source, \n",
    "             view = view, legend = [value(x) for x in ['Less than 3 months ', '3-5 months ','6-12 months ','More than 1 year ', 'Refused ']])\n",
    "\n",
    "p.xaxis.major_label_orientation = \"vertical\"\n",
    "p.legend.orientation = \"vertical\"\n",
    "p.legend.location = \"top_right\"\n",
    "\n",
    "\n",
    "# ------------------------------------------------------------\n",
    "# Set up the JavaScript callback.\n",
    "# Use cb_obj to refer to the caller widget from a JavaScript callback.\n",
    "callback = CustomJS(args = {\"source\": source, \"view\": view, \"figure\": p, \"date\": years}, code = \"\"\"\n",
    "    // This is the JavaScript code that will run whenever the slider is changed.\n",
    "    // You can use the console.log() function to print values.\n",
    "    \n",
    "    var value = date[cb_obj.value]\n",
    "    view.filters[0].group = value;\n",
    "    figure.title.text = value;\n",
    "    \n",
    "    // Let Bokeh know the data source has changed.\n",
    "    source.change.emit();\n",
    "\"\"\")\n",
    "\n",
    "slider.js_on_change(\"value\", callback)\n",
    "\n",
    "# ------------------------------------------------------------\n",
    "\n",
    "# Finally, set up the layout and show everything.\n",
    "layout = bokeh.layouts.Column(slider, p)\n",
    "show(layout)"
   ]
  },
  {
   "cell_type": "code",
   "execution_count": null,
   "metadata": {},
   "outputs": [],
   "source": [
    "final.groupby('SRVY_YR').apply(lambda x:x.iloc[:,2:].sum()[\"Don't know \"])"
   ]
  },
  {
   "cell_type": "code",
   "execution_count": null,
   "metadata": {},
   "outputs": [],
   "source": [
    "test.groupby('SRVY_YR').size()"
   ]
  },
  {
   "cell_type": "code",
   "execution_count": null,
   "metadata": {},
   "outputs": [],
   "source": [
    "dicts['ERNYR_P']\n",
    "# ERNYR_P LADURB17 SRVY_YR"
   ]
  },
  {
   "cell_type": "markdown",
   "metadata": {},
   "source": [
    "After looking at the data for one year, we wanted to do the same for each year in the survey data.\n",
    "After cleaning the data, we plotted an interactive plot to show the distribution of each year's reported depression length by income level. "
   ]
  },
  {
   "cell_type": "markdown",
   "metadata": {},
   "source": [
    "The plot shows that as time goes on, there were more reports of depression at each income level. This could suggest more people are becoming okay with sharing the information about themselves. \n",
    "It was also noted that each year had about 75000 to 110000 observations. However, most of these obsevations did not have a reported depression length either from the person not knowing if they were depressed or not wanting to report it or leaving the question empty. About 95% of the observations did not have a value for length of depression. This plot showcased the 5% that reported a depression length. The number of observations from each year increasd as the year went up until 2014. That year the number of observations peaked and the number of observations declined after.\n",
    "\n",
    "The general trend of the distributions for each year was similar to each other. Each year the lowest income level had the highest counts of reported depression. The $65,000 to $75,000 income level had the least reported depression lengths. The general trend between income level and depression was lower income level, more counts of reported depression and higher income level, less counts of reported depression. \n",
    "\n",
    "More than 1 year of depression was the majority of the counts for most of the income levels in each year. As each year passes, it is possible that the reported depression favors the more than one year of depression option. If the people from the previous year were still depressed, they would be in the more than one year option for the next years. "
   ]
  },
  {
   "cell_type": "code",
   "execution_count": null,
   "metadata": {},
   "outputs": [],
   "source": []
  }
 ],
 "metadata": {
  "kernelspec": {
   "display_name": "Python 3",
   "language": "python",
   "name": "python3"
  },
  "language_info": {
   "codemirror_mode": {
    "name": "ipython",
    "version": 3
   },
   "file_extension": ".py",
   "mimetype": "text/x-python",
   "name": "python",
   "nbconvert_exporter": "python",
   "pygments_lexer": "ipython3",
   "version": "3.7.1"
  }
 },
 "nbformat": 4,
 "nbformat_minor": 2
}
