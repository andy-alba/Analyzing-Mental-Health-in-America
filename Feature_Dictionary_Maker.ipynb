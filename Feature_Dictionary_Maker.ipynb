{
 "cells": [
  {
   "cell_type": "code",
   "execution_count": 2,
   "metadata": {},
   "outputs": [],
   "source": [
    "import pandas as pd\n",
    "import numpy as np\n",
    "import seaborn as sns\n",
    "import matplotlib.pyplot as plt"
   ]
  },
  {
   "cell_type": "code",
   "execution_count": null,
   "metadata": {},
   "outputs": [],
   "source": [
    "# run this to setup and save the dictionaries as dicts\n",
    "# this is the csv I sent to the group\n",
    "df = pd.read_csv('../../../stuff.csv')\n",
    "\n",
    "df.loc[:,df.columns[1]].fillna(method = 'ffill', inplace = True)\n",
    "df.drop(df.columns[0] ,axis = 1, inplace = True)\n",
    "df.set_index(keys=[\"Feature name in Doc\"],inplace=True)\n",
    "df.iloc[:3,:] = np.nan\n",
    "df = df[\"How it's recorded\"].str.split(\" \", 1, expand = True)\n",
    "df.columns = ['key', 'value']\n",
    "dicts = df.groupby([df.index.get_level_values(0)]).apply(lambda x:dict(zip(x.key, x.value)))"
   ]
  },
  {
   "cell_type": "code",
   "execution_count": 32,
   "metadata": {},
   "outputs": [
    {
     "data": {
      "text/plain": [
       "'male'"
      ]
     },
     "execution_count": 32,
     "metadata": {},
     "output_type": "execute_result"
    }
   ],
   "source": [
    "def valueof(feat, key):\n",
    "    \"\"\"Takes in the featuredocname and the value of interest. \n",
    "    Returns the meaning of the value. If the featuedocname or the value is invalid,\n",
    "    None will be returned.\"\"\"\n",
    "    try:\n",
    "        dicts[feat][key]\n",
    "    except:\n",
    "        return None\n",
    "    return dicts[feat][key]\n",
    "valueof('SEX','1')"
   ]
  },
  {
   "cell_type": "code",
   "execution_count": 18,
   "metadata": {},
   "outputs": [
    {
     "data": {
      "text/plain": [
       "2    40229\n",
       "1    37903\n",
       "Name: SEX, dtype: int64"
      ]
     },
     "execution_count": 18,
     "metadata": {},
     "output_type": "execute_result"
    }
   ],
   "source": [
    "data.SEX.value_counts()"
   ]
  },
  {
   "cell_type": "code",
   "execution_count": 21,
   "metadata": {},
   "outputs": [
    {
     "data": {
      "text/plain": [
       "1    32196\n",
       "7    16359\n",
       "0    13975\n",
       "5     5542\n",
       "8     4456\n",
       "4     3663\n",
       "6     1086\n",
       "2      693\n",
       "9      162\n",
       "Name: R_MARITL, dtype: int64"
      ]
     },
     "execution_count": 21,
     "metadata": {},
     "output_type": "execute_result"
    }
   ],
   "source": [
    "data.R_MARITL.value_counts()"
   ]
  },
  {
   "cell_type": "code",
   "execution_count": 30,
   "metadata": {},
   "outputs": [
    {
     "name": "stderr",
     "output_type": "stream",
     "text": [
      "/Users/family/anaconda3/lib/python3.7/site-packages/scipy/stats/stats.py:1713: FutureWarning: Using a non-tuple sequence for multidimensional indexing is deprecated; use `arr[tuple(seq)]` instead of `arr[seq]`. In the future this will be interpreted as an array index, `arr[np.array(seq)]`, which will result either in an error or a different result.\n",
      "  return np.add.reduce(sorted[indexer] * weights, axis=axis) / sumval\n"
     ]
    },
    {
     "data": {
      "image/png": "[encoded data removed]",
      "text/plain": [
       "<Figure size 432x288 with 1 Axes>"
      ]
     },
     "metadata": {
      "needs_background": "light"
     },
     "output_type": "display_data"
    }
   ],
   "source": [
    "# data.AGE_P.value_counts()\n",
    "ax = sns.distplot(data.AGE_P,kde = False)"
   ]
  }
 ],
 "metadata": {
  "kernelspec": {
   "display_name": "Python 3",
   "language": "python",
   "name": "python3"
  },
  "language_info": {
   "codemirror_mode": {
    "name": "ipython",
    "version": 3
   },
   "file_extension": ".py",
   "mimetype": "text/x-python",
   "name": "python",
   "nbconvert_exporter": "python",
   "pygments_lexer": "ipython3",
   "version": "3.7.1"
  }
 },
 "nbformat": 4,
 "nbformat_minor": 2
}
