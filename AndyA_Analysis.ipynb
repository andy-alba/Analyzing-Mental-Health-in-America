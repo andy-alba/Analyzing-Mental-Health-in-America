{
 "cells": [
  {
   "cell_type": "code",
   "execution_count": 86,
   "metadata": {},
   "outputs": [],
   "source": [
    "# Data Science packages\n",
    "import pandas as pd\n",
    "import numpy as np\n",
    "\n",
    "# Graphing packages\n",
    "import seaborn as sns\n",
    "import matplotlib.pyplot as plt\n",
    "from plotnine import *\n",
    "\n",
    "# Interactive plot packages\n",
    "import plotly\n",
    "import plotly.plotly as py\n",
    "import plotly.graph_objs as go"
   ]
  },
  {
   "cell_type": "code",
   "execution_count": 87,
   "metadata": {},
   "outputs": [],
   "source": [
    "def read_key(keyfile):\n",
    "    with open(keyfile) as f:\n",
    "        return f.readline().strip(\"\\n\")\n",
    "    \n",
    "key = read_key(\"../keys/plotly_key.txt\")\n",
    "\n",
    "plotly.tools.set_credentials_file(username = 'aialba', api_key = key)"
   ]
  },
  {
   "cell_type": "code",
   "execution_count": 223,
   "metadata": {
    "scrolled": true
   },
   "outputs": [
    {
     "data": {
      "text/html": [
       "<div>\n",
       "<style scoped>\n",
       "    .dataframe tbody tr th:only-of-type {\n",
       "        vertical-align: middle;\n",
       "    }\n",
       "\n",
       "    .dataframe tbody tr th {\n",
       "        vertical-align: top;\n",
       "    }\n",
       "\n",
       "    .dataframe thead th {\n",
       "        text-align: right;\n",
       "    }\n",
       "</style>\n",
       "<table border=\"1\" class=\"dataframe\">\n",
       "  <thead>\n",
       "    <tr style=\"text-align: right;\">\n",
       "      <th></th>\n",
       "      <th>SEX</th>\n",
       "      <th>NOWAF</th>\n",
       "      <th>FMX</th>\n",
       "      <th>RACRECI3</th>\n",
       "      <th>R_MARITL</th>\n",
       "      <th>HISCODI3</th>\n",
       "      <th>AGE_P</th>\n",
       "      <th>SRVY_YR</th>\n",
       "      <th>PARENTS</th>\n",
       "      <th>DAD_DEGP</th>\n",
       "      <th>...</th>\n",
       "      <th>LADURA18</th>\n",
       "      <th>LADURB17</th>\n",
       "      <th>LADURB18</th>\n",
       "      <th>LACHRC17</th>\n",
       "      <th>LACHRC18</th>\n",
       "      <th>HIKINDNK</th>\n",
       "      <th>YRSINUS</th>\n",
       "      <th>CITIZENP</th>\n",
       "      <th>EDUC1</th>\n",
       "      <th>ERNYR_P</th>\n",
       "    </tr>\n",
       "  </thead>\n",
       "  <tbody>\n",
       "    <tr>\n",
       "      <th>0</th>\n",
       "      <td>2</td>\n",
       "      <td>0.0</td>\n",
       "      <td>1</td>\n",
       "      <td>1</td>\n",
       "      <td>4</td>\n",
       "      <td>2</td>\n",
       "      <td>65</td>\n",
       "      <td>2017</td>\n",
       "      <td>4</td>\n",
       "      <td>0.0</td>\n",
       "      <td>...</td>\n",
       "      <td>0.0</td>\n",
       "      <td>0.0</td>\n",
       "      <td>0.0</td>\n",
       "      <td>0.0</td>\n",
       "      <td>0.0</td>\n",
       "      <td>2</td>\n",
       "      <td>0.0</td>\n",
       "      <td>1</td>\n",
       "      <td>15</td>\n",
       "      <td>0.0</td>\n",
       "    </tr>\n",
       "    <tr>\n",
       "      <th>1</th>\n",
       "      <td>2</td>\n",
       "      <td>2.0</td>\n",
       "      <td>1</td>\n",
       "      <td>2</td>\n",
       "      <td>7</td>\n",
       "      <td>3</td>\n",
       "      <td>27</td>\n",
       "      <td>2017</td>\n",
       "      <td>4</td>\n",
       "      <td>0.0</td>\n",
       "      <td>...</td>\n",
       "      <td>0.0</td>\n",
       "      <td>0.0</td>\n",
       "      <td>0.0</td>\n",
       "      <td>0.0</td>\n",
       "      <td>0.0</td>\n",
       "      <td>2</td>\n",
       "      <td>0.0</td>\n",
       "      <td>1</td>\n",
       "      <td>13</td>\n",
       "      <td>0.0</td>\n",
       "    </tr>\n",
       "    <tr>\n",
       "      <th>2</th>\n",
       "      <td>1</td>\n",
       "      <td>0.0</td>\n",
       "      <td>1</td>\n",
       "      <td>2</td>\n",
       "      <td>0</td>\n",
       "      <td>3</td>\n",
       "      <td>10</td>\n",
       "      <td>2017</td>\n",
       "      <td>1</td>\n",
       "      <td>0.0</td>\n",
       "      <td>...</td>\n",
       "      <td>0.0</td>\n",
       "      <td>0.0</td>\n",
       "      <td>0.0</td>\n",
       "      <td>0.0</td>\n",
       "      <td>0.0</td>\n",
       "      <td>2</td>\n",
       "      <td>0.0</td>\n",
       "      <td>1</td>\n",
       "      <td>3</td>\n",
       "      <td>0.0</td>\n",
       "    </tr>\n",
       "    <tr>\n",
       "      <th>3</th>\n",
       "      <td>1</td>\n",
       "      <td>2.0</td>\n",
       "      <td>1</td>\n",
       "      <td>1</td>\n",
       "      <td>7</td>\n",
       "      <td>2</td>\n",
       "      <td>19</td>\n",
       "      <td>2017</td>\n",
       "      <td>4</td>\n",
       "      <td>0.0</td>\n",
       "      <td>...</td>\n",
       "      <td>0.0</td>\n",
       "      <td>0.0</td>\n",
       "      <td>0.0</td>\n",
       "      <td>0.0</td>\n",
       "      <td>0.0</td>\n",
       "      <td>2</td>\n",
       "      <td>0.0</td>\n",
       "      <td>1</td>\n",
       "      <td>15</td>\n",
       "      <td>1.0</td>\n",
       "    </tr>\n",
       "    <tr>\n",
       "      <th>4</th>\n",
       "      <td>2</td>\n",
       "      <td>2.0</td>\n",
       "      <td>1</td>\n",
       "      <td>1</td>\n",
       "      <td>1</td>\n",
       "      <td>2</td>\n",
       "      <td>43</td>\n",
       "      <td>2017</td>\n",
       "      <td>4</td>\n",
       "      <td>0.0</td>\n",
       "      <td>...</td>\n",
       "      <td>0.0</td>\n",
       "      <td>0.0</td>\n",
       "      <td>0.0</td>\n",
       "      <td>0.0</td>\n",
       "      <td>0.0</td>\n",
       "      <td>2</td>\n",
       "      <td>0.0</td>\n",
       "      <td>1</td>\n",
       "      <td>14</td>\n",
       "      <td>0.0</td>\n",
       "    </tr>\n",
       "  </tbody>\n",
       "</table>\n",
       "<p>5 rows × 31 columns</p>\n",
       "</div>"
      ],
      "text/plain": [
       "   SEX  NOWAF  FMX  RACRECI3  R_MARITL  HISCODI3  AGE_P  SRVY_YR  PARENTS  \\\n",
       "0    2    0.0    1         1         4         2     65     2017        4   \n",
       "1    2    2.0    1         2         7         3     27     2017        4   \n",
       "2    1    0.0    1         2         0         3     10     2017        1   \n",
       "3    1    2.0    1         1         7         2     19     2017        4   \n",
       "4    2    2.0    1         1         1         2     43     2017        4   \n",
       "\n",
       "   DAD_DEGP   ...     LADURA18  LADURB17  LADURB18  LACHRC17  LACHRC18  \\\n",
       "0       0.0   ...          0.0       0.0       0.0       0.0       0.0   \n",
       "1       0.0   ...          0.0       0.0       0.0       0.0       0.0   \n",
       "2       0.0   ...          0.0       0.0       0.0       0.0       0.0   \n",
       "3       0.0   ...          0.0       0.0       0.0       0.0       0.0   \n",
       "4       0.0   ...          0.0       0.0       0.0       0.0       0.0   \n",
       "\n",
       "   HIKINDNK  YRSINUS  CITIZENP  EDUC1  ERNYR_P  \n",
       "0         2      0.0         1     15      0.0  \n",
       "1         2      0.0         1     13      0.0  \n",
       "2         2      0.0         1      3      0.0  \n",
       "3         2      0.0         1     15      1.0  \n",
       "4         2      0.0         1     14      0.0  \n",
       "\n",
       "[5 rows x 31 columns]"
      ]
     },
     "execution_count": 223,
     "metadata": {},
     "output_type": "execute_result"
    }
   ],
   "source": [
    "cols = pd.read_csv('../stuff.csv')\n",
    "\n",
    "cols\n",
    "\n",
    "df_2017 = pd.read_csv('../personsx.csv', usecols = cols['Feature name in Doc'])\n",
    "df_2017 = df_2017.fillna(0)\n",
    "df_2017.head()"
   ]
  },
  {
   "cell_type": "markdown",
   "metadata": {},
   "source": [
    "## Distribution of Income"
   ]
  },
  {
   "cell_type": "code",
   "execution_count": 184,
   "metadata": {
    "scrolled": false
   },
   "outputs": [
    {
     "data": {
      "text/plain": [
       "Unknown            38573\n",
       "75,000 and over     6276\n",
       "25,000-34,999       4322\n",
       "Don't know          4167\n",
       "Refused             3890\n",
       "35,000-44,999       3672\n",
       "45,000-54,999       3088\n",
       "55,000-64,999       2387\n",
       "20,000-24,999       2347\n",
       "01-4,999            2066\n",
       "15,000-19,999       1942\n",
       "10,000-14,999       1933\n",
       "05,000-9,999        1739\n",
       "65,000-74,999       1707\n",
       "Not ascertained       23\n",
       "Name: ERNYR_P, dtype: int64"
      ]
     },
     "execution_count": 184,
     "metadata": {},
     "output_type": "execute_result"
    }
   ],
   "source": [
    "ernyr_p_key = {1: '01-4,999', 2: '05,000-9,999', 3: '10,000-14,999',\n",
    "               4:'15,000-19,999', 5: '20,000-24,999', 6: '25,000-34,999',\n",
    "              7: '35,000-44,999', 8: '45,000-54,999', 9: '55,000-64,999',\n",
    "              10: '65,000-74,999', 11: '75,000 and over', 0: 'Unknown',\n",
    "              97: 'Refused', 98: 'Not ascertained', 99: 'Don\\'t know'}\n",
    "\n",
    "df_2017 = df_2017.sort_values(by = ['ERNYR_P'])\n",
    "df_2017['ERNYR_P'] = df_2017['ERNYR_P'].apply(lambda x: ernyr_p_key[x])\n",
    "df_2017['ERNYR_P'].value_counts()"
   ]
  },
  {
   "cell_type": "code",
   "execution_count": 92,
   "metadata": {
    "scrolled": true
   },
   "outputs": [],
   "source": [
    "not_unknown = [(a != 'Unknown') for a in df_2017['ERNYR_P']]\n",
    "incomes = df_2017['ERNYR_P'][not_unknown]"
   ]
  },
  {
   "cell_type": "code",
   "execution_count": 68,
   "metadata": {
    "scrolled": true
   },
   "outputs": [
    {
     "data": {
      "text/plain": [
       "[Text(0, 0.5, 'Persons'), Text(0.5, 0, 'Earnings (USD)')]"
      ]
     },
     "execution_count": 68,
     "metadata": {},
     "output_type": "execute_result"
    },
    {
     "data": {
      "image/png": "[encoded data removed]",
      "text/plain": [
       "<Figure size 1728x360 with 1 Axes>"
      ]
     },
     "metadata": {
      "needs_background": "light"
     },
     "output_type": "display_data"
    }
   ],
   "source": [
    "plt.figure(figsize = (24, 5))\n",
    "\n",
    "income_plot = sns.countplot(x = incomes)\n",
    "income_plot.set_xticklabels(income_plot.get_xticklabels(), rotation = -5)\n",
    "income_plot.set(xlabel = 'Earnings (USD)', ylabel = 'Persons')"
   ]
  },
  {
   "cell_type": "markdown",
   "metadata": {},
   "source": [
    "## Plot for Depression"
   ]
  },
  {
   "cell_type": "code",
   "execution_count": 188,
   "metadata": {},
   "outputs": [
    {
     "data": {
      "text/plain": [
       "Depressed for More than 1 year      1443\n",
       "Depressed for 6-12 months             59\n",
       "Don't Know                            10\n",
       "Depressed for 3-5 months               8\n",
       "Depressed for Less than 2 months       8\n",
       "Refused                                5\n",
       "Not Ascertained                        1\n",
       "Name: LADURB17, dtype: int64"
      ]
     },
     "execution_count": 188,
     "metadata": {},
     "output_type": "execute_result"
    }
   ],
   "source": [
    "ladurb17_key = {1: 'Depressed for Less than 2 months', 2: 'Depressed for 3-5 months', \n",
    "                3: 'Depressed for 6-12 months', 4: 'Depressed for More than 1 year',\n",
    "               7: 'Refused', 8: 'Not Ascertained', 9: 'Don\\'t Know' , 0: 'Unknown'}\n",
    "\n",
    "df_2017 = df_2017.sort_values( by = ['LADURB17'])\n",
    "df_2017['LADURB17'] = df_2017['LADURB17'].apply(lambda x: ladurb17_key[x])\n",
    "\n",
    "not_unknown = [(a != 'Unknown') for a in df_2017['LADURB17']]\n",
    "depression = df_2017['LADURB17'][not_unknown]\n",
    "depression.value_counts()"
   ]
  },
  {
   "cell_type": "code",
   "execution_count": 85,
   "metadata": {
    "scrolled": true
   },
   "outputs": [
    {
     "data": {
      "image/png": "[encoded data removed]",
      "text/plain": [
       "<Figure size 1728x360 with 1 Axes>"
      ]
     },
     "metadata": {
      "needs_background": "light"
     },
     "output_type": "display_data"
    }
   ],
   "source": [
    "plt.figure(figsize = (24, 5))\n",
    "\n",
    "depression_plot = sns.countplot(x = depression)"
   ]
  },
  {
   "cell_type": "markdown",
   "metadata": {},
   "source": [
    "## Plot for Depression by Income Level"
   ]
  },
  {
   "cell_type": "code",
   "execution_count": 189,
   "metadata": {
    "scrolled": true
   },
   "outputs": [
    {
     "name": "stderr",
     "output_type": "stream",
     "text": [
      "/Users/Andy/anaconda3/lib/python3.7/site-packages/ipykernel_launcher.py:15: SettingWithCopyWarning:\n",
      "\n",
      "\n",
      "A value is trying to be set on a copy of a slice from a DataFrame.\n",
      "Try using .loc[row_indexer,col_indexer] = value instead\n",
      "\n",
      "See the caveats in the documentation: http://pandas.pydata.org/pandas-docs/stable/indexing.html#indexing-view-versus-copy\n",
      "\n",
      "/Users/Andy/anaconda3/lib/python3.7/site-packages/ipykernel_launcher.py:16: SettingWithCopyWarning:\n",
      "\n",
      "\n",
      "A value is trying to be set on a copy of a slice from a DataFrame.\n",
      "Try using .loc[row_indexer,col_indexer] = value instead\n",
      "\n",
      "See the caveats in the documentation: http://pandas.pydata.org/pandas-docs/stable/indexing.html#indexing-view-versus-copy\n",
      "\n"
     ]
    },
    {
     "data": {
      "text/html": [
       "<div>\n",
       "<style scoped>\n",
       "    .dataframe tbody tr th:only-of-type {\n",
       "        vertical-align: middle;\n",
       "    }\n",
       "\n",
       "    .dataframe tbody tr th {\n",
       "        vertical-align: top;\n",
       "    }\n",
       "\n",
       "    .dataframe thead th {\n",
       "        text-align: right;\n",
       "    }\n",
       "</style>\n",
       "<table border=\"1\" class=\"dataframe\">\n",
       "  <thead>\n",
       "    <tr style=\"text-align: right;\">\n",
       "      <th></th>\n",
       "      <th>ERNYR_P</th>\n",
       "      <th>LADURB17</th>\n",
       "    </tr>\n",
       "  </thead>\n",
       "  <tbody>\n",
       "    <tr>\n",
       "      <th>5580</th>\n",
       "      <td>01-4,999</td>\n",
       "      <td>Depressed for 6-12 months</td>\n",
       "    </tr>\n",
       "    <tr>\n",
       "      <th>9187</th>\n",
       "      <td>01-4,999</td>\n",
       "      <td>Depressed for 6-12 months</td>\n",
       "    </tr>\n",
       "    <tr>\n",
       "      <th>21989</th>\n",
       "      <td>01-4,999</td>\n",
       "      <td>Depressed for 6-12 months</td>\n",
       "    </tr>\n",
       "    <tr>\n",
       "      <th>25516</th>\n",
       "      <td>01-4,999</td>\n",
       "      <td>Depressed for 6-12 months</td>\n",
       "    </tr>\n",
       "    <tr>\n",
       "      <th>25696</th>\n",
       "      <td>01-4,999</td>\n",
       "      <td>Depressed for 6-12 months</td>\n",
       "    </tr>\n",
       "  </tbody>\n",
       "</table>\n",
       "</div>"
      ],
      "text/plain": [
       "        ERNYR_P                   LADURB17\n",
       "5580   01-4,999  Depressed for 6-12 months\n",
       "9187   01-4,999  Depressed for 6-12 months\n",
       "21989  01-4,999  Depressed for 6-12 months\n",
       "25516  01-4,999  Depressed for 6-12 months\n",
       "25696  01-4,999  Depressed for 6-12 months"
      ]
     },
     "execution_count": 189,
     "metadata": {},
     "output_type": "execute_result"
    }
   ],
   "source": [
    "# Reading in the Column names\n",
    "cols = pd.read_csv('../stuff.csv')\n",
    "\n",
    "# Reading the CSV\n",
    "df_2017 = pd.read_csv('../personsx.csv', usecols = cols['Feature name in Doc'])\n",
    "df_2017 = df_2017.fillna(0)\n",
    "\n",
    "# Sorting it by the columns of interest\n",
    "df_2017 = df_2017.sort_values(by = ['ERNYR_P', 'LADURB17'])\n",
    "\n",
    "# Subsetting the DF to only columns of interest\n",
    "df = df_2017[['ERNYR_P', 'LADURB17']]\n",
    "\n",
    "# Renaming the factor levels\n",
    "df['ERNYR_P'] = df['ERNYR_P'].apply(lambda x: str(ernyr_p_key[x]))\n",
    "df['LADURB17'] = df['LADURB17'].apply(lambda x: str(ladurb17_key[x]))\n",
    "\n",
    "# Removing the NA factor values\n",
    "df = df[df['LADURB17'] != 'Unknown']\n",
    "df = df[df['ERNYR_P'] != 'Unknown']\n",
    "df.head()"
   ]
  },
  {
   "cell_type": "code",
   "execution_count": 115,
   "metadata": {
    "scrolled": true
   },
   "outputs": [
    {
     "data": {
      "text/html": [
       "<div>\n",
       "<style scoped>\n",
       "    .dataframe tbody tr th:only-of-type {\n",
       "        vertical-align: middle;\n",
       "    }\n",
       "\n",
       "    .dataframe tbody tr th {\n",
       "        vertical-align: top;\n",
       "    }\n",
       "\n",
       "    .dataframe thead th {\n",
       "        text-align: right;\n",
       "    }\n",
       "</style>\n",
       "<table border=\"1\" class=\"dataframe\">\n",
       "  <thead>\n",
       "    <tr style=\"text-align: right;\">\n",
       "      <th></th>\n",
       "      <th>Depression Length</th>\n",
       "      <th>Income</th>\n",
       "      <th>Count</th>\n",
       "    </tr>\n",
       "  </thead>\n",
       "  <tbody>\n",
       "    <tr>\n",
       "      <th>0</th>\n",
       "      <td>More than 1 year</td>\n",
       "      <td>$01-$4,999</td>\n",
       "      <td>71</td>\n",
       "    </tr>\n",
       "    <tr>\n",
       "      <th>1</th>\n",
       "      <td>More than 1 year</td>\n",
       "      <td>Don't know</td>\n",
       "      <td>44</td>\n",
       "    </tr>\n",
       "    <tr>\n",
       "      <th>2</th>\n",
       "      <td>More than 1 year</td>\n",
       "      <td>$5,000-$9,999</td>\n",
       "      <td>40</td>\n",
       "    </tr>\n",
       "    <tr>\n",
       "      <th>3</th>\n",
       "      <td>More than 1 year</td>\n",
       "      <td>$25,000-$34,999</td>\n",
       "      <td>31</td>\n",
       "    </tr>\n",
       "    <tr>\n",
       "      <th>4</th>\n",
       "      <td>More than 1 year</td>\n",
       "      <td>$10,000-$14,999</td>\n",
       "      <td>28</td>\n",
       "    </tr>\n",
       "    <tr>\n",
       "      <th>5</th>\n",
       "      <td>More than 1 year</td>\n",
       "      <td>$35,000-$44,999</td>\n",
       "      <td>23</td>\n",
       "    </tr>\n",
       "    <tr>\n",
       "      <th>6</th>\n",
       "      <td>More than 1 year</td>\n",
       "      <td>$15,000-$19,999</td>\n",
       "      <td>20</td>\n",
       "    </tr>\n",
       "    <tr>\n",
       "      <th>7</th>\n",
       "      <td>More than 1 year</td>\n",
       "      <td>$75,000 and over</td>\n",
       "      <td>18</td>\n",
       "    </tr>\n",
       "    <tr>\n",
       "      <th>8</th>\n",
       "      <td>More than 1 year</td>\n",
       "      <td>$20,000-$24,999</td>\n",
       "      <td>18</td>\n",
       "    </tr>\n",
       "    <tr>\n",
       "      <th>9</th>\n",
       "      <td>More than 1 year</td>\n",
       "      <td>$55,000-$64,999</td>\n",
       "      <td>15</td>\n",
       "    </tr>\n",
       "    <tr>\n",
       "      <th>10</th>\n",
       "      <td>More than 1 year</td>\n",
       "      <td>$45,000-$54,999</td>\n",
       "      <td>14</td>\n",
       "    </tr>\n",
       "    <tr>\n",
       "      <th>11</th>\n",
       "      <td>More than 1 year</td>\n",
       "      <td>Refused</td>\n",
       "      <td>9</td>\n",
       "    </tr>\n",
       "    <tr>\n",
       "      <th>12</th>\n",
       "      <td>More than 1 year</td>\n",
       "      <td>$65,000-$74,999</td>\n",
       "      <td>6</td>\n",
       "    </tr>\n",
       "  </tbody>\n",
       "</table>\n",
       "</div>"
      ],
      "text/plain": [
       "   Depression Length            Income  Count\n",
       "0   More than 1 year        $01-$4,999     71\n",
       "1   More than 1 year        Don't know     44\n",
       "2   More than 1 year     $5,000-$9,999     40\n",
       "3   More than 1 year   $25,000-$34,999     31\n",
       "4   More than 1 year   $10,000-$14,999     28\n",
       "5   More than 1 year   $35,000-$44,999     23\n",
       "6   More than 1 year   $15,000-$19,999     20\n",
       "7   More than 1 year  $75,000 and over     18\n",
       "8   More than 1 year   $20,000-$24,999     18\n",
       "9   More than 1 year   $55,000-$64,999     15\n",
       "10  More than 1 year   $45,000-$54,999     14\n",
       "11  More than 1 year           Refused      9\n",
       "12  More than 1 year   $65,000-$74,999      6"
      ]
     },
     "execution_count": 115,
     "metadata": {},
     "output_type": "execute_result"
    }
   ],
   "source": [
    "df = df[['LADURB17', 'ERNYR_P']]\n",
    "df.head()\n",
    "\n",
    "temp = pd.DataFrame(df[df['LADURB17'] == 'More than 1 year']['ERNYR_P'].value_counts())\n",
    "temp = temp.reset_index()\n",
    "temp.columns = ['Income', 'Count']\n",
    "temp['Depression Length'] = 'More than 1 year'\n",
    "temp = temp[['Depression Length', 'Income', 'Count']]\n",
    "temp"
   ]
  },
  {
   "cell_type": "code",
   "execution_count": 129,
   "metadata": {
    "scrolled": true
   },
   "outputs": [
    {
     "data": {
      "text/plain": [
       "More than 1 year      1443\n",
       "6-12 months             59\n",
       "Don't Know              10\n",
       "Less than 2 months       8\n",
       "3-5 months               8\n",
       "Refused                  5\n",
       "Not Ascertained          1\n",
       "Name: LADURB17, dtype: int64"
      ]
     },
     "execution_count": 129,
     "metadata": {},
     "output_type": "execute_result"
    }
   ],
   "source": [
    "df['LADURB17'].value_counts()"
   ]
  },
  {
   "cell_type": "code",
   "execution_count": 179,
   "metadata": {},
   "outputs": [],
   "source": [
    "def make_df_for_counts(df, category, second_category, value, name1, name2):\n",
    "    temp = pd.DataFrame(df[df[category] == value][second_category].value_counts())\n",
    "    temp = temp.reset_index()\n",
    "    temp.columns = [name2, 'Count']\n",
    "    temp[name1] = value\n",
    "    temp = temp[[name1, name2, 'Count']]\n",
    "    temp = temp.sort_values([name2])\n",
    "    return temp\n",
    "\n",
    "def make_trace(df, category, value):\n",
    "    trace = go.Bar(\n",
    "        x = df[category],\n",
    "        y = df['Count'],\n",
    "        name = value\n",
    "    )\n",
    "    return trace"
   ]
  },
  {
   "cell_type": "code",
   "execution_count": 169,
   "metadata": {
    "scrolled": false
   },
   "outputs": [
    {
     "data": {
      "text/html": [
       "<div>\n",
       "<style scoped>\n",
       "    .dataframe tbody tr th:only-of-type {\n",
       "        vertical-align: middle;\n",
       "    }\n",
       "\n",
       "    .dataframe tbody tr th {\n",
       "        vertical-align: top;\n",
       "    }\n",
       "\n",
       "    .dataframe thead th {\n",
       "        text-align: right;\n",
       "    }\n",
       "</style>\n",
       "<table border=\"1\" class=\"dataframe\">\n",
       "  <thead>\n",
       "    <tr style=\"text-align: right;\">\n",
       "      <th></th>\n",
       "      <th>Depression Length</th>\n",
       "      <th>Income</th>\n",
       "      <th>Count</th>\n",
       "    </tr>\n",
       "  </thead>\n",
       "  <tbody>\n",
       "    <tr>\n",
       "      <th>0</th>\n",
       "      <td>More than 1 year</td>\n",
       "      <td>$01-$4,999</td>\n",
       "      <td>71</td>\n",
       "    </tr>\n",
       "    <tr>\n",
       "      <th>1</th>\n",
       "      <td>More than 1 year</td>\n",
       "      <td>Don't know</td>\n",
       "      <td>44</td>\n",
       "    </tr>\n",
       "    <tr>\n",
       "      <th>2</th>\n",
       "      <td>More than 1 year</td>\n",
       "      <td>$5,000-$9,999</td>\n",
       "      <td>40</td>\n",
       "    </tr>\n",
       "    <tr>\n",
       "      <th>3</th>\n",
       "      <td>More than 1 year</td>\n",
       "      <td>$25,000-$34,999</td>\n",
       "      <td>31</td>\n",
       "    </tr>\n",
       "    <tr>\n",
       "      <th>4</th>\n",
       "      <td>More than 1 year</td>\n",
       "      <td>$10,000-$14,999</td>\n",
       "      <td>28</td>\n",
       "    </tr>\n",
       "    <tr>\n",
       "      <th>5</th>\n",
       "      <td>More than 1 year</td>\n",
       "      <td>$35,000-$44,999</td>\n",
       "      <td>23</td>\n",
       "    </tr>\n",
       "    <tr>\n",
       "      <th>6</th>\n",
       "      <td>More than 1 year</td>\n",
       "      <td>$15,000-$19,999</td>\n",
       "      <td>20</td>\n",
       "    </tr>\n",
       "    <tr>\n",
       "      <th>7</th>\n",
       "      <td>More than 1 year</td>\n",
       "      <td>$75,000 and over</td>\n",
       "      <td>18</td>\n",
       "    </tr>\n",
       "    <tr>\n",
       "      <th>8</th>\n",
       "      <td>More than 1 year</td>\n",
       "      <td>$20,000-$24,999</td>\n",
       "      <td>18</td>\n",
       "    </tr>\n",
       "    <tr>\n",
       "      <th>9</th>\n",
       "      <td>More than 1 year</td>\n",
       "      <td>$55,000-$64,999</td>\n",
       "      <td>15</td>\n",
       "    </tr>\n",
       "    <tr>\n",
       "      <th>10</th>\n",
       "      <td>More than 1 year</td>\n",
       "      <td>$45,000-$54,999</td>\n",
       "      <td>14</td>\n",
       "    </tr>\n",
       "    <tr>\n",
       "      <th>11</th>\n",
       "      <td>More than 1 year</td>\n",
       "      <td>Refused</td>\n",
       "      <td>9</td>\n",
       "    </tr>\n",
       "    <tr>\n",
       "      <th>12</th>\n",
       "      <td>More than 1 year</td>\n",
       "      <td>$65,000-$74,999</td>\n",
       "      <td>6</td>\n",
       "    </tr>\n",
       "  </tbody>\n",
       "</table>\n",
       "</div>"
      ],
      "text/plain": [
       "   Depression Length            Income  Count\n",
       "0   More than 1 year        $01-$4,999     71\n",
       "1   More than 1 year        Don't know     44\n",
       "2   More than 1 year     $5,000-$9,999     40\n",
       "3   More than 1 year   $25,000-$34,999     31\n",
       "4   More than 1 year   $10,000-$14,999     28\n",
       "5   More than 1 year   $35,000-$44,999     23\n",
       "6   More than 1 year   $15,000-$19,999     20\n",
       "7   More than 1 year  $75,000 and over     18\n",
       "8   More than 1 year   $20,000-$24,999     18\n",
       "9   More than 1 year   $55,000-$64,999     15\n",
       "10  More than 1 year   $45,000-$54,999     14\n",
       "11  More than 1 year           Refused      9\n",
       "12  More than 1 year   $65,000-$74,999      6"
      ]
     },
     "execution_count": 169,
     "metadata": {},
     "output_type": "execute_result"
    }
   ],
   "source": [
    "make_df_for_counts(df, 'LADURB17', 'ERNYR_P', 'More than 1 year', 'Depression Length', 'Income')"
   ]
  },
  {
   "cell_type": "code",
   "execution_count": 178,
   "metadata": {},
   "outputs": [
    {
     "data": {
      "text/plain": [
       "array(['$01-$4,999', '$5,000-$9,999', '$10,000-$14,999',\n",
       "       '$15,000-$19,999', '$20,000-$24,999', '$25,000-$34,999',\n",
       "       '$35,000-$44,999', '$45,000-$54,999', '$55,000-$64,999',\n",
       "       '$65,000-$74,999', '$75,000 and over', 'Refused', \"Don't know\"],\n",
       "      dtype=object)"
      ]
     },
     "execution_count": 178,
     "metadata": {},
     "output_type": "execute_result"
    }
   ],
   "source": [
    "income_levels"
   ]
  },
  {
   "cell_type": "code",
   "execution_count": 192,
   "metadata": {},
   "outputs": [
    {
     "name": "stderr",
     "output_type": "stream",
     "text": [
      "/Users/Andy/anaconda3/lib/python3.7/site-packages/IPython/core/display.py:689: UserWarning:\n",
      "\n",
      "Consider using IPython.display.IFrame instead\n",
      "\n"
     ]
    },
    {
     "data": {
      "text/html": [
       "<iframe id=\"igraph\" scrolling=\"no\" style=\"border:none;\" seamless=\"seamless\" src=\"https://plot.ly/~aialba/8.embed\" height=\"525px\" width=\"100%\"></iframe>"
      ],
      "text/plain": [
       "<plotly.tools.PlotlyDisplay object>"
      ]
     },
     "execution_count": 192,
     "metadata": {},
     "output_type": "execute_result"
    }
   ],
   "source": [
    "depression_levels = df['LADURB17'].unique()\n",
    "\n",
    "traces = [ make_trace(\n",
    "    make_df_for_counts(df, 'LADURB17', 'ERNYR_P', a, 'Depression Length', 'Income'), 'Income', a) for a in depression_levels]\n",
    "\n",
    "layout = go.Layout(\n",
    "    barmode = 'stack',\n",
    "    showlegend = True,\n",
    "    title = 'Depression Length X Income', \n",
    "    \n",
    "    xaxis=dict(\n",
    "        title= 'Income Level (USD)',\n",
    "        titlefont=dict(\n",
    "            family='Arial, sans-serif',\n",
    "            size=18,\n",
    "            color='black'\n",
    "        )\n",
    "    ),\n",
    "    \n",
    "    yaxis = dict(\n",
    "        title = 'Count',\n",
    "        titlefont=dict(\n",
    "            family='Arial, sans-serif',\n",
    "            size=18,\n",
    "            color='black'\n",
    "        ),\n",
    "        \n",
    "        showticklabels=True,\n",
    "    )\n",
    ")\n",
    "\n",
    "fig = go.Figure(data=traces, layout=layout)\n",
    "plotly.offline.plot(fig, filename='depressionXincome.html')\n",
    "py.iplot(fig, filename= 'depression X income')"
   ]
  },
  {
   "cell_type": "markdown",
   "metadata": {},
   "source": [
    "## Plot of Age"
   ]
  },
  {
   "cell_type": "code",
   "execution_count": 224,
   "metadata": {
    "scrolled": true
   },
   "outputs": [],
   "source": [
    "df_age = df_2017\n",
    "\n",
    "df_age['LADURB17'] = df_age['LADURB17'].apply(lambda x: str(ladurb17_key[x]))\n",
    "df_age = df_age[df_age['LADURB17'] != 'Unknown']"
   ]
  },
  {
   "cell_type": "code",
   "execution_count": 226,
   "metadata": {
    "scrolled": true
   },
   "outputs": [
    {
     "data": {
      "text/plain": [
       "Depressed for More than 1 year      1443\n",
       "Depressed for 6-12 months             59\n",
       "Don't Know                            10\n",
       "Depressed for 3-5 months               8\n",
       "Depressed for Less than 2 months       8\n",
       "Refused                                5\n",
       "Not Ascertained                        1\n",
       "Name: LADURB17, dtype: int64"
      ]
     },
     "execution_count": 226,
     "metadata": {},
     "output_type": "execute_result"
    }
   ],
   "source": [
    "df_age['LADURB17'].value_counts()"
   ]
  },
  {
   "cell_type": "code",
   "execution_count": 228,
   "metadata": {},
   "outputs": [
    {
     "data": {
      "text/plain": [
       "<matplotlib.axes._subplots.AxesSubplot at 0x1c2373b588>"
      ]
     },
     "execution_count": 228,
     "metadata": {},
     "output_type": "execute_result"
    },
    {
     "data": {
      "image/png": "[encoded data removed]",
      "text/plain": [
       "<Figure size 1728x864 with 1 Axes>"
      ]
     },
     "metadata": {
      "needs_background": "light"
     },
     "output_type": "display_data"
    }
   ],
   "source": [
    "plt.figure(figsize = (24, 12))\n",
    "sns.countplot(df_age['AGE_P'])"
   ]
  },
  {
   "cell_type": "code",
   "execution_count": null,
   "metadata": {},
   "outputs": [],
   "source": [
    "age_dict = {'18-24': [18:24]}"
   ]
  },
  {
   "cell_type": "markdown",
   "metadata": {},
   "source": [
    "## Plot of Depression X Age"
   ]
  },
  {
   "cell_type": "code",
   "execution_count": 229,
   "metadata": {},
   "outputs": [
    {
     "ename": "SyntaxError",
     "evalue": "invalid syntax (<ipython-input-229-9176647319fe>, line 1)",
     "output_type": "error",
     "traceback": [
      "\u001b[0;36m  File \u001b[0;32m\"<ipython-input-229-9176647319fe>\"\u001b[0;36m, line \u001b[0;32m1\u001b[0m\n\u001b[0;31m    [18:24]\u001b[0m\n\u001b[0m       ^\u001b[0m\n\u001b[0;31mSyntaxError\u001b[0m\u001b[0;31m:\u001b[0m invalid syntax\n"
     ]
    }
   ],
   "source": [
    "[18:24]"
   ]
  },
  {
   "cell_type": "code",
   "execution_count": null,
   "metadata": {},
   "outputs": [],
   "source": []
  }
 ],
 "metadata": {
  "kernelspec": {
   "display_name": "Python 3",
   "language": "python",
   "name": "python3"
  },
  "language_info": {
   "codemirror_mode": {
    "name": "ipython",
    "version": 3
   },
   "file_extension": ".py",
   "mimetype": "text/x-python",
   "name": "python",
   "nbconvert_exporter": "python",
   "pygments_lexer": "ipython3",
   "version": "3.7.1"
  }
 },
 "nbformat": 4,
 "nbformat_minor": 2
}
