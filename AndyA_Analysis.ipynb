{
 "cells": [
  {
   "cell_type": "code",
   "execution_count": 2,
   "metadata": {},
   "outputs": [],
   "source": [
    "# Data Science packages\n",
    "import pandas as pd\n",
    "import numpy as np\n",
    "\n",
    "# Text Analysis packages\n",
    "import nltk\n",
    "import nltk.corpus\n",
    "\n",
    "# Web Scraping Packages\n",
    "import requests\n",
    "import requests_cache \n",
    "import lxml.html as lx\n",
    "import re\n",
    "from datetime import datetime\n",
    "\n",
    "# Graphing packages\n",
    "import seaborn as sns\n",
    "%matplotlib inline\n",
    "import matplotlib.pyplot as plt\n",
    "from plotnine import *\n",
    "\n",
    "# Interactive plot packages\n",
    "import plotly\n",
    "import plotly.plotly as py\n",
    "import plotly.graph_objs as go"
   ]
  },
  {
   "cell_type": "code",
   "execution_count": 87,
   "metadata": {},
   "outputs": [],
   "source": [
    "def read_key(keyfile):\n",
    "    with open(keyfile) as f:\n",
    "        return f.readline().strip(\"\\n\")\n",
    "    \n",
    "key = read_key(\"../keys/plotly_key.txt\")\n",
    "\n",
    "plotly.tools.set_credentials_file(username = 'aialba', api_key = key)"
   ]
  },
  {
   "cell_type": "code",
   "execution_count": 223,
   "metadata": {
    "scrolled": true
   },
   "outputs": [
    {
     "data": {
      "text/html": [
       "<div>\n",
       "<style scoped>\n",
       "    .dataframe tbody tr th:only-of-type {\n",
       "        vertical-align: middle;\n",
       "    }\n",
       "\n",
       "    .dataframe tbody tr th {\n",
       "        vertical-align: top;\n",
       "    }\n",
       "\n",
       "    .dataframe thead th {\n",
       "        text-align: right;\n",
       "    }\n",
       "</style>\n",
       "<table border=\"1\" class=\"dataframe\">\n",
       "  <thead>\n",
       "    <tr style=\"text-align: right;\">\n",
       "      <th></th>\n",
       "      <th>SEX</th>\n",
       "      <th>NOWAF</th>\n",
       "      <th>FMX</th>\n",
       "      <th>RACRECI3</th>\n",
       "      <th>R_MARITL</th>\n",
       "      <th>HISCODI3</th>\n",
       "      <th>AGE_P</th>\n",
       "      <th>SRVY_YR</th>\n",
       "      <th>PARENTS</th>\n",
       "      <th>DAD_DEGP</th>\n",
       "      <th>...</th>\n",
       "      <th>LADURA18</th>\n",
       "      <th>LADURB17</th>\n",
       "      <th>LADURB18</th>\n",
       "      <th>LACHRC17</th>\n",
       "      <th>LACHRC18</th>\n",
       "      <th>HIKINDNK</th>\n",
       "      <th>YRSINUS</th>\n",
       "      <th>CITIZENP</th>\n",
       "      <th>EDUC1</th>\n",
       "      <th>ERNYR_P</th>\n",
       "    </tr>\n",
       "  </thead>\n",
       "  <tbody>\n",
       "    <tr>\n",
       "      <th>0</th>\n",
       "      <td>2</td>\n",
       "      <td>0.0</td>\n",
       "      <td>1</td>\n",
       "      <td>1</td>\n",
       "      <td>4</td>\n",
       "      <td>2</td>\n",
       "      <td>65</td>\n",
       "      <td>2017</td>\n",
       "      <td>4</td>\n",
       "      <td>0.0</td>\n",
       "      <td>...</td>\n",
       "      <td>0.0</td>\n",
       "      <td>0.0</td>\n",
       "      <td>0.0</td>\n",
       "      <td>0.0</td>\n",
       "      <td>0.0</td>\n",
       "      <td>2</td>\n",
       "      <td>0.0</td>\n",
       "      <td>1</td>\n",
       "      <td>15</td>\n",
       "      <td>0.0</td>\n",
       "    </tr>\n",
       "    <tr>\n",
       "      <th>1</th>\n",
       "      <td>2</td>\n",
       "      <td>2.0</td>\n",
       "      <td>1</td>\n",
       "      <td>2</td>\n",
       "      <td>7</td>\n",
       "      <td>3</td>\n",
       "      <td>27</td>\n",
       "      <td>2017</td>\n",
       "      <td>4</td>\n",
       "      <td>0.0</td>\n",
       "      <td>...</td>\n",
       "      <td>0.0</td>\n",
       "      <td>0.0</td>\n",
       "      <td>0.0</td>\n",
       "      <td>0.0</td>\n",
       "      <td>0.0</td>\n",
       "      <td>2</td>\n",
       "      <td>0.0</td>\n",
       "      <td>1</td>\n",
       "      <td>13</td>\n",
       "      <td>0.0</td>\n",
       "    </tr>\n",
       "    <tr>\n",
       "      <th>2</th>\n",
       "      <td>1</td>\n",
       "      <td>0.0</td>\n",
       "      <td>1</td>\n",
       "      <td>2</td>\n",
       "      <td>0</td>\n",
       "      <td>3</td>\n",
       "      <td>10</td>\n",
       "      <td>2017</td>\n",
       "      <td>1</td>\n",
       "      <td>0.0</td>\n",
       "      <td>...</td>\n",
       "      <td>0.0</td>\n",
       "      <td>0.0</td>\n",
       "      <td>0.0</td>\n",
       "      <td>0.0</td>\n",
       "      <td>0.0</td>\n",
       "      <td>2</td>\n",
       "      <td>0.0</td>\n",
       "      <td>1</td>\n",
       "      <td>3</td>\n",
       "      <td>0.0</td>\n",
       "    </tr>\n",
       "    <tr>\n",
       "      <th>3</th>\n",
       "      <td>1</td>\n",
       "      <td>2.0</td>\n",
       "      <td>1</td>\n",
       "      <td>1</td>\n",
       "      <td>7</td>\n",
       "      <td>2</td>\n",
       "      <td>19</td>\n",
       "      <td>2017</td>\n",
       "      <td>4</td>\n",
       "      <td>0.0</td>\n",
       "      <td>...</td>\n",
       "      <td>0.0</td>\n",
       "      <td>0.0</td>\n",
       "      <td>0.0</td>\n",
       "      <td>0.0</td>\n",
       "      <td>0.0</td>\n",
       "      <td>2</td>\n",
       "      <td>0.0</td>\n",
       "      <td>1</td>\n",
       "      <td>15</td>\n",
       "      <td>1.0</td>\n",
       "    </tr>\n",
       "    <tr>\n",
       "      <th>4</th>\n",
       "      <td>2</td>\n",
       "      <td>2.0</td>\n",
       "      <td>1</td>\n",
       "      <td>1</td>\n",
       "      <td>1</td>\n",
       "      <td>2</td>\n",
       "      <td>43</td>\n",
       "      <td>2017</td>\n",
       "      <td>4</td>\n",
       "      <td>0.0</td>\n",
       "      <td>...</td>\n",
       "      <td>0.0</td>\n",
       "      <td>0.0</td>\n",
       "      <td>0.0</td>\n",
       "      <td>0.0</td>\n",
       "      <td>0.0</td>\n",
       "      <td>2</td>\n",
       "      <td>0.0</td>\n",
       "      <td>1</td>\n",
       "      <td>14</td>\n",
       "      <td>0.0</td>\n",
       "    </tr>\n",
       "  </tbody>\n",
       "</table>\n",
       "<p>5 rows × 31 columns</p>\n",
       "</div>"
      ],
      "text/plain": [
       "   SEX  NOWAF  FMX  RACRECI3  R_MARITL  HISCODI3  AGE_P  SRVY_YR  PARENTS  \\\n",
       "0    2    0.0    1         1         4         2     65     2017        4   \n",
       "1    2    2.0    1         2         7         3     27     2017        4   \n",
       "2    1    0.0    1         2         0         3     10     2017        1   \n",
       "3    1    2.0    1         1         7         2     19     2017        4   \n",
       "4    2    2.0    1         1         1         2     43     2017        4   \n",
       "\n",
       "   DAD_DEGP   ...     LADURA18  LADURB17  LADURB18  LACHRC17  LACHRC18  \\\n",
       "0       0.0   ...          0.0       0.0       0.0       0.0       0.0   \n",
       "1       0.0   ...          0.0       0.0       0.0       0.0       0.0   \n",
       "2       0.0   ...          0.0       0.0       0.0       0.0       0.0   \n",
       "3       0.0   ...          0.0       0.0       0.0       0.0       0.0   \n",
       "4       0.0   ...          0.0       0.0       0.0       0.0       0.0   \n",
       "\n",
       "   HIKINDNK  YRSINUS  CITIZENP  EDUC1  ERNYR_P  \n",
       "0         2      0.0         1     15      0.0  \n",
       "1         2      0.0         1     13      0.0  \n",
       "2         2      0.0         1      3      0.0  \n",
       "3         2      0.0         1     15      1.0  \n",
       "4         2      0.0         1     14      0.0  \n",
       "\n",
       "[5 rows x 31 columns]"
      ]
     },
     "execution_count": 223,
     "metadata": {},
     "output_type": "execute_result"
    }
   ],
   "source": [
    "# Here i am reading in the csv using only columns specified in stuff.\n",
    "\n",
    "cols = pd.read_csv('../stuff.csv')\n",
    "\n",
    "cols\n",
    "\n",
    "df_2017 = pd.read_csv('../personsx.csv', usecols = cols['Feature name in Doc'])\n",
    "df_2017 = df_2017.fillna(0)\n",
    "df_2017.head()"
   ]
  },
  {
   "cell_type": "markdown",
   "metadata": {},
   "source": [
    "## Distribution of Income"
   ]
  },
  {
   "cell_type": "code",
   "execution_count": 184,
   "metadata": {
    "scrolled": false
   },
   "outputs": [
    {
     "data": {
      "text/plain": [
       "Unknown            38573\n",
       "75,000 and over     6276\n",
       "25,000-34,999       4322\n",
       "Don't know          4167\n",
       "Refused             3890\n",
       "35,000-44,999       3672\n",
       "45,000-54,999       3088\n",
       "55,000-64,999       2387\n",
       "20,000-24,999       2347\n",
       "01-4,999            2066\n",
       "15,000-19,999       1942\n",
       "10,000-14,999       1933\n",
       "05,000-9,999        1739\n",
       "65,000-74,999       1707\n",
       "Not ascertained       23\n",
       "Name: ERNYR_P, dtype: int64"
      ]
     },
     "execution_count": 184,
     "metadata": {},
     "output_type": "execute_result"
    }
   ],
   "source": [
    "# ernyr_p_key is a dictionary that matches the key values (which are in the df) \n",
    "# and changes it to its human readable label\n",
    "\n",
    "ernyr_p_key = {1: '01-4,999', 2: '05,000-9,999', 3: '10,000-14,999',\n",
    "               4:'15,000-19,999', 5: '20,000-24,999', 6: '25,000-34,999',\n",
    "              7: '35,000-44,999', 8: '45,000-54,999', 9: '55,000-64,999',\n",
    "              10: '65,000-74,999', 11: '75,000 and over', 0: 'Unknown',\n",
    "              97: 'Refused', 98: 'Not ascertained', 99: 'Don\\'t know'}\n",
    "\n",
    "df_2017 = df_2017.sort_values(by = ['ERNYR_P'])\n",
    "df_2017['ERNYR_P'] = df_2017['ERNYR_P'].apply(lambda x: ernyr_p_key[x])\n",
    "df_2017['ERNYR_P'].value_counts()"
   ]
  },
  {
   "cell_type": "code",
   "execution_count": 92,
   "metadata": {
    "scrolled": true
   },
   "outputs": [],
   "source": [
    "# here i remove all of the NA values from the matrix\n",
    "\n",
    "not_unknown = [(a != 'Unknown') for a in df_2017['ERNYR_P']]\n",
    "incomes = df_2017['ERNYR_P'][not_unknown]"
   ]
  },
  {
   "cell_type": "code",
   "execution_count": 68,
   "metadata": {
    "scrolled": true
   },
   "outputs": [
    {
     "data": {
      "text/plain": [
       "[Text(0, 0.5, 'Persons'), Text(0.5, 0, 'Earnings (USD)')]"
      ]
     },
     "execution_count": 68,
     "metadata": {},
     "output_type": "execute_result"
    },
    {
     "data": {
      "image/png": "[encoded data removed]",
      "text/plain": [
       "<Figure size 1728x360 with 1 Axes>"
      ]
     },
     "metadata": {
      "needs_background": "light"
     },
     "output_type": "display_data"
    }
   ],
   "source": [
    "# graph of the distribution of salaries\n",
    "\n",
    "plt.figure(figsize = (24, 5))\n",
    "\n",
    "income_plot = sns.countplot(x = incomes)\n",
    "income_plot.set_xticklabels(income_plot.get_xticklabels(), rotation = -5)\n",
    "income_plot.set(xlabel = 'Earnings (USD)', ylabel = 'Persons')"
   ]
  },
  {
   "cell_type": "markdown",
   "metadata": {},
   "source": [
    "## Plot for Depression"
   ]
  },
  {
   "cell_type": "code",
   "execution_count": 188,
   "metadata": {},
   "outputs": [
    {
     "data": {
      "text/plain": [
       "Depressed for More than 1 year      1443\n",
       "Depressed for 6-12 months             59\n",
       "Don't Know                            10\n",
       "Depressed for 3-5 months               8\n",
       "Depressed for Less than 2 months       8\n",
       "Refused                                5\n",
       "Not Ascertained                        1\n",
       "Name: LADURB17, dtype: int64"
      ]
     },
     "execution_count": 188,
     "metadata": {},
     "output_type": "execute_result"
    }
   ],
   "source": [
    "# similar to before, the key matches the key value to its human readable label\n",
    "# then i switch out the values in the df for the labels and remove the NA rows\n",
    "\n",
    "ladurb17_key = {1: 'Depressed for Less than 2 months', 2: 'Depressed for 3-5 months', \n",
    "                3: 'Depressed for 6-12 months', 4: 'Depressed for More than 1 year',\n",
    "               7: 'Refused', 8: 'Not Ascertained', 9: 'Don\\'t Know' , 0: 'Unknown'}\n",
    "\n",
    "df_2017 = df_2017.sort_values( by = ['LADURB17'])\n",
    "df_2017['LADURB17'] = df_2017['LADURB17'].apply(lambda x: ladurb17_key[x])\n",
    "\n",
    "not_unknown = [(a != 'Unknown') for a in df_2017['LADURB17']]\n",
    "depression = df_2017['LADURB17'][not_unknown]\n",
    "depression.value_counts()"
   ]
  },
  {
   "cell_type": "code",
   "execution_count": 85,
   "metadata": {
    "scrolled": true
   },
   "outputs": [
    {
     "data": {
      "image/png": "[encoded data removed]",
      "text/plain": [
       "<Figure size 1728x360 with 1 Axes>"
      ]
     },
     "metadata": {
      "needs_background": "light"
     },
     "output_type": "display_data"
    }
   ],
   "source": [
    "plt.figure(figsize = (24, 5))\n",
    "\n",
    "depression_plot = sns.countplot(x = depression)"
   ]
  },
  {
   "cell_type": "markdown",
   "metadata": {},
   "source": [
    "## Plot for Depression by Income Level"
   ]
  },
  {
   "cell_type": "code",
   "execution_count": 189,
   "metadata": {
    "scrolled": true
   },
   "outputs": [
    {
     "name": "stderr",
     "output_type": "stream",
     "text": [
      "/Users/Andy/anaconda3/lib/python3.7/site-packages/ipykernel_launcher.py:15: SettingWithCopyWarning:\n",
      "\n",
      "\n",
      "A value is trying to be set on a copy of a slice from a DataFrame.\n",
      "Try using .loc[row_indexer,col_indexer] = value instead\n",
      "\n",
      "See the caveats in the documentation: http://pandas.pydata.org/pandas-docs/stable/indexing.html#indexing-view-versus-copy\n",
      "\n",
      "/Users/Andy/anaconda3/lib/python3.7/site-packages/ipykernel_launcher.py:16: SettingWithCopyWarning:\n",
      "\n",
      "\n",
      "A value is trying to be set on a copy of a slice from a DataFrame.\n",
      "Try using .loc[row_indexer,col_indexer] = value instead\n",
      "\n",
      "See the caveats in the documentation: http://pandas.pydata.org/pandas-docs/stable/indexing.html#indexing-view-versus-copy\n",
      "\n"
     ]
    },
    {
     "data": {
      "text/html": [
       "<div>\n",
       "<style scoped>\n",
       "    .dataframe tbody tr th:only-of-type {\n",
       "        vertical-align: middle;\n",
       "    }\n",
       "\n",
       "    .dataframe tbody tr th {\n",
       "        vertical-align: top;\n",
       "    }\n",
       "\n",
       "    .dataframe thead th {\n",
       "        text-align: right;\n",
       "    }\n",
       "</style>\n",
       "<table border=\"1\" class=\"dataframe\">\n",
       "  <thead>\n",
       "    <tr style=\"text-align: right;\">\n",
       "      <th></th>\n",
       "      <th>ERNYR_P</th>\n",
       "      <th>LADURB17</th>\n",
       "    </tr>\n",
       "  </thead>\n",
       "  <tbody>\n",
       "    <tr>\n",
       "      <th>5580</th>\n",
       "      <td>01-4,999</td>\n",
       "      <td>Depressed for 6-12 months</td>\n",
       "    </tr>\n",
       "    <tr>\n",
       "      <th>9187</th>\n",
       "      <td>01-4,999</td>\n",
       "      <td>Depressed for 6-12 months</td>\n",
       "    </tr>\n",
       "    <tr>\n",
       "      <th>21989</th>\n",
       "      <td>01-4,999</td>\n",
       "      <td>Depressed for 6-12 months</td>\n",
       "    </tr>\n",
       "    <tr>\n",
       "      <th>25516</th>\n",
       "      <td>01-4,999</td>\n",
       "      <td>Depressed for 6-12 months</td>\n",
       "    </tr>\n",
       "    <tr>\n",
       "      <th>25696</th>\n",
       "      <td>01-4,999</td>\n",
       "      <td>Depressed for 6-12 months</td>\n",
       "    </tr>\n",
       "  </tbody>\n",
       "</table>\n",
       "</div>"
      ],
      "text/plain": [
       "        ERNYR_P                   LADURB17\n",
       "5580   01-4,999  Depressed for 6-12 months\n",
       "9187   01-4,999  Depressed for 6-12 months\n",
       "21989  01-4,999  Depressed for 6-12 months\n",
       "25516  01-4,999  Depressed for 6-12 months\n",
       "25696  01-4,999  Depressed for 6-12 months"
      ]
     },
     "execution_count": 189,
     "metadata": {},
     "output_type": "execute_result"
    }
   ],
   "source": [
    "# Reading in the Column names\n",
    "cols = pd.read_csv('../stuff.csv')\n",
    "\n",
    "# Reading the CSV\n",
    "df_2017 = pd.read_csv('../personsx.csv', usecols = cols['Feature name in Doc'])\n",
    "df_2017 = df_2017.fillna(0)\n",
    "\n",
    "# Sorting it by the columns of interest\n",
    "df_2017 = df_2017.sort_values(by = ['ERNYR_P', 'LADURB17'])\n",
    "\n",
    "# Subsetting the DF to only columns of interest\n",
    "df = df_2017[['ERNYR_P', 'LADURB17']]\n",
    "\n",
    "# Renaming the factor levels\n",
    "df['ERNYR_P'] = df['ERNYR_P'].apply(lambda x: str(ernyr_p_key[x]))\n",
    "df['LADURB17'] = df['LADURB17'].apply(lambda x: str(ladurb17_key[x]))\n",
    "\n",
    "# Removing the NA factor values\n",
    "df = df[df['LADURB17'] != 'Unknown']\n",
    "df = df[df['ERNYR_P'] != 'Unknown']\n",
    "df.head()"
   ]
  },
  {
   "cell_type": "code",
   "execution_count": 129,
   "metadata": {
    "scrolled": true
   },
   "outputs": [
    {
     "data": {
      "text/plain": [
       "More than 1 year      1443\n",
       "6-12 months             59\n",
       "Don't Know              10\n",
       "Less than 2 months       8\n",
       "3-5 months               8\n",
       "Refused                  5\n",
       "Not Ascertained          1\n",
       "Name: LADURB17, dtype: int64"
      ]
     },
     "execution_count": 129,
     "metadata": {},
     "output_type": "execute_result"
    }
   ],
   "source": [
    "df['LADURB17'].value_counts()"
   ]
  },
  {
   "cell_type": "code",
   "execution_count": 179,
   "metadata": {},
   "outputs": [],
   "source": [
    "def make_df_for_counts(df, category, second_category, value, name1, name2):\n",
    "    '''\n",
    "        \n",
    "    '''\n",
    "    temp = pd.DataFrame(df[df[category] == value][second_category].value_counts())\n",
    "    temp = temp.reset_index()\n",
    "    temp.columns = [name2, 'Count']\n",
    "    temp[name1] = value\n",
    "    temp = temp[[name1, name2, 'Count']]\n",
    "    temp = temp.sort_values([name2])\n",
    "    return temp\n",
    "\n",
    "def make_trace(df, category, value):\n",
    "    trace = go.Bar(\n",
    "        x = df[category],\n",
    "        y = df['Count'],\n",
    "        name = value\n",
    "    )\n",
    "    return trace"
   ]
  },
  {
   "cell_type": "code",
   "execution_count": 169,
   "metadata": {
    "scrolled": false
   },
   "outputs": [
    {
     "data": {
      "text/html": [
       "<div>\n",
       "<style scoped>\n",
       "    .dataframe tbody tr th:only-of-type {\n",
       "        vertical-align: middle;\n",
       "    }\n",
       "\n",
       "    .dataframe tbody tr th {\n",
       "        vertical-align: top;\n",
       "    }\n",
       "\n",
       "    .dataframe thead th {\n",
       "        text-align: right;\n",
       "    }\n",
       "</style>\n",
       "<table border=\"1\" class=\"dataframe\">\n",
       "  <thead>\n",
       "    <tr style=\"text-align: right;\">\n",
       "      <th></th>\n",
       "      <th>Depression Length</th>\n",
       "      <th>Income</th>\n",
       "      <th>Count</th>\n",
       "    </tr>\n",
       "  </thead>\n",
       "  <tbody>\n",
       "    <tr>\n",
       "      <th>0</th>\n",
       "      <td>More than 1 year</td>\n",
       "      <td>$01-$4,999</td>\n",
       "      <td>71</td>\n",
       "    </tr>\n",
       "    <tr>\n",
       "      <th>1</th>\n",
       "      <td>More than 1 year</td>\n",
       "      <td>Don't know</td>\n",
       "      <td>44</td>\n",
       "    </tr>\n",
       "    <tr>\n",
       "      <th>2</th>\n",
       "      <td>More than 1 year</td>\n",
       "      <td>$5,000-$9,999</td>\n",
       "      <td>40</td>\n",
       "    </tr>\n",
       "    <tr>\n",
       "      <th>3</th>\n",
       "      <td>More than 1 year</td>\n",
       "      <td>$25,000-$34,999</td>\n",
       "      <td>31</td>\n",
       "    </tr>\n",
       "    <tr>\n",
       "      <th>4</th>\n",
       "      <td>More than 1 year</td>\n",
       "      <td>$10,000-$14,999</td>\n",
       "      <td>28</td>\n",
       "    </tr>\n",
       "    <tr>\n",
       "      <th>5</th>\n",
       "      <td>More than 1 year</td>\n",
       "      <td>$35,000-$44,999</td>\n",
       "      <td>23</td>\n",
       "    </tr>\n",
       "    <tr>\n",
       "      <th>6</th>\n",
       "      <td>More than 1 year</td>\n",
       "      <td>$15,000-$19,999</td>\n",
       "      <td>20</td>\n",
       "    </tr>\n",
       "    <tr>\n",
       "      <th>7</th>\n",
       "      <td>More than 1 year</td>\n",
       "      <td>$75,000 and over</td>\n",
       "      <td>18</td>\n",
       "    </tr>\n",
       "    <tr>\n",
       "      <th>8</th>\n",
       "      <td>More than 1 year</td>\n",
       "      <td>$20,000-$24,999</td>\n",
       "      <td>18</td>\n",
       "    </tr>\n",
       "    <tr>\n",
       "      <th>9</th>\n",
       "      <td>More than 1 year</td>\n",
       "      <td>$55,000-$64,999</td>\n",
       "      <td>15</td>\n",
       "    </tr>\n",
       "    <tr>\n",
       "      <th>10</th>\n",
       "      <td>More than 1 year</td>\n",
       "      <td>$45,000-$54,999</td>\n",
       "      <td>14</td>\n",
       "    </tr>\n",
       "    <tr>\n",
       "      <th>11</th>\n",
       "      <td>More than 1 year</td>\n",
       "      <td>Refused</td>\n",
       "      <td>9</td>\n",
       "    </tr>\n",
       "    <tr>\n",
       "      <th>12</th>\n",
       "      <td>More than 1 year</td>\n",
       "      <td>$65,000-$74,999</td>\n",
       "      <td>6</td>\n",
       "    </tr>\n",
       "  </tbody>\n",
       "</table>\n",
       "</div>"
      ],
      "text/plain": [
       "   Depression Length            Income  Count\n",
       "0   More than 1 year        $01-$4,999     71\n",
       "1   More than 1 year        Don't know     44\n",
       "2   More than 1 year     $5,000-$9,999     40\n",
       "3   More than 1 year   $25,000-$34,999     31\n",
       "4   More than 1 year   $10,000-$14,999     28\n",
       "5   More than 1 year   $35,000-$44,999     23\n",
       "6   More than 1 year   $15,000-$19,999     20\n",
       "7   More than 1 year  $75,000 and over     18\n",
       "8   More than 1 year   $20,000-$24,999     18\n",
       "9   More than 1 year   $55,000-$64,999     15\n",
       "10  More than 1 year   $45,000-$54,999     14\n",
       "11  More than 1 year           Refused      9\n",
       "12  More than 1 year   $65,000-$74,999      6"
      ]
     },
     "execution_count": 169,
     "metadata": {},
     "output_type": "execute_result"
    }
   ],
   "source": [
    "make_df_for_counts(df, 'LADURB17', 'ERNYR_P', 'More than 1 year', 'Depression Length', 'Income')"
   ]
  },
  {
   "cell_type": "code",
   "execution_count": 178,
   "metadata": {
    "scrolled": true
   },
   "outputs": [
    {
     "data": {
      "text/plain": [
       "array(['$01-$4,999', '$5,000-$9,999', '$10,000-$14,999',\n",
       "       '$15,000-$19,999', '$20,000-$24,999', '$25,000-$34,999',\n",
       "       '$35,000-$44,999', '$45,000-$54,999', '$55,000-$64,999',\n",
       "       '$65,000-$74,999', '$75,000 and over', 'Refused', \"Don't know\"],\n",
       "      dtype=object)"
      ]
     },
     "execution_count": 178,
     "metadata": {},
     "output_type": "execute_result"
    }
   ],
   "source": [
    "income_levels"
   ]
  },
  {
   "cell_type": "code",
   "execution_count": 192,
   "metadata": {},
   "outputs": [
    {
     "name": "stderr",
     "output_type": "stream",
     "text": [
      "/Users/Andy/anaconda3/lib/python3.7/site-packages/IPython/core/display.py:689: UserWarning:\n",
      "\n",
      "Consider using IPython.display.IFrame instead\n",
      "\n"
     ]
    },
    {
     "data": {
      "text/html": [
       "<iframe id=\"igraph\" scrolling=\"no\" style=\"border:none;\" seamless=\"seamless\" src=\"https://plot.ly/~aialba/8.embed\" height=\"525px\" width=\"100%\"></iframe>"
      ],
      "text/plain": [
       "<plotly.tools.PlotlyDisplay object>"
      ]
     },
     "execution_count": 192,
     "metadata": {},
     "output_type": "execute_result"
    }
   ],
   "source": [
    "depression_levels = df['LADURB17'].unique()\n",
    "\n",
    "income_traces = [ make_trace(\n",
    "    make_df_for_counts(df, 'LADURB17', 'ERNYR_P', a, 'Depression Length', 'Income'), 'Income', a) for a in depression_levels]\n",
    "\n",
    "layout = go.Layout(\n",
    "    barmode = 'stack',\n",
    "    showlegend = True,\n",
    "    title = 'Depression Length X Income', \n",
    "    \n",
    "    xaxis=dict(\n",
    "        title= 'Income Level (USD)',\n",
    "        titlefont=dict(\n",
    "            family='Arial, sans-serif',\n",
    "            size=18,\n",
    "            color='black'\n",
    "        )\n",
    "    ),\n",
    "    \n",
    "    yaxis = dict(\n",
    "        title = 'Count',\n",
    "        titlefont=dict(\n",
    "            family='Arial, sans-serif',\n",
    "            size=18,\n",
    "            color='black'\n",
    "        ),\n",
    "        \n",
    "        showticklabels=True,\n",
    "    )\n",
    ")\n",
    "\n",
    "fig = go.Figure(data=income_traces, layout=layout)\n",
    "plotly.offline.plot(fig, filename='depressionXincome.html')\n",
    "py.iplot(fig, filename= 'depression X income')"
   ]
  },
  {
   "cell_type": "markdown",
   "metadata": {},
   "source": [
    "## Plot of Age"
   ]
  },
  {
   "cell_type": "code",
   "execution_count": 224,
   "metadata": {
    "scrolled": true
   },
   "outputs": [],
   "source": [
    "df_age = df_2017\n",
    "\n",
    "df_age['LADURB17'] = df_age['LADURB17'].apply(lambda x: str(ladurb17_key[x]))\n",
    "df_age = df_age[df_age['LADURB17'] != 'Unknown']"
   ]
  },
  {
   "cell_type": "code",
   "execution_count": 226,
   "metadata": {
    "scrolled": false
   },
   "outputs": [
    {
     "data": {
      "text/plain": [
       "Depressed for More than 1 year      1443\n",
       "Depressed for 6-12 months             59\n",
       "Don't Know                            10\n",
       "Depressed for 3-5 months               8\n",
       "Depressed for Less than 2 months       8\n",
       "Refused                                5\n",
       "Not Ascertained                        1\n",
       "Name: LADURB17, dtype: int64"
      ]
     },
     "execution_count": 226,
     "metadata": {},
     "output_type": "execute_result"
    }
   ],
   "source": [
    "df_age['LADURB17'].value_counts()"
   ]
  },
  {
   "cell_type": "code",
   "execution_count": 228,
   "metadata": {},
   "outputs": [
    {
     "data": {
      "text/plain": [
       "<matplotlib.axes._subplots.AxesSubplot at 0x1c2373b588>"
      ]
     },
     "execution_count": 228,
     "metadata": {},
     "output_type": "execute_result"
    },
    {
     "data": {
      "image/png": "[encoded data removed]",
      "text/plain": [
       "<Figure size 1728x864 with 1 Axes>"
      ]
     },
     "metadata": {
      "needs_background": "light"
     },
     "output_type": "display_data"
    }
   ],
   "source": [
    "plt.figure(figsize = (24, 12))\n",
    "sns.countplot(df_age['AGE_P'])"
   ]
  },
  {
   "cell_type": "code",
   "execution_count": null,
   "metadata": {},
   "outputs": [],
   "source": [
    "age_dict = {'18-24': [18:24]}"
   ]
  },
  {
   "cell_type": "markdown",
   "metadata": {},
   "source": [
    "## Plot of Depression X Age"
   ]
  },
  {
   "cell_type": "code",
   "execution_count": 230,
   "metadata": {},
   "outputs": [
    {
     "name": "stderr",
     "output_type": "stream",
     "text": [
      "/Users/Andy/anaconda3/lib/python3.7/site-packages/ipykernel_launcher.py:19: SettingWithCopyWarning:\n",
      "\n",
      "\n",
      "A value is trying to be set on a copy of a slice from a DataFrame.\n",
      "Try using .loc[row_indexer,col_indexer] = value instead\n",
      "\n",
      "See the caveats in the documentation: http://pandas.pydata.org/pandas-docs/stable/indexing.html#indexing-view-versus-copy\n",
      "\n"
     ]
    }
   ],
   "source": [
    "def group_age(age):\n",
    "    if age < 18:\n",
    "        return ' < 18'\n",
    "    if age < 24 and age > 18:\n",
    "        return '18 - 24'\n",
    "    elif age < 32:\n",
    "        return '25 - 32'\n",
    "    elif age < 42:\n",
    "        return '33 - 42'\n",
    "    elif age < 55:\n",
    "        return '43 - 55'\n",
    "    elif age < 65:\n",
    "        return '56 - 65'\n",
    "    elif age < 85:\n",
    "        return '66 - 84'\n",
    "    else:\n",
    "        return '85+'\n",
    "    \n",
    "df_age['AGE_P'] = [group_age(i) for i in df_age['AGE_P']]"
   ]
  },
  {
   "cell_type": "code",
   "execution_count": 231,
   "metadata": {},
   "outputs": [
    {
     "data": {
      "text/plain": [
       "43 - 55    402\n",
       "56 - 65    375\n",
       "66 - 84    274\n",
       "33 - 42    211\n",
       "25 - 32    155\n",
       "18 - 24     75\n",
       "85+         42\n",
       "Name: AGE_P, dtype: int64"
      ]
     },
     "execution_count": 231,
     "metadata": {},
     "output_type": "execute_result"
    }
   ],
   "source": [
    "df_age['AGE_P'].value_counts()"
   ]
  },
  {
   "cell_type": "code",
   "execution_count": 234,
   "metadata": {
    "scrolled": false
   },
   "outputs": [
    {
     "name": "stderr",
     "output_type": "stream",
     "text": [
      "/Users/Andy/anaconda3/lib/python3.7/site-packages/IPython/core/display.py:689: UserWarning:\n",
      "\n",
      "Consider using IPython.display.IFrame instead\n",
      "\n"
     ]
    },
    {
     "data": {
      "text/html": [
       "<iframe id=\"igraph\" scrolling=\"no\" style=\"border:none;\" seamless=\"seamless\" src=\"https://plot.ly/~aialba/10.embed\" height=\"525px\" width=\"100%\"></iframe>"
      ],
      "text/plain": [
       "<plotly.tools.PlotlyDisplay object>"
      ]
     },
     "execution_count": 234,
     "metadata": {},
     "output_type": "execute_result"
    }
   ],
   "source": [
    "age_traces = [ make_trace(\n",
    "    make_df_for_counts(df_age, 'LADURB17', 'AGE_P', a, 'Depression Length', 'Age'),\n",
    "    'Age', a) for a in depression_levels]\n",
    "\n",
    "layout = go.Layout(\n",
    "    barmode = 'stack',\n",
    "    showlegend = True,\n",
    "    title = 'Depression Length X Age', \n",
    "    \n",
    "    xaxis=dict(\n",
    "        title= 'Age (Years)',\n",
    "        titlefont=dict(\n",
    "            family='Arial, sans-serif',\n",
    "            size=18,\n",
    "            color='black'\n",
    "        )\n",
    "    ),\n",
    "    \n",
    "    yaxis = dict(\n",
    "        title = 'Count',\n",
    "        titlefont=dict(\n",
    "            family='Arial, sans-serif',\n",
    "            size=18,\n",
    "            color='black'\n",
    "        ),\n",
    "        \n",
    "        showticklabels=True,\n",
    "    )\n",
    ")\n",
    "\n",
    "fig = go.Figure(data= age_traces, layout=layout)\n",
    "plotly.offline.plot(fig, filename='depressionXage.html')\n",
    "py.iplot(fig, filename= 'depression X age')"
   ]
  },
  {
   "cell_type": "markdown",
   "metadata": {},
   "source": [
    "## Plot of Depression and Age for Income < 5000\n"
   ]
  },
  {
   "cell_type": "code",
   "execution_count": 251,
   "metadata": {
    "scrolled": true
   },
   "outputs": [
    {
     "name": "stderr",
     "output_type": "stream",
     "text": [
      "/Users/Andy/anaconda3/lib/python3.7/site-packages/ipykernel_launcher.py:1: SettingWithCopyWarning:\n",
      "\n",
      "\n",
      "A value is trying to be set on a copy of a slice from a DataFrame.\n",
      "Try using .loc[row_indexer,col_indexer] = value instead\n",
      "\n",
      "See the caveats in the documentation: http://pandas.pydata.org/pandas-docs/stable/indexing.html#indexing-view-versus-copy\n",
      "\n"
     ]
    },
    {
     "data": {
      "text/plain": [
       "Unknown            1159\n",
       "01-4,999             78\n",
       "Don't know           47\n",
       "05,000-9,999         44\n",
       "25,000-34,999        34\n",
       "10,000-14,999        31\n",
       "35,000-44,999        25\n",
       "15,000-19,999        23\n",
       "75,000 and over      21\n",
       "20,000-24,999        21\n",
       "45,000-54,999        16\n",
       "55,000-64,999        16\n",
       "Refused              13\n",
       "65,000-74,999         6\n",
       "Name: ERNYR_P, dtype: int64"
      ]
     },
     "execution_count": 251,
     "metadata": {},
     "output_type": "execute_result"
    }
   ],
   "source": [
    "df_age['ERNYR_P'] = df_age['ERNYR_P'].apply(lambda x: str(ernyr_p_key[x]))\n",
    "df_age['ERNYR_P'].value_counts()                                            "
   ]
  },
  {
   "cell_type": "code",
   "execution_count": 253,
   "metadata": {},
   "outputs": [
    {
     "name": "stderr",
     "output_type": "stream",
     "text": [
      "/Users/Andy/anaconda3/lib/python3.7/site-packages/IPython/core/display.py:689: UserWarning:\n",
      "\n",
      "Consider using IPython.display.IFrame instead\n",
      "\n"
     ]
    },
    {
     "data": {
      "text/html": [
       "<iframe id=\"igraph\" scrolling=\"no\" style=\"border:none;\" seamless=\"seamless\" src=\"https://plot.ly/~aialba/12.embed\" height=\"525px\" width=\"100%\"></iframe>"
      ],
      "text/plain": [
       "<plotly.tools.PlotlyDisplay object>"
      ]
     },
     "execution_count": 253,
     "metadata": {},
     "output_type": "execute_result"
    }
   ],
   "source": [
    "age_traces = [ make_trace(\n",
    "    make_df_for_counts(df_age[df_age['ERNYR_P'] == '01-4,999'], 'LADURB17', 'AGE_P', a, 'Depression Length', 'Age'),'Age', a) for a in depression_levels]\n",
    "\n",
    "layout = go.Layout(\n",
    "    barmode = 'stack',\n",
    "    showlegend = True,\n",
    "    title = 'Depression Length X Age (Income < 5000)', \n",
    "    \n",
    "    xaxis=dict(\n",
    "        title= 'Age (Years)',\n",
    "        titlefont=dict(\n",
    "            family='Arial, sans-serif',\n",
    "            size=18,\n",
    "            color='black'\n",
    "        )\n",
    "    ),\n",
    "    \n",
    "    yaxis = dict(\n",
    "        title = 'Count',\n",
    "        titlefont=dict(\n",
    "            family='Arial, sans-serif',\n",
    "            size=18,\n",
    "            color='black'\n",
    "        ),\n",
    "        \n",
    "        showticklabels=True,\n",
    "    )\n",
    ")\n",
    "\n",
    "fig = go.Figure(data= age_traces, layout=layout)\n",
    "plotly.offline.plot(fig, filename='depressionXageXincome<5k.html')\n",
    "py.iplot(fig, filename= 'depression X age X income < 5k')\n",
    "\n",
    "\n"
   ]
  },
  {
   "cell_type": "markdown",
   "metadata": {},
   "source": [
    "## Webscraping Reddit"
   ]
  },
  {
   "cell_type": "code",
   "execution_count": 1,
   "metadata": {},
   "outputs": [],
   "source": [
    "import requests\n",
    "import requests_cache \n",
    "import lxml.html as lx\n",
    "import re\n",
    "from datetime import datetime\n",
    "\n",
    "requests_cache.install_cache(\"reddit_cache\")"
   ]
  },
  {
   "cell_type": "code",
   "execution_count": 3,
   "metadata": {},
   "outputs": [
    {
     "data": {
      "text/plain": [
       "<bound method Response.raise_for_status of <Response [429]>>"
      ]
     },
     "execution_count": 3,
     "metadata": {},
     "output_type": "execute_result"
    }
   ],
   "source": [
    "response = requests.get(\"https://old.reddit.com/r/depression/comments/anh7tv/regular_checkin_post/\")\n",
    "response.raise_for_status"
   ]
  },
  {
   "cell_type": "code",
   "execution_count": 4,
   "metadata": {},
   "outputs": [
    {
     "data": {
      "text/plain": [
       "<bound method Response.raise_for_status of <Response [200]>>"
      ]
     },
     "execution_count": 4,
     "metadata": {},
     "output_type": "execute_result"
    }
   ],
   "source": [
    "# https://www.reddit.com/r/redditdev/comments/3qbll8/429_too_many_requests/cwe2yay?utm_source=share&utm_medium=web2x\n",
    "response = requests.get(\"https://old.reddit.com/r/depression/comments/anh7tv/regular_checkin_post/?limit=500\",\n",
    "                        headers = {'User-agent': 'your bot 0.1'})\n",
    "response.raise_for_status\n",
    "\n"
   ]
  },
  {
   "cell_type": "code",
   "execution_count": 5,
   "metadata": {
    "scrolled": true
   },
   "outputs": [
    {
     "data": {
      "text/plain": [
       "<Element div at 0x1c2839c9f8>"
      ]
     },
     "execution_count": 5,
     "metadata": {},
     "output_type": "execute_result"
    }
   ],
   "source": [
    "html = lx.fromstring(response.text)\n",
    "\n",
    "comment_block = html.xpath(\"//div[@class = 'sitetable nestedlisting']\")[0]\n",
    "len(comment_block) # gets all the comment blocks\n",
    "\n",
    "comment_block[0][3] # goes into the [/div[@class = 'entry unvoted']]"
   ]
  },
  {
   "cell_type": "code",
   "execution_count": 6,
   "metadata": {},
   "outputs": [
    {
     "name": "stdout",
     "output_type": "stream",
     "text": [
      "https://old.reddit.com/user/KMoneySupreme\n",
      "0\n",
      "2\n",
      "2019-05-09T00:03:14+00:00\n",
      "<Element form at 0x1c2839c868>\n",
      "<Element div at 0x1c2839c868>\n",
      "I’m really struggling. I’m pretty convinced no one likes me so I don’t talk to anyone, at least not in a real way. I’m afraid of losing my job, and completely unsure how valid of a feeling that is. I don’t want to talk to my so because I’ve been there before and he will tell me everyone has problems. I’m just lost and exhausted.\n"
     ]
    }
   ],
   "source": [
    "e = comment_block[0].find_class('entry unvoted')[0]\n",
    "\n",
    "e[0] # goes into p[@class = 'tagline']\n",
    "print(e[0][1].get('href')) # userurl\n",
    "print(e[0][3].get('title')) # dislikes\n",
    "print(e[0][5].get('title')) # likes\n",
    "print(e[0][6].get('datetime')) # dislikes\n",
    "\n",
    "print(e[1]) # goes into comment\n",
    "print(e[1][1][0]) # goes into //div[@class = 'usertext-body may-blank-within md-container ']/div\n",
    "print(e[1][1][0][0].text) # gets the time"
   ]
  },
  {
   "cell_type": "code",
   "execution_count": 7,
   "metadata": {},
   "outputs": [],
   "source": [
    "def get_comment(e):\n",
    "    try:\n",
    "        comment =  ''.join([i.text + '\\n' for i in e])\n",
    "    except:\n",
    "        comment = ''\n",
    "    \n",
    "    return comment\n",
    "\n",
    "def get_comment_info(element):\n",
    "    try:\n",
    "        e = element.find_class('entry unvoted')[0]\n",
    "        user_url = e[0][1].get('href')\n",
    "        user_name = re.sub('https://old.reddit.com/user/', '', user_url)\n",
    "        comment_dislikes = e[0][3].get('title')\n",
    "        comment_likes = e[0][5].get('title')\n",
    "        comment_time = e[0][6].get('datetime')\n",
    "        comment = get_comment(e[1][1][0])\n",
    "\n",
    "        return {\"user_name\": user_name, \"user_url\": user_url, \"comment\": comment, \"time\": comment_time,\n",
    "                \"likes\": comment_likes, \"dislikes\": comment_dislikes}\n",
    "    except:\n",
    "        return {\"user_name\": None,\"user_url\": None, \"comment\": None, \"time\": None,\n",
    "                \"likes\": None, \"dislikes\": None}\n",
    "    "
   ]
  },
  {
   "cell_type": "code",
   "execution_count": 8,
   "metadata": {
    "scrolled": true
   },
   "outputs": [
    {
     "data": {
      "text/html": [
       "<div>\n",
       "<style scoped>\n",
       "    .dataframe tbody tr th:only-of-type {\n",
       "        vertical-align: middle;\n",
       "    }\n",
       "\n",
       "    .dataframe tbody tr th {\n",
       "        vertical-align: top;\n",
       "    }\n",
       "\n",
       "    .dataframe thead th {\n",
       "        text-align: right;\n",
       "    }\n",
       "</style>\n",
       "<table border=\"1\" class=\"dataframe\">\n",
       "  <thead>\n",
       "    <tr style=\"text-align: right;\">\n",
       "      <th></th>\n",
       "      <th>comment</th>\n",
       "      <th>dislikes</th>\n",
       "      <th>likes</th>\n",
       "      <th>time</th>\n",
       "      <th>user_name</th>\n",
       "      <th>user_url</th>\n",
       "    </tr>\n",
       "  </thead>\n",
       "  <tbody>\n",
       "    <tr>\n",
       "      <th>0</th>\n",
       "      <td>I’m really struggling. I’m pretty convinced no...</td>\n",
       "      <td>0</td>\n",
       "      <td>2</td>\n",
       "      <td>2019-05-09T00:03:14+00:00</td>\n",
       "      <td>KMoneySupreme</td>\n",
       "      <td>https://old.reddit.com/user/KMoneySupreme</td>\n",
       "    </tr>\n",
       "    <tr>\n",
       "      <th>1</th>\n",
       "      <td>I lashed out at a micro-managing coworker on M...</td>\n",
       "      <td>0</td>\n",
       "      <td>2</td>\n",
       "      <td>2019-05-08T23:49:18+00:00</td>\n",
       "      <td>avian_corvo</td>\n",
       "      <td>https://old.reddit.com/user/avian_corvo</td>\n",
       "    </tr>\n",
       "    <tr>\n",
       "      <th>2</th>\n",
       "      <td>It’s been so long since I’ve felt truly down. ...</td>\n",
       "      <td>0</td>\n",
       "      <td>2</td>\n",
       "      <td>2019-05-08T23:43:06+00:00</td>\n",
       "      <td>kkohler2</td>\n",
       "      <td>https://old.reddit.com/user/kkohler2</td>\n",
       "    </tr>\n",
       "    <tr>\n",
       "      <th>3</th>\n",
       "      <td>\"Eventually I'll grow out of being a piece of ...</td>\n",
       "      <td>0</td>\n",
       "      <td>2</td>\n",
       "      <td>2019-05-08T23:16:08+00:00</td>\n",
       "      <td>K4yr0</td>\n",
       "      <td>https://old.reddit.com/user/K4yr0</td>\n",
       "    </tr>\n",
       "    <tr>\n",
       "      <th>4</th>\n",
       "      <td>I feel like no matter what i do im the toxic p...</td>\n",
       "      <td>1</td>\n",
       "      <td>3</td>\n",
       "      <td>2019-05-08T20:59:10+00:00</td>\n",
       "      <td>thatevianthattedtalk</td>\n",
       "      <td>https://old.reddit.com/user/thatevianthattedtalk</td>\n",
       "    </tr>\n",
       "  </tbody>\n",
       "</table>\n",
       "</div>"
      ],
      "text/plain": [
       "                                             comment dislikes likes  \\\n",
       "0  I’m really struggling. I’m pretty convinced no...        0     2   \n",
       "1  I lashed out at a micro-managing coworker on M...        0     2   \n",
       "2  It’s been so long since I’ve felt truly down. ...        0     2   \n",
       "3  \"Eventually I'll grow out of being a piece of ...        0     2   \n",
       "4  I feel like no matter what i do im the toxic p...        1     3   \n",
       "\n",
       "                        time             user_name  \\\n",
       "0  2019-05-09T00:03:14+00:00         KMoneySupreme   \n",
       "1  2019-05-08T23:49:18+00:00           avian_corvo   \n",
       "2  2019-05-08T23:43:06+00:00              kkohler2   \n",
       "3  2019-05-08T23:16:08+00:00                 K4yr0   \n",
       "4  2019-05-08T20:59:10+00:00  thatevianthattedtalk   \n",
       "\n",
       "                                           user_url  \n",
       "0         https://old.reddit.com/user/KMoneySupreme  \n",
       "1           https://old.reddit.com/user/avian_corvo  \n",
       "2              https://old.reddit.com/user/kkohler2  \n",
       "3                 https://old.reddit.com/user/K4yr0  \n",
       "4  https://old.reddit.com/user/thatevianthattedtalk  "
      ]
     },
     "execution_count": 8,
     "metadata": {},
     "output_type": "execute_result"
    }
   ],
   "source": [
    "# since every even entry is meaningless\n",
    "odd_comment_block = [comment_block[i] for i in np.arange(0,len(comment_block)) if i % 2 == 0]\n",
    "odd_comment_block = odd_comment_block[:len(odd_comment_block) - 1]\n",
    "\n",
    "df = pd.DataFrame([get_comment_info(x) for x in odd_comment_block])\n",
    "df.head(5)"
   ]
  },
  {
   "cell_type": "code",
   "execution_count": 9,
   "metadata": {},
   "outputs": [],
   "source": [
    "def df_from_url(url):\n",
    "    response = requests.get(url, headers = {'User-agent': 'your bot 0.1'})\n",
    "    response.raise_for_status\n",
    "    html = lx.fromstring(response.text)\n",
    "    comment_block = html.xpath(\"//div[@class = 'sitetable nestedlisting']\")[0]\n",
    "    odd_comment_block = [comment_block[i] for i in np.arange(0,len(comment_block)) if i % 2 == 0]\n",
    "    odd_comment_block = odd_comment_block[:len(odd_comment_block) - 1]\n",
    "    df = pd.DataFrame([get_comment_info(x) for x in odd_comment_block])\n",
    "    \n",
    "    return df\n"
   ]
  },
  {
   "cell_type": "code",
   "execution_count": 10,
   "metadata": {},
   "outputs": [],
   "source": [
    "urls = [\n",
    "    'https://old.reddit.com/r/depression/comments/anh7tv/regular_checkin_post/',\n",
    "    'https://old.reddit.com/r/depression/comments/95ezhs/regular_checkin_post/',\n",
    "    'https://old.reddit.com/r/depression/comments/6swsuk/regular_checkin_and_some_info_about_highrisk_posts/',\n",
    "    'https://old.reddit.com/r/depression/comments/6lfjbt/regular_checkin_plus_fyi_about_why_we_dont_allow/',\n",
    "    'https://old.reddit.com/r/depression/comments/6a7gb9/rdepression_lets_check_in/',\n",
    "    'https://old.reddit.com/r/depression/comments/6fx6lt/hi_rdepression_lets_check_in/',\n",
    "    'https://old.reddit.com/r/depression/comments/6ju4xs/lets_check_in_tell_us_how_youre_doing_share_an/'\n",
    "]\n",
    "\n",
    "urls_new = [url + '?limit=500' for url in urls]\n",
    "urls_top =  [url + '?sort=top&limit=500' for url in urls]"
   ]
  },
  {
   "cell_type": "markdown",
   "metadata": {},
   "source": [
    "Ok so I was able to make a df from the most recent r/depression check in posts. It'll be easy to concat multiple into one. One problem is that this only gets the most recent 200 comments, and does not scrape the replies to these comments. There might be a way to be able to scrape all 4000+ comments in a r/depression check in post but I haven't been able to figure out yet."
   ]
  },
  {
   "cell_type": "code",
   "execution_count": 178,
   "metadata": {},
   "outputs": [
    {
     "data": {
      "text/plain": [
       "['https://old.reddit.com/r/depression/comments/anh7tv/regular_checkin_post/?limit=500',\n",
       " 'https://old.reddit.com/r/depression/comments/95ezhs/regular_checkin_post/?limit=500',\n",
       " 'https://old.reddit.com/r/depression/comments/6swsuk/regular_checkin_and_some_info_about_highrisk_posts/?limit=500',\n",
       " 'https://old.reddit.com/r/depression/comments/6lfjbt/regular_checkin_plus_fyi_about_why_we_dont_allow/?limit=500',\n",
       " 'https://old.reddit.com/r/depression/comments/6a7gb9/rdepression_lets_check_in/?limit=500',\n",
       " 'https://old.reddit.com/r/depression/comments/6fx6lt/hi_rdepression_lets_check_in/?limit=500',\n",
       " 'https://old.reddit.com/r/depression/comments/6ju4xs/lets_check_in_tell_us_how_youre_doing_share_an/?limit=500']"
      ]
     },
     "execution_count": 178,
     "metadata": {},
     "output_type": "execute_result"
    }
   ],
   "source": [
    "urls_new"
   ]
  },
  {
   "cell_type": "code",
   "execution_count": 167,
   "metadata": {
    "scrolled": true
   },
   "outputs": [
    {
     "data": {
      "text/plain": [
       "['https://old.reddit.com/r/depression/comments/anh7tv/regular_checkin_post/?sort=top&limit=500',\n",
       " 'https://old.reddit.com/r/depression/comments/95ezhs/regular_checkin_post/?sort=top&limit=500',\n",
       " 'https://old.reddit.com/r/depression/comments/6swsuk/regular_checkin_and_some_info_about_highrisk_posts/?sort=top&limit=500',\n",
       " 'https://old.reddit.com/r/depression/comments/6lfjbt/regular_checkin_plus_fyi_about_why_we_dont_allow/?sort=top&limit=500',\n",
       " 'https://old.reddit.com/r/depression/comments/6a7gb9/rdepression_lets_check_in/?sort=top&limit=500',\n",
       " 'https://old.reddit.com/r/depression/comments/6fx6lt/hi_rdepression_lets_check_in/?sort=top&limit=500',\n",
       " 'https://old.reddit.com/r/depression/comments/6ju4xs/lets_check_in_tell_us_how_youre_doing_share_an/?sort=top&limit=500']"
      ]
     },
     "execution_count": 167,
     "metadata": {},
     "output_type": "execute_result"
    }
   ],
   "source": [
    "urls_top"
   ]
  },
  {
   "cell_type": "code",
   "execution_count": 11,
   "metadata": {},
   "outputs": [],
   "source": [
    "df_new = df_from_url(urls_new[0])\n",
    "for url in urls_new[1:]:\n",
    "    temp = df_from_url(url)\n",
    "    df_new = pd.concat([df_new, temp])\n",
    "    \n",
    "df_top = df_from_url(urls_top[0])\n",
    "for url in urls_top[1:]:\n",
    "    temp = df_from_url(url)\n",
    "    df_top = pd.concat([df_top, temp])\n",
    "    \n",
    "    "
   ]
  },
  {
   "cell_type": "code",
   "execution_count": 12,
   "metadata": {},
   "outputs": [],
   "source": [
    "df_new = df_new.dropna()"
   ]
  },
  {
   "cell_type": "code",
   "execution_count": 13,
   "metadata": {
    "scrolled": true
   },
   "outputs": [],
   "source": [
    "df_top = df_top.dropna()"
   ]
  },
  {
   "cell_type": "code",
   "execution_count": 43,
   "metadata": {
    "scrolled": true
   },
   "outputs": [
    {
     "data": {
      "text/html": [
       "<div>\n",
       "<style scoped>\n",
       "    .dataframe tbody tr th:only-of-type {\n",
       "        vertical-align: middle;\n",
       "    }\n",
       "\n",
       "    .dataframe tbody tr th {\n",
       "        vertical-align: top;\n",
       "    }\n",
       "\n",
       "    .dataframe thead th {\n",
       "        text-align: right;\n",
       "    }\n",
       "</style>\n",
       "<table border=\"1\" class=\"dataframe\">\n",
       "  <thead>\n",
       "    <tr style=\"text-align: right;\">\n",
       "      <th></th>\n",
       "      <th>comment</th>\n",
       "      <th>dislikes</th>\n",
       "      <th>likes</th>\n",
       "      <th>time</th>\n",
       "      <th>user_name</th>\n",
       "      <th>user_url</th>\n",
       "    </tr>\n",
       "  </thead>\n",
       "  <tbody>\n",
       "    <tr>\n",
       "      <th>3</th>\n",
       "      <td>\"Eventually I'll grow out of being a piece of ...</td>\n",
       "      <td>0</td>\n",
       "      <td>2</td>\n",
       "      <td>2019-05-08T23:16:08+00:00</td>\n",
       "      <td>K4yr0</td>\n",
       "      <td>https://old.reddit.com/user/K4yr0</td>\n",
       "    </tr>\n",
       "    <tr>\n",
       "      <th>39</th>\n",
       "      <td>Back from a big city to the countryside where ...</td>\n",
       "      <td>2</td>\n",
       "      <td>4</td>\n",
       "      <td>2019-05-07T16:56:27+00:00</td>\n",
       "      <td>K4yr0</td>\n",
       "      <td>https://old.reddit.com/user/K4yr0</td>\n",
       "    </tr>\n",
       "    <tr>\n",
       "      <th>74</th>\n",
       "      <td>Staying at my brothers place in the city (he i...</td>\n",
       "      <td>0</td>\n",
       "      <td>2</td>\n",
       "      <td>2019-05-06T12:22:27+00:00</td>\n",
       "      <td>K4yr0</td>\n",
       "      <td>https://old.reddit.com/user/K4yr0</td>\n",
       "    </tr>\n",
       "    <tr>\n",
       "      <th>77</th>\n",
       "      <td>How is it having a happy \\n</td>\n",
       "      <td>2</td>\n",
       "      <td>4</td>\n",
       "      <td>2019-05-06T03:56:22+00:00</td>\n",
       "      <td>K4yr0</td>\n",
       "      <td>https://old.reddit.com/user/K4yr0</td>\n",
       "    </tr>\n",
       "    <tr>\n",
       "      <th>87</th>\n",
       "      <td>How can everyone from my family be so superfic...</td>\n",
       "      <td>2</td>\n",
       "      <td>4</td>\n",
       "      <td>2019-05-05T21:00:11+00:00</td>\n",
       "      <td>K4yr0</td>\n",
       "      <td>https://old.reddit.com/user/K4yr0</td>\n",
       "    </tr>\n",
       "    <tr>\n",
       "      <th>89</th>\n",
       "      <td>It's amazing how much people can create when t...</td>\n",
       "      <td>3</td>\n",
       "      <td>5</td>\n",
       "      <td>2019-05-05T20:10:12+00:00</td>\n",
       "      <td>K4yr0</td>\n",
       "      <td>https://old.reddit.com/user/K4yr0</td>\n",
       "    </tr>\n",
       "    <tr>\n",
       "      <th>98</th>\n",
       "      <td>A few days ago someone I know who's my age and...</td>\n",
       "      <td>1</td>\n",
       "      <td>3</td>\n",
       "      <td>2019-05-05T09:59:44+00:00</td>\n",
       "      <td>K4yr0</td>\n",
       "      <td>https://old.reddit.com/user/K4yr0</td>\n",
       "    </tr>\n",
       "    <tr>\n",
       "      <th>101</th>\n",
       "      <td>Waking up in the morning thinking \"who am I ag...</td>\n",
       "      <td>2</td>\n",
       "      <td>4</td>\n",
       "      <td>2019-05-05T07:06:57+00:00</td>\n",
       "      <td>K4yr0</td>\n",
       "      <td>https://old.reddit.com/user/K4yr0</td>\n",
       "    </tr>\n",
       "    <tr>\n",
       "      <th>110</th>\n",
       "      <td>With social anxiety it's like you are starving...</td>\n",
       "      <td>3</td>\n",
       "      <td>5</td>\n",
       "      <td>2019-05-04T18:55:51+00:00</td>\n",
       "      <td>K4yr0</td>\n",
       "      <td>https://old.reddit.com/user/K4yr0</td>\n",
       "    </tr>\n",
       "    <tr>\n",
       "      <th>126</th>\n",
       "      <td>Parents dragging me to stuff and expecting me ...</td>\n",
       "      <td>1</td>\n",
       "      <td>3</td>\n",
       "      <td>2019-05-03T22:59:49+00:00</td>\n",
       "      <td>K4yr0</td>\n",
       "      <td>https://old.reddit.com/user/K4yr0</td>\n",
       "    </tr>\n",
       "  </tbody>\n",
       "</table>\n",
       "</div>"
      ],
      "text/plain": [
       "                                               comment dislikes likes  \\\n",
       "3    \"Eventually I'll grow out of being a piece of ...        0     2   \n",
       "39   Back from a big city to the countryside where ...        2     4   \n",
       "74   Staying at my brothers place in the city (he i...        0     2   \n",
       "77                         How is it having a happy \\n        2     4   \n",
       "87   How can everyone from my family be so superfic...        2     4   \n",
       "89   It's amazing how much people can create when t...        3     5   \n",
       "98   A few days ago someone I know who's my age and...        1     3   \n",
       "101  Waking up in the morning thinking \"who am I ag...        2     4   \n",
       "110  With social anxiety it's like you are starving...        3     5   \n",
       "126  Parents dragging me to stuff and expecting me ...        1     3   \n",
       "\n",
       "                          time user_name                           user_url  \n",
       "3    2019-05-08T23:16:08+00:00     K4yr0  https://old.reddit.com/user/K4yr0  \n",
       "39   2019-05-07T16:56:27+00:00     K4yr0  https://old.reddit.com/user/K4yr0  \n",
       "74   2019-05-06T12:22:27+00:00     K4yr0  https://old.reddit.com/user/K4yr0  \n",
       "77   2019-05-06T03:56:22+00:00     K4yr0  https://old.reddit.com/user/K4yr0  \n",
       "87   2019-05-05T21:00:11+00:00     K4yr0  https://old.reddit.com/user/K4yr0  \n",
       "89   2019-05-05T20:10:12+00:00     K4yr0  https://old.reddit.com/user/K4yr0  \n",
       "98   2019-05-05T09:59:44+00:00     K4yr0  https://old.reddit.com/user/K4yr0  \n",
       "101  2019-05-05T07:06:57+00:00     K4yr0  https://old.reddit.com/user/K4yr0  \n",
       "110  2019-05-04T18:55:51+00:00     K4yr0  https://old.reddit.com/user/K4yr0  \n",
       "126  2019-05-03T22:59:49+00:00     K4yr0  https://old.reddit.com/user/K4yr0  "
      ]
     },
     "execution_count": 43,
     "metadata": {},
     "output_type": "execute_result"
    }
   ],
   "source": [
    "df_new[df_new['user_name'] == 'K4yr0'][:10]"
   ]
  },
  {
   "cell_type": "code",
   "execution_count": 14,
   "metadata": {},
   "outputs": [
    {
     "name": "stdout",
     "output_type": "stream",
     "text": [
      "3623\n",
      "3319\n"
     ]
    }
   ],
   "source": [
    "df = pd.concat([df_new, df_top])\n",
    "print(len(df))\n",
    "df = df.drop_duplicates()\n",
    "print(len(df))\n",
    "df = df.reset_index(drop = True)"
   ]
  },
  {
   "cell_type": "code",
   "execution_count": 15,
   "metadata": {
    "scrolled": false
   },
   "outputs": [
    {
     "data": {
      "text/html": [
       "<div>\n",
       "<style scoped>\n",
       "    .dataframe tbody tr th:only-of-type {\n",
       "        vertical-align: middle;\n",
       "    }\n",
       "\n",
       "    .dataframe tbody tr th {\n",
       "        vertical-align: top;\n",
       "    }\n",
       "\n",
       "    .dataframe thead th {\n",
       "        text-align: right;\n",
       "    }\n",
       "</style>\n",
       "<table border=\"1\" class=\"dataframe\">\n",
       "  <thead>\n",
       "    <tr style=\"text-align: right;\">\n",
       "      <th></th>\n",
       "      <th>Username</th>\n",
       "      <th>Number of Posts</th>\n",
       "    </tr>\n",
       "  </thead>\n",
       "  <tbody>\n",
       "    <tr>\n",
       "      <th>0</th>\n",
       "      <td>K4yr0</td>\n",
       "      <td>286</td>\n",
       "    </tr>\n",
       "    <tr>\n",
       "      <th>1</th>\n",
       "      <td>Violetsuger</td>\n",
       "      <td>54</td>\n",
       "    </tr>\n",
       "    <tr>\n",
       "      <th>2</th>\n",
       "      <td>mytwocats11</td>\n",
       "      <td>41</td>\n",
       "    </tr>\n",
       "    <tr>\n",
       "      <th>3</th>\n",
       "      <td>thekingofthejungle</td>\n",
       "      <td>33</td>\n",
       "    </tr>\n",
       "    <tr>\n",
       "      <th>4</th>\n",
       "      <td>Bethany-Hawke</td>\n",
       "      <td>26</td>\n",
       "    </tr>\n",
       "    <tr>\n",
       "      <th>5</th>\n",
       "      <td>Fireheart251</td>\n",
       "      <td>25</td>\n",
       "    </tr>\n",
       "    <tr>\n",
       "      <th>6</th>\n",
       "      <td>poisontongue</td>\n",
       "      <td>22</td>\n",
       "    </tr>\n",
       "    <tr>\n",
       "      <th>7</th>\n",
       "      <td>wolfsrain85</td>\n",
       "      <td>20</td>\n",
       "    </tr>\n",
       "    <tr>\n",
       "      <th>8</th>\n",
       "      <td>hermitcait</td>\n",
       "      <td>19</td>\n",
       "    </tr>\n",
       "    <tr>\n",
       "      <th>9</th>\n",
       "      <td>lanadeldildo</td>\n",
       "      <td>19</td>\n",
       "    </tr>\n",
       "    <tr>\n",
       "      <th>10</th>\n",
       "      <td>Reechan</td>\n",
       "      <td>19</td>\n",
       "    </tr>\n",
       "    <tr>\n",
       "      <th>11</th>\n",
       "      <td>electro_regretro</td>\n",
       "      <td>18</td>\n",
       "    </tr>\n",
       "    <tr>\n",
       "      <th>12</th>\n",
       "      <td>HalfMeasuredNeverCut</td>\n",
       "      <td>17</td>\n",
       "    </tr>\n",
       "    <tr>\n",
       "      <th>13</th>\n",
       "      <td>cantseeyounow</td>\n",
       "      <td>15</td>\n",
       "    </tr>\n",
       "    <tr>\n",
       "      <th>14</th>\n",
       "      <td>throwmethefuckawayyy</td>\n",
       "      <td>14</td>\n",
       "    </tr>\n",
       "    <tr>\n",
       "      <th>15</th>\n",
       "      <td>nyxiecat</td>\n",
       "      <td>14</td>\n",
       "    </tr>\n",
       "    <tr>\n",
       "      <th>16</th>\n",
       "      <td>RedStarRedTide</td>\n",
       "      <td>13</td>\n",
       "    </tr>\n",
       "    <tr>\n",
       "      <th>17</th>\n",
       "      <td>Vi10x_SSJ6</td>\n",
       "      <td>12</td>\n",
       "    </tr>\n",
       "    <tr>\n",
       "      <th>18</th>\n",
       "      <td>doloresallalone</td>\n",
       "      <td>12</td>\n",
       "    </tr>\n",
       "    <tr>\n",
       "      <th>19</th>\n",
       "      <td>GodbluffVDGG</td>\n",
       "      <td>11</td>\n",
       "    </tr>\n",
       "  </tbody>\n",
       "</table>\n",
       "</div>"
      ],
      "text/plain": [
       "                Username  Number of Posts\n",
       "0                  K4yr0              286\n",
       "1            Violetsuger               54\n",
       "2            mytwocats11               41\n",
       "3     thekingofthejungle               33\n",
       "4          Bethany-Hawke               26\n",
       "5           Fireheart251               25\n",
       "6           poisontongue               22\n",
       "7            wolfsrain85               20\n",
       "8             hermitcait               19\n",
       "9           lanadeldildo               19\n",
       "10               Reechan               19\n",
       "11      electro_regretro               18\n",
       "12  HalfMeasuredNeverCut               17\n",
       "13         cantseeyounow               15\n",
       "14  throwmethefuckawayyy               14\n",
       "15              nyxiecat               14\n",
       "16        RedStarRedTide               13\n",
       "17            Vi10x_SSJ6               12\n",
       "18       doloresallalone               12\n",
       "19          GodbluffVDGG               11"
      ]
     },
     "execution_count": 15,
     "metadata": {},
     "output_type": "execute_result"
    }
   ],
   "source": [
    "user_activity = pd.DataFrame(df['user_name'].value_counts())\n",
    "user_activity = user_activity.reset_index()\n",
    "user_activity.columns = ['Username', 'Number of Posts']\n",
    "user_activity.head(20)"
   ]
  },
  {
   "cell_type": "code",
   "execution_count": 16,
   "metadata": {},
   "outputs": [
    {
     "data": {
      "image/png": "[encoded data removed]",
      "text/plain": [
       "<Figure size 1728x864 with 1 Axes>"
      ]
     },
     "metadata": {
      "needs_background": "light"
     },
     "output_type": "display_data"
    }
   ],
   "source": [
    "plt.figure(figsize = (24, 12))\n",
    "\n",
    "g = sns.barplot(x = 'Username', y = 'Number of Posts', data = user_activity.head(20))\n",
    "g.set_xticklabels(labels = g.get_xticklabels(), rotation = -20, fontsize = 15)\n",
    "g.set_xlabel(g.get_xlabel(),fontsize = 20)\n",
    "g.set_title('Top 20 Active Users', fontsize = 30)\n",
    "plt.savefig('20ActiveUsers.png')"
   ]
  },
  {
   "cell_type": "markdown",
   "metadata": {},
   "source": [
    "## Word Frequencies"
   ]
  },
  {
   "cell_type": "code",
   "execution_count": 30,
   "metadata": {
    "scrolled": true
   },
   "outputs": [
    {
     "data": {
      "text/plain": [
       "[('like', 1918),\n",
       " ('feel', 1889),\n",
       " ('want', 1251),\n",
       " ('get', 1162),\n",
       " ('know', 1130),\n",
       " ('life', 1095),\n",
       " ('even', 962),\n",
       " ('time', 954),\n",
       " ('really', 912),\n",
       " ('people', 851),\n",
       " ('one', 796),\n",
       " ('day', 746),\n",
       " ('going', 707),\n",
       " ('go', 657),\n",
       " ('think', 641),\n",
       " ('much', 637),\n",
       " ('still', 610),\n",
       " ('things', 605),\n",
       " ('depression', 579),\n",
       " ('friends', 575)]"
      ]
     },
     "execution_count": 30,
     "metadata": {},
     "output_type": "execute_result"
    }
   ],
   "source": [
    "stopwords = nltk.corpus.stopwords.words(\"english\")\n",
    "\n",
    "comments = \" \".join(df['comment'])\n",
    "comments = comments.lower()\n",
    "comments = re.sub(\"\\n\", ' ', comments)\n",
    "comments = re.split(r'\\W+', comments)\n",
    "comments = [word for word in comments if word not in stopwords]\n",
    "\n",
    "tester_fq = nltk.FreqDist(w for w in comments if w.isalnum())\n",
    "tester_fq.most_common(20)"
   ]
  },
  {
   "cell_type": "code",
   "execution_count": 31,
   "metadata": {},
   "outputs": [
    {
     "data": {
      "image/png": "[encoded data removed]",
      "text/plain": [
       "<Figure size 1728x864 with 1 Axes>"
      ]
     },
     "metadata": {
      "needs_background": "light"
     },
     "output_type": "display_data"
    }
   ],
   "source": [
    "plt.figure(figsize = (24, 12))\n",
    "plt.xticks(size = 18)\n",
    "plt.xlabel('xlabel', size = 20)\n",
    "plt.yticks(size = 18)\n",
    "plt.ylabel('ylabel', size = 20)\n",
    "plt.title('Check-In Top 20 Most Frequently Used Words', size = 30)\n",
    "tester_fq.plot(20, cumulative = False)"
   ]
  },
  {
   "cell_type": "code",
   "execution_count": 32,
   "metadata": {},
   "outputs": [
    {
     "data": {
      "text/plain": [
       "[('feel', 1889),\n",
       " ('want', 1251),\n",
       " ('get', 1162),\n",
       " ('know', 1130),\n",
       " ('life', 1095),\n",
       " ('time', 954),\n",
       " ('people', 851),\n",
       " ('one', 796),\n",
       " ('day', 746),\n",
       " ('going', 707),\n",
       " ('go', 657),\n",
       " ('think', 641),\n",
       " ('things', 605),\n",
       " ('depression', 579),\n",
       " ('friends', 575),\n",
       " ('better', 571),\n",
       " ('feeling', 559),\n",
       " ('work', 557),\n",
       " ('never', 554),\n",
       " ('good', 550)]"
      ]
     },
     "execution_count": 32,
     "metadata": {},
     "output_type": "execute_result"
    }
   ],
   "source": [
    "more_stopwords = ['like', 'even', 'really', 'much', 'still']\n",
    "for word in more_stopwords:\n",
    "    stopwords.append(word)\n",
    "    \n",
    "comments = [word for word in comments if word not in stopwords]\n",
    "tester_fq = nltk.FreqDist(w for w in comments if w.isalnum())\n",
    "tester_fq.most_common(20)"
   ]
  },
  {
   "cell_type": "code",
   "execution_count": 35,
   "metadata": {},
   "outputs": [
    {
     "data": {
      "image/png": "[encoded data removed]",
      "text/plain": [
       "<Figure size 1728x864 with 1 Axes>"
      ]
     },
     "metadata": {
      "needs_background": "light"
     },
     "output_type": "display_data"
    }
   ],
   "source": [
    "plt.figure(figsize = (24, 12))\n",
    "plt.xticks(size = 18)\n",
    "plt.xlabel('xlabel', size = 20)\n",
    "plt.yticks(size = 18)\n",
    "plt.ylabel('ylabel', size = 20)\n",
    "plt.title('Check-In Top 20 Most Frequently Used Words', size = 30)\n",
    "tester_fq.plot(20, cumulative = False)"
   ]
  },
  {
   "cell_type": "markdown",
   "metadata": {},
   "source": [
    "## User Subreddits"
   ]
  },
  {
   "cell_type": "code",
   "execution_count": 198,
   "metadata": {},
   "outputs": [
    {
     "data": {
      "text/plain": [
       "1897"
      ]
     },
     "execution_count": 198,
     "metadata": {},
     "output_type": "execute_result"
    }
   ],
   "source": [
    "users = df['user_url'].unique()\n",
    "len(users)"
   ]
  },
  {
   "cell_type": "code",
   "execution_count": 199,
   "metadata": {},
   "outputs": [
    {
     "data": {
      "text/plain": [
       "'https://old.reddit.com/user/KMoneySupreme'"
      ]
     },
     "execution_count": 199,
     "metadata": {},
     "output_type": "execute_result"
    }
   ],
   "source": [
    "users[0]"
   ]
  },
  {
   "cell_type": "code",
   "execution_count": 60,
   "metadata": {},
   "outputs": [
    {
     "data": {
      "text/plain": [
       "'https://old.reddit.com/user/KMoneySupreme?count=25&after=t1_ej7kj12'"
      ]
     },
     "execution_count": 60,
     "metadata": {},
     "output_type": "execute_result"
    }
   ],
   "source": [
    "response = requests.get(users[0], headers = {'User-agent': 'your bot 0.1'})\n",
    "response.raise_for_status\n",
    "html = lx.fromstring(response.text)\n",
    "\n",
    "html.xpath(\"//span[@class = 'next-button']/a/@href\")[0]"
   ]
  },
  {
   "cell_type": "code",
   "execution_count": 134,
   "metadata": {},
   "outputs": [],
   "source": [
    "def get_users_activity_links(start_url, url_list):\n",
    "    response = requests.get(start_url, headers = {'User-agent': 'your bot 0.1'})\n",
    "    response.raise_for_status\n",
    "    html = lx.fromstring(response.text)\n",
    "    try:\n",
    "        next_url = html.xpath(\"//span[@class = 'next-button']/a/@href\")[0]\n",
    "        url_list.append(next_url)\n",
    "        return get_users_activity_links(next_url, url_list)\n",
    "    except:\n",
    "        return url_list"
   ]
  },
  {
   "cell_type": "code",
   "execution_count": 159,
   "metadata": {
    "scrolled": false
   },
   "outputs": [],
   "source": [
    "KMoneySupreme = get_users_activity_links(users[0], [users[0]])"
   ]
  },
  {
   "cell_type": "code",
   "execution_count": 178,
   "metadata": {},
   "outputs": [],
   "source": [
    "def get_users_subreddits(url):\n",
    "    response = requests.get(url, headers = {'User-agent': 'your bot 0.1'})\n",
    "    response.raise_for_status\n",
    "    html = lx.fromstring(response.text)\n",
    "    subs = html.xpath(\"//a[@class = 'subreddit hover']\")\n",
    "    subs = [sub.text for sub in subs]\n",
    "    subs = list(set(subs))\n",
    "    return subs"
   ]
  },
  {
   "cell_type": "code",
   "execution_count": 196,
   "metadata": {},
   "outputs": [
    {
     "data": {
      "text/plain": [
       "['autism',\n",
       " 'beermoney',\n",
       " 'CleaningTips',\n",
       " 'askportland',\n",
       " 'crochet',\n",
       " 'personalfinance',\n",
       " 'Music',\n",
       " 'BigBrother',\n",
       " 'BabyBumps',\n",
       " 'FrugalFemaleFashion',\n",
       " 'progresspics',\n",
       " 'Frugal',\n",
       " 'AdviceAnimals',\n",
       " 'StudentLoans',\n",
       " 'depression',\n",
       " 'atheism',\n",
       " 'AskReddit',\n",
       " 'specialed',\n",
       " 'careeradvice',\n",
       " 'DanielTigerConspiracy',\n",
       " 'OccupationalTherapy',\n",
       " 'SwagBucks',\n",
       " 'aww',\n",
       " 'knitting',\n",
       " 'PSLF',\n",
       " 'school',\n",
       " 'AmItheAsshole',\n",
       " 'pics',\n",
       " 'funny',\n",
       " 'HomeImprovement',\n",
       " 'loseit',\n",
       " 'running',\n",
       " 'BadNeighbors',\n",
       " 'gaming',\n",
       " 'personalfucknance',\n",
       " 'needadvice',\n",
       " 'careerguidance',\n",
       " 'rehabtherapy',\n",
       " 'videos',\n",
       " 'WTF',\n",
       " 'Portland',\n",
       " 'Fitness',\n",
       " 'books',\n",
       " 'femalefashionadvice']"
      ]
     },
     "execution_count": 196,
     "metadata": {},
     "output_type": "execute_result"
    }
   ],
   "source": [
    "subs = [get_users_subreddits(url) for url in KMoneySupreme]\n",
    "subs = [item for sublist in subs for item in sublist]\n",
    "subs = list(set(subs))\n",
    "subs\n"
   ]
  },
  {
   "cell_type": "code",
   "execution_count": null,
   "metadata": {},
   "outputs": [],
   "source": []
  }
 ],
 "metadata": {
  "kernelspec": {
   "display_name": "Python 3",
   "language": "python",
   "name": "python3"
  },
  "language_info": {
   "codemirror_mode": {
    "name": "ipython",
    "version": 3
   },
   "file_extension": ".py",
   "mimetype": "text/x-python",
   "name": "python",
   "nbconvert_exporter": "python",
   "pygments_lexer": "ipython3",
   "version": "3.7.1"
  }
 },
 "nbformat": 4,
 "nbformat_minor": 2
}
