{
 "cells": [
  {
   "cell_type": "markdown",
   "metadata": {},
   "source": [
    "# Analyzing Mental Health in America\n"
   ]
  },
  {
   "cell_type": "markdown",
   "metadata": {},
   "source": [
    "Andy Alba, Andy Garcia, David Wang, Nada Dalloul, Allyson Ling"
   ]
  },
  {
   "cell_type": "markdown",
   "metadata": {},
   "source": [
    "## Introduction\n"
   ]
  },
  {
   "cell_type": "markdown",
   "metadata": {},
   "source": [
    "Over the course of a few years, mental health topics in the United States have become less taboo, and many are beginning to engage in an open and inviting conversation on their own psychological state. However, there has been a well documented increase of mental illness, specifically depression, across the United States. In order to shed light on the potential causes of this trend, we aim to explore the effect of different factors on the mental health status of the American population using survey data. Given the overwhelming impact of technology in today’s society and the increasing use of social media  as a source of community, we hope to investigate the scope of information available and topics covered in mental health online forums as compared to survey data. "
   ]
  },
  {
   "cell_type": "markdown",
   "metadata": {},
   "source": [
    "## Data"
   ]
  },
  {
   "cell_type": "markdown",
   "metadata": {},
   "source": [
    "We utilized data from the National Health Interview Survey, an annual cross-sectional survey by the National Center for Health Statistics that aims to illustrate the the health status of those living in the United States. This survey includes a wide range of factors, covering information from health insurance to annual income. There is data for every year between 2004 to 2017, and they are split into multiple files. We began by only looking at the “Person” file from the most recent data in 2017 because it contained a clear indicator of whether a subject had depression. The original CSV contained 700 features, but after going through the features individually in the data documentation, we selected 46 possible features of interest. These features are listed below: \n"
   ]
  },
  {
   "cell_type": "markdown",
   "metadata": {},
   "source": [
    "<style type=\"text/css\">@media screen and (max-width: 767px) {.tg {width: auto !important;}.tg col {width: auto !important;}.tg-wrap {overflow-x: auto;-webkit-overflow-scrolling: touch;margin: auto 0px;}}</style><div class=\"tg-wrap\"><table style=\"border-collapse:collapse;border-spacing:0;margin:0px auto\" class=\"tg\"><tr><td style=\"font-family:Arial, sans-serif;font-size:14px;padding:10px 5px;border-style:solid;border-width:1px;overflow:hidden;word-break:normal;border-color:inherit;text-align:center\">Age</td><td style=\"font-family:Arial, sans-serif;font-size:14px;padding:10px 5px;border-style:solid;border-width:1px;overflow:hidden;word-break:normal;border-color:inherit;text-align:center\">Marital<br>&nbsp;&nbsp;status</td><td style=\"font-family:Arial, sans-serif;font-size:14px;padding:10px 5px;border-style:solid;border-width:1px;overflow:hidden;word-break:normal;border-color:inherit;text-align:center\">Duration<br>&nbsp;&nbsp;of weight problem (in years) </td><td style=\"font-family:Arial, sans-serif;font-size:14px;padding:10px 5px;border-style:solid;border-width:1px;overflow:hidden;word-break:normal;border-color:inherit;text-align:center\">Learning<br>&nbsp;&nbsp;disability causes limitation</td><td style=\"font-family:Arial, sans-serif;font-size:14px;padding:10px 5px;border-style:solid;border-width:1px;overflow:hidden;word-break:normal;border-color:inherit;text-align:center\">Year of<br>&nbsp;&nbsp;National Health Interview Survey</td></tr><tr><td style=\"font-family:Arial, sans-serif;font-size:14px;padding:10px 5px;border-style:solid;border-width:1px;overflow:hidden;word-break:normal;border-color:inherit;text-align:center\">Type<br>&nbsp;&nbsp;of relationship with Mother </td><td style=\"font-family:Arial, sans-serif;font-size:14px;padding:10px 5px;border-style:solid;border-width:1px;overflow:hidden;word-break:normal;border-color:inherit;text-align:center\">Weight problem condition status</td><td style=\"font-family:Arial, sans-serif;font-size:14px;padding:10px 5px;border-style:solid;border-width:1px;overflow:hidden;word-break:normal;border-color:inherit;text-align:center\">Attention Deficit/Hyperactivity<br>&nbsp;&nbsp;Disorder (ADD/ADHD) causes limitation</td><td style=\"font-family:Arial, sans-serif;font-size:14px;padding:10px 5px;border-style:solid;border-width:1px;overflow:hidden;word-break:normal;border-color:inherit;text-align:center\">Family Number</td><td style=\"font-family:Arial, sans-serif;font-size:14px;padding:10px 5px;border-style:solid;border-width:1px;overflow:hidden;word-break:normal;border-color:inherit;text-align:center\">Type of relationship with Father</td></tr><tr><td style=\"font-family:Arial, sans-serif;font-size:14px;padding:10px 5px;border-style:solid;border-width:1px;overflow:hidden;word-break:normal;border-color:inherit;text-align:center\">Years<br>&nbsp;&nbsp;that  has been in the U.S. </td><td style=\"font-family:Arial, sans-serif;font-size:14px;padding:10px 5px;border-style:solid;border-width:1px;overflow:hidden;word-break:normal;border-color:inherit;text-align:center\">Intellectual disability, also known as<br>&nbsp;&nbsp;mental retardation condition status</td><td style=\"font-family:Arial, sans-serif;font-size:14px;padding:10px 5px;border-style:solid;border-width:1px;overflow:hidden;word-break:normal;border-color:inherit;text-align:center\">Person Number</td><td style=\"font-family:Arial, sans-serif;font-size:14px;padding:10px 5px;border-style:solid;border-width:1px;overflow:hidden;word-break:normal;border-color:inherit;text-align:center\">Parent(s) present in the family </td><td style=\"font-family:Arial, sans-serif;font-size:14px;padding:10px 5px;border-style:solid;border-width:1px;overflow:hidden;word-break:normal;border-color:inherit;text-align:center\">No coverage of any type</td></tr><tr><td style=\"font-family:Arial, sans-serif;font-size:14px;padding:10px 5px;border-style:solid;border-width:1px;overflow:hidden;word-break:normal;border-color:inherit;text-align:center\">US<br>&nbsp;&nbsp;citizenship status</td><td style=\"font-family:Arial, sans-serif;font-size:14px;padding:10px 5px;border-style:solid;border-width:1px;overflow:hidden;word-break:normal;border-color:inherit;text-align:center\">Region</td><td style=\"font-family:Arial, sans-serif;font-size:14px;padding:10px 5px;border-style:solid;border-width:1px;overflow:hidden;word-break:normal;border-color:inherit;text-align:center\">Education of father</td><td style=\"font-family:Arial, sans-serif;font-size:14px;padding:10px 5px;border-style:solid;border-width:1px;overflow:hidden;word-break:normal;border-color:inherit;text-align:center\">Highest level of school completed</td><td style=\"font-family:Arial, sans-serif;font-size:14px;padding:10px 5px;border-style:solid;border-width:1px;overflow:hidden;word-break:normal;border-color:inherit;text-align:center\">Now attending Head Start</td></tr><tr><td style=\"font-family:Arial, sans-serif;font-size:14px;padding:10px 5px;border-style:solid;border-width:1px;overflow:hidden;word-break:normal;border-color:inherit;text-align:center\">Sex</td><td style=\"font-family:Arial, sans-serif;font-size:14px;padding:10px 5px;border-style:solid;border-width:1px;overflow:hidden;word-break:normal;border-color:inherit;text-align:center\">Education of mother</td><td style=\"font-family:Arial, sans-serif;font-size:14px;padding:10px 5px;border-style:solid;border-width:1px;overflow:hidden;word-break:normal;border-color:inherit;text-align:center\">Total earnings last year</td><td style=\"font-family:Arial, sans-serif;font-size:14px;padding:10px 5px;border-style:solid;border-width:1px;overflow:hidden;word-break:normal;border-color:inherit;text-align:center\">No health coverage during past 12<br>&nbsp;&nbsp;months</td><td style=\"font-family:Arial, sans-serif;font-size:14px;padding:10px 5px;border-style:solid;border-width:1px;overflow:hidden;word-break:normal;border-color:inherit;text-align:center\">Depression/anxiety/emotional problem<br>&nbsp;&nbsp;causes limitation</td></tr><tr><td style=\"font-family:Arial, sans-serif;font-size:14px;padding:10px 5px;border-style:solid;border-width:1px;overflow:hidden;word-break:normal;border-color:inherit;text-align:center\">Other<br>&nbsp;&nbsp;mental, emotional, or behavioral problem condition status</td><td style=\"font-family:Arial, sans-serif;font-size:14px;padding:10px 5px;border-style:solid;border-width:1px;overflow:hidden;word-break:normal;border-color:inherit;text-align:center\">Alcohol/drug/substance abuse problem<br>&nbsp;&nbsp;condition status</td><td style=\"font-family:Arial, sans-serif;font-size:14px;padding:10px 5px;border-style:solid;border-width:1px;overflow:hidden;word-break:normal;border-color:inherit;text-align:center\">Duration of depression, anxiety, or<br>&nbsp;&nbsp;emotional problem recode 2 </td><td style=\"font-family:Arial, sans-serif;font-size:14px;padding:10px 5px;border-style:solid;border-width:1px;overflow:hidden;word-break:normal;border-color:inherit;text-align:center\">Duration of alcohol/drug/substance<br>&nbsp;&nbsp;abuse problem recode 2 </td><td style=\"font-family:Arial, sans-serif;font-size:14px;padding:10px 5px;border-style:solid;border-width:1px;overflow:hidden;word-break:normal;border-color:inherit;text-align:center\">Ever attended Head Start</td></tr><tr><td style=\"font-family:Arial, sans-serif;font-size:14px;padding:10px 5px;border-style:solid;border-width:1px;overflow:hidden;word-break:normal;border-color:inherit;text-align:center\">Race<br>&nbsp;&nbsp;Recode </td><td style=\"font-family:Arial, sans-serif;font-size:14px;padding:10px 5px;border-style:solid;border-width:1px;overflow:hidden;word-break:normal;border-color:inherit;text-align:center\">Depression/anxiety/emotional problem<br>&nbsp;&nbsp;condition status </td><td style=\"font-family:Arial, sans-serif;font-size:14px;padding:10px 5px;border-style:solid;border-width:1px;overflow:hidden;word-break:normal;border-color:inherit;text-align:center\">Duration of other mental<br>&nbsp;&nbsp;problem/ADD/Bipolar/Schizophrenia (in years) </td><td style=\"font-family:Arial, sans-serif;font-size:14px;padding:10px 5px;border-style:solid;border-width:1px;overflow:hidden;word-break:normal;border-color:inherit;text-align:center\">Has - - ever served in U.S. Armed<br>&nbsp;&nbsp;Forces, Reserves, or National Guard?</td><td style=\"font-family:Arial, sans-serif;font-size:14px;padding:10px 5px;border-style:solid;border-width:1px;overflow:hidden;word-break:normal;border-color:inherit;text-align:center\">Race/ethnicity recode </td></tr><tr><td style=\"font-family:Arial, sans-serif;font-size:14px;padding:10px 5px;border-style:solid;border-width:1px;overflow:hidden;word-break:normal;border-color:inherit;text-align:center\">Duration<br>&nbsp;&nbsp;of other mental, emotional, or behavioral problem recode 2 </td><td style=\"font-family:Arial, sans-serif;font-size:14px;padding:10px 5px;border-style:solid;border-width:1px;overflow:hidden;word-break:normal;border-color:inherit;text-align:center\">Duration of fatigue/tiredness/weakness<br>&nbsp;&nbsp;problem (in years) </td><td style=\"font-family:Arial, sans-serif;font-size:14px;padding:10px 5px;border-style:solid;border-width:1px;overflow:hidden;word-break:normal;border-color:inherit;text-align:center\">Duration of attention<br>&nbsp;&nbsp;deficit/hyperactivity disorder (ADD/ADHD) (in years) </td><td style=\"font-family:Arial, sans-serif;font-size:14px;padding:10px 5px;border-style:solid;border-width:1px;overflow:hidden;word-break:normal;border-color:inherit;text-align:center\">Armed Forces Status </td><td style=\"font-family:Arial, sans-serif;font-size:14px;padding:10px 5px;border-style:solid;border-width:1px;overflow:hidden;word-break:normal;border-color:inherit;text-align:center\">Duration of nervous system/sensory<br>&nbsp;&nbsp;organ condition (in years)</td></tr><tr><td style=\"font-family:Arial, sans-serif;font-size:14px;padding:10px 5px;border-style:solid;border-width:1px;overflow:hidden;word-break:normal;border-color:inherit;text-align:center\">Duration<br>&nbsp;&nbsp;of learning disability (in years) </td><td style=\"font-family:Arial, sans-serif;font-size:14px;padding:10px 5px;border-style:solid;border-width:1px;overflow:hidden;word-break:normal;border-color:inherit;text-align:center\">Duration of other developmental<br>&nbsp;&nbsp;problem (in years) </td><td style=\"font-family:Arial, sans-serif;font-size:14px;padding:10px 5px;border-style:solid;border-width:1px;overflow:hidden;word-break:normal;border-color:inherit;text-align:center\">Duration of intellectual disability,<br>&nbsp;&nbsp;also known as mental retardation (in years)</td><td style=\"font-family:Arial, sans-serif;font-size:14px;padding:10px 5px;border-style:solid;border-width:1px;overflow:hidden;word-break:normal;border-color:inherit;text-align:center\">Duration<br>&nbsp;&nbsp;of endocrine/nutritional/metabolic problem (in years) </td><td style=\"font-family:Arial, sans-serif;font-size:14px;padding:10px 5px;border-style:solid;border-width:1px;overflow:hidden;word-break:normal;border-color:inherit;text-align:center\"></td></tr></table></div>"
   ]
  },
  {
   "cell_type": "markdown",
   "metadata": {},
   "source": [
    "We initially believed that the “Person” file also included the physical weights of each individual, however, upon further inspection, we discovered that key physical characteristics such as weight and height were in the “Sample Adult” and “Sample Child” files. According to the data documentation, these values have been modified to protect the privacy of the individuals surveyed. Height was limited to 59-70 inches for women and 63-76 inches for men. Similarly, weight was limited to 100-274 pounds for women and 126-299 pounds for men. BMI was calculated even for persons whose data was altered, so we made note of that as well. Although we could have applied to obtain some of the confidential data, due to monetary concerns, we did not pursue this further."
   ]
  },
  {
   "cell_type": "markdown",
   "metadata": {},
   "source": [
    "## Current Progress"
   ]
  },
  {
   "cell_type": "markdown",
   "metadata": {},
   "source": [
    "One of the first things that we had to do was change the values of the data. The data was saved with numerical keys representing the possible answers for a given survey question. The key-answer pairings were stored in a separate pdf, so we converted these pairings to a Python dictionary and replaced the numeric keys in the data with its corresponding answer. "
   ]
  },
  {
   "cell_type": "markdown",
   "metadata": {},
   "source": [
    "Next, for our exploratory analysis, we wanted to see the overall spread and distribution of those who responded to mental health questions. These distributions were visualized as interactive bar plots in plot.ly so we could see the distribution of multiple groups at once and individual groups in one plot. \n"
   ]
  },
  {
   "cell_type": "markdown",
   "metadata": {},
   "source": [
    "After subsetting our data to only those who answered mental health questions, the size of our dataset went from around 17,000 observations to 1,500.\n"
   ]
  },
  {
   "cell_type": "code",
   "execution_count": 5,
   "metadata": {},
   "outputs": [],
   "source": [
    "from IPython.display import IFrame"
   ]
  },
  {
   "cell_type": "code",
   "execution_count": 6,
   "metadata": {},
   "outputs": [
    {
     "data": {
      "text/html": [
       "\n",
       "        <iframe\n",
       "            width=\"950\"\n",
       "            height=\"600\"\n",
       "            src=\"depressionXincome.html\"\n",
       "            frameborder=\"0\"\n",
       "            allowfullscreen\n",
       "        ></iframe>\n",
       "        "
      ],
      "text/plain": [
       "<IPython.lib.display.IFrame at 0x11162e048>"
      ]
     },
     "execution_count": 6,
     "metadata": {},
     "output_type": "execute_result"
    }
   ],
   "source": [
    "IFrame('depressionXincome.html', width=950, height=600)"
   ]
  },
  {
   "cell_type": "markdown",
   "metadata": {},
   "source": [
    "The above graph, Depression Length X Income shows the spread of the income of the people surveyed who answered the survey question on depression. We can see that the majority of people who are depressed have been depressed for more than 1 year with very few people identifying as being depressed for less than a year. This may be explained by depression being something that occurs over a long period of time rather than a few days. In addition, we can see that a majority of people who are depressed have a salary of less than $5000. This tells us that money may possibly play a large role in a persons depression or vice versa. "
   ]
  },
  {
   "cell_type": "code",
   "execution_count": 7,
   "metadata": {
    "scrolled": false
   },
   "outputs": [
    {
     "data": {
      "text/html": [
       "\n",
       "        <iframe\n",
       "            width=\"950\"\n",
       "            height=\"600\"\n",
       "            src=\"depressionXage.html\"\n",
       "            frameborder=\"0\"\n",
       "            allowfullscreen\n",
       "        ></iframe>\n",
       "        "
      ],
      "text/plain": [
       "<IPython.lib.display.IFrame at 0x11162e390>"
      ]
     },
     "execution_count": 7,
     "metadata": {},
     "output_type": "execute_result"
    }
   ],
   "source": [
    "IFrame('depressionXage.html', width=950, height=600)"
   ]
  },
  {
   "cell_type": "markdown",
   "metadata": {},
   "source": [
    "The above graph compares the spread of the length of a persons depression and their age. From this we can see that a majority of the people with depression tend to be above 40. We can also see that there are more people in this plot compared to the plot of depression length and income. This tells us that a majority of people who have depressed for more than year did not report their income or did not have their income surveyed."
   ]
  },
  {
   "cell_type": "code",
   "execution_count": 8,
   "metadata": {
    "scrolled": false
   },
   "outputs": [
    {
     "data": {
      "text/html": [
       "\n",
       "        <iframe\n",
       "            width=\"950\"\n",
       "            height=\"600\"\n",
       "            src=\"depressionXageXincome<5k.html\"\n",
       "            frameborder=\"0\"\n",
       "            allowfullscreen\n",
       "        ></iframe>\n",
       "        "
      ],
      "text/plain": [
       "<IPython.lib.display.IFrame at 0x11162e668>"
      ]
     },
     "execution_count": 8,
     "metadata": {},
     "output_type": "execute_result"
    }
   ],
   "source": [
    "IFrame('depressionXageXincome<5k.html', width=950, height=600)"
   ]
  },
  {
   "cell_type": "code",
   "execution_count": 9,
   "metadata": {},
   "outputs": [
    {
     "data": {
      "text/html": [
       "\n",
       "        <iframe\n",
       "            width=\"950\"\n",
       "            height=\"600\"\n",
       "            src=\"demographics.html\"\n",
       "            frameborder=\"0\"\n",
       "            allowfullscreen\n",
       "        ></iframe>\n",
       "        "
      ],
      "text/plain": [
       "<IPython.lib.display.IFrame at 0x11162e588>"
      ]
     },
     "execution_count": 9,
     "metadata": {},
     "output_type": "execute_result"
    }
   ],
   "source": [
    "IFrame('demographics.html', width=950, height=600)"
   ]
  },
  {
   "cell_type": "markdown",
   "metadata": {},
   "source": [
    "Based on our histogram, the majority of people surveyed are White followed by Black, Asian, and other."
   ]
  },
  {
   "cell_type": "code",
   "execution_count": 10,
   "metadata": {},
   "outputs": [
    {
     "data": {
      "text/html": [
       "\n",
       "        <iframe\n",
       "            width=\"950\"\n",
       "            height=\"600\"\n",
       "            src=\"mental_health_male_female.html\"\n",
       "            frameborder=\"0\"\n",
       "            allowfullscreen\n",
       "        ></iframe>\n",
       "        "
      ],
      "text/plain": [
       "<IPython.lib.display.IFrame at 0x11162e630>"
      ]
     },
     "execution_count": 10,
     "metadata": {},
     "output_type": "execute_result"
    }
   ],
   "source": [
    "IFrame('mental_health_male_female.html', width=950, height=600)"
   ]
  },
  {
   "cell_type": "markdown",
   "metadata": {},
   "source": [
    "Out of about 78k people, 921 females and 589 males are reported to have chronic depression. While for 9 females and 7 males, they did not know if it was chronic. 6 females and 2 males reported that it was not chronic. Lastly, the remaining people did not have an answer for this question."
   ]
  },
  {
   "cell_type": "markdown",
   "metadata": {},
   "source": [
    "## Future Plan\n"
   ]
  },
  {
   "cell_type": "markdown",
   "metadata": {},
   "source": [
    "Our next steps are to combine survey data from 2004-2017 and also multiple components of the survey. We are interested in looking at physical characteristics of the people who are identified as having depression, which are in the “Sample Adult” and “Sample Child” files. Thus, we want to merge the “Person”, “Sample Adult”, and “Sample Child” data for every year. We will also merge in the “Family” data in case we want to use it in the future. All the files from 2006-2014 as currently in ASCII format, and we will use the SAS files provided to convert and merge them into CSVs, which can be read easily into Python for analysis.\n"
   ]
  },
  {
   "cell_type": "markdown",
   "metadata": {},
   "source": [
    " The files for 2004-2005 are currently unavailable, and we have contacted the Centers for Disease Control and Prevention, the department of which the National Center for Health Statistics is under, to see if we can obtain this data.\n"
   ]
  }
 ],
 "metadata": {
  "kernelspec": {
   "display_name": "Python 3",
   "language": "python",
   "name": "python3"
  },
  "language_info": {
   "codemirror_mode": {
    "name": "ipython",
    "version": 3
   },
   "file_extension": ".py",
   "mimetype": "text/x-python",
   "name": "python",
   "nbconvert_exporter": "python",
   "pygments_lexer": "ipython3",
   "version": "3.7.1"
  }
 },
 "nbformat": 4,
 "nbformat_minor": 2
}
