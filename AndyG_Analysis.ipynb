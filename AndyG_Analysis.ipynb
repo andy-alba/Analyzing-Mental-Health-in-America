{
 "cells": [
  {
   "cell_type": "code",
   "execution_count": 29,
   "metadata": {},
   "outputs": [],
   "source": [
    "# libraries\n",
    "import pandas as pd\n",
    "import plotly\n",
    "import plotly.plotly as py\n",
    "import plotly.graph_objs as go\n",
    "import numpy as np\n",
    "\n",
    "# api\n",
    "plotly.tools.set_credentials_file(username='acgarcia', api_key='asT7FaUCTFQ97M93vRLN')\n",
    "\n",
    "# naming columns\n",
    "cols = pd.read_csv('./stuff.csv')\n",
    "\n",
    "# creating our dataframe\n",
    "df_2017 = pd.read_csv('./personsx.csv', usecols = cols['Feature name in Doc'].str.strip())\n",
    "df_2017 = df_2017.fillna(0)"
   ]
  },
  {
   "cell_type": "code",
   "execution_count": 4,
   "metadata": {},
   "outputs": [],
   "source": [
    "# Subsetting and renaming\n",
    "# dep stands for depression\n",
    "dep_sex = df_2017.loc[:,['SEX','LACHRC17']]\n",
    "dep_sex['SEX'] = dep_sex['SEX'].map({1:'male', 2:'female'})"
   ]
  },
  {
   "cell_type": "code",
   "execution_count": 5,
   "metadata": {},
   "outputs": [],
   "source": [
    "# Cleaning our data into a desireable dataframe for both male and female\n",
    "dep_male = pd.DataFrame(dep_sex[dep_sex['SEX'] == 'male']['LACHRC17'].value_counts())\n",
    "dep_male = dep_male.reset_index()\n",
    "dep_male = dep_male.loc[1:, :]\n",
    "dep_male = dep_male.rename(index=str, columns={\"index\": \"Code\", \"LACHRC17\": \"Male\"})\n",
    "\n",
    "dep_female = pd.DataFrame(dep_sex[dep_sex['SEX'] == 'female']['LACHRC17'].value_counts())\n",
    "dep_female = dep_female.reset_index()\n",
    "dep_female = dep_female.loc[1:, :]\n",
    "dep_female = dep_female.rename(index=str, columns={\"index\": \"Code\", \"LACHRC17\": \"Female\"})\n",
    "\n",
    "dep_sex = pd.concat([dep_male, dep_female], axis=1)\n",
    "dep_sex = dep_sex.loc[:,~dep_sex.columns.duplicated()]\n",
    "dep_sex['Code'] = dep_sex['Code'].map({1.0: 'Chronic', 2.0: 'Not chronic', 9.0:'Unknown if chronic'})"
   ]
  },
  {
   "cell_type": "code",
   "execution_count": 8,
   "metadata": {},
   "outputs": [
    {
     "data": {
      "text/html": [
       "<iframe id=\"igraph\" scrolling=\"no\" style=\"border:none;\" seamless=\"seamless\" src=\"https://plot.ly/~acgarcia/10.embed\" height=\"525px\" width=\"100%\"></iframe>"
      ],
      "text/plain": [
       "<plotly.tools.PlotlyDisplay object>"
      ]
     },
     "execution_count": 8,
     "metadata": {},
     "output_type": "execute_result"
    }
   ],
   "source": [
    "# Data for our bar plot\n",
    "trace_male = go.Bar(\n",
    "    x=dep_sex['Code'],\n",
    "    y= dep_sex['Male'],\n",
    "    name='Male'\n",
    ")\n",
    "\n",
    "trace_female = go.Bar(\n",
    "    x=dep_sex['Code'],\n",
    "    y= dep_sex['Female'],\n",
    "    name='Female'\n",
    ")\n",
    "\n",
    "data = [trace_male, trace_female]\n",
    "layout = go.Layout(\n",
    "    barmode='stack',\n",
    "    title = 'Depression/anxiety/emotional problem condition status among Males and Females'\n",
    ")\n",
    "\n",
    "fig = go.Figure(data=data, layout=layout)\n",
    "plotly.offline.plot(fig, filename='condition_status_male_female.html')\n",
    "py.iplot(fig, filename='stacked-bar')"
   ]
  },
  {
   "cell_type": "markdown",
   "metadata": {},
   "source": [
    "Out of about 78k people, 921 females and 589 males are reported to have chronic depression. While for 9 females and 7 males, they did not know if it was chronic. 6 females and 2 males reported that it was not chronic. Lastly, the remaining people did not have an answer for this question."
   ]
  },
  {
   "cell_type": "code",
   "execution_count": 11,
   "metadata": {},
   "outputs": [
    {
     "data": {
      "text/html": [
       "<iframe id=\"igraph\" scrolling=\"no\" style=\"border:none;\" seamless=\"seamless\" src=\"https://plot.ly/~acgarcia/14.embed\" height=\"525px\" width=\"100%\"></iframe>"
      ],
      "text/plain": [
       "<plotly.tools.PlotlyDisplay object>"
      ]
     },
     "execution_count": 11,
     "metadata": {},
     "output_type": "execute_result"
    }
   ],
   "source": [
    "# Subsetting the race column\n",
    "races = df_2017.loc[:,['RACRECI3']]\n",
    "\n",
    "# Subsetting by race\n",
    "races_white = races[races == 1]\n",
    "races_white = races_white.dropna()\n",
    "\n",
    "races_black = races[races == 2]\n",
    "races_black = races_black.dropna()\n",
    "\n",
    "races_asian = races[races == 3]\n",
    "races_asian = races_asian.dropna()\n",
    "\n",
    "races_other = races[races == 4]\n",
    "races_other = races_other.dropna()\n",
    "\n",
    "# Traces per bar in histogram\n",
    "trace_white = go.Histogram(\n",
    "    x=races_white,\n",
    "    name='White'\n",
    ")\n",
    "trace_black = go.Histogram(\n",
    "    x=races_black,\n",
    "    name='Black'\n",
    ")\n",
    "trace_asian = go.Histogram(\n",
    "    x=races_asian,\n",
    "    name='Asian'\n",
    ")\n",
    "trace_other = go.Histogram(\n",
    "    x=races_other,\n",
    "    name='Other'\n",
    ")\n",
    "\n",
    "# Plotting our histogram\n",
    "data = [trace_white, trace_black, trace_asian, trace_other]\n",
    "layout = go.Layout(barmode='stack', title = \"Demographics of our data\",\n",
    "                    xaxis=dict(\n",
    "                        ticks='',\n",
    "                        showticklabels=False\n",
    "                    )\n",
    "                  )\n",
    "fig = go.Figure(data=data, layout=layout)\n",
    "plotly.offline.plot(fig, filename='demographicsa.html')\n",
    "py.iplot(fig, filename='stacked histogram')"
   ]
  },
  {
   "cell_type": "markdown",
   "metadata": {},
   "source": [
    "Web Scraping Reddit"
   ]
  },
  {
   "cell_type": "code",
   "execution_count": 3,
   "metadata": {},
   "outputs": [],
   "source": [
    "# Libraries\n",
    "import praw\n",
    "#v1167316@nwytg.net\n",
    "#knz0l49j5bVGMA\n",
    "#tmRkuDCl9AzIAs3UxDkTiCjEIXs\n",
    "\n",
    "# initializing our API\n",
    "reddit = praw.Reddit(client_id='knz0l49j5bVGMA',\n",
    "                     client_secret='tmRkuDCl9AzIAs3UxDkTiCjEIXs',\n",
    "                     user_agent='STA 160 Project')"
   ]
  },
  {
   "cell_type": "code",
   "execution_count": 6,
   "metadata": {},
   "outputs": [],
   "source": [
    "# choosing our subreddit\n",
    "subreddit = reddit.subreddit('depression')"
   ]
  },
  {
   "cell_type": "markdown",
   "metadata": {},
   "source": [
    "Getting the first 100 titles from all time and controversial on /r/depression"
   ]
  },
  {
   "cell_type": "code",
   "execution_count": 56,
   "metadata": {},
   "outputs": [],
   "source": [
    "all_time = []\n",
    "controversial = []\n",
    "# appends the titles of the first 100 posts to a list\n",
    "for submission in subreddit.top(limit=100):\n",
    "    all_time.append(submission.title)\n",
    "\n",
    "for submission in subreddit.controversial(limit=100):\n",
    "    controversial.append(submission.title)"
   ]
  },
  {
   "cell_type": "code",
   "execution_count": 57,
   "metadata": {},
   "outputs": [],
   "source": [
    "# converting to lowercase\n",
    "all_time = [k.lower() for k in all_time]\n",
    "controversial = [k.lower() for k in controversial]"
   ]
  },
  {
   "cell_type": "code",
   "execution_count": 58,
   "metadata": {},
   "outputs": [],
   "source": [
    "# nltk libraries\n",
    "import nltk\n",
    "from nltk.tokenize import sent_tokenize\n",
    "from nltk.tokenize import word_tokenize\n",
    "from nltk.probability import FreqDist\n",
    "from nltk.corpus import stopwords\n",
    "import matplotlib.pyplot as plt\n",
    "%matplotlib inline"
   ]
  },
  {
   "cell_type": "code",
   "execution_count": 59,
   "metadata": {},
   "outputs": [],
   "source": [
    "# converting to dataframe so it is easier to tokenize\n",
    "all_time_df = pd.DataFrame(all_time)\n",
    "controversial_df = pd.DataFrame(controversial)"
   ]
  },
  {
   "cell_type": "code",
   "execution_count": 60,
   "metadata": {},
   "outputs": [],
   "source": [
    "# Combining text into 1 string for tokenization\n",
    "text_all_time = ' '.join(all_time_df[0])\n",
    "text_controversial = ' '.join(controversial_df[0])"
   ]
  },
  {
   "cell_type": "code",
   "execution_count": 61,
   "metadata": {},
   "outputs": [],
   "source": [
    "# Tokenizing each text to prep for a frequency distribution\n",
    "tokenized_all_time = word_tokenize(text_all_time)\n",
    "tokenized_controversial = word_tokenize(text_controversial)"
   ]
  },
  {
   "cell_type": "code",
   "execution_count": 68,
   "metadata": {},
   "outputs": [],
   "source": [
    "# removing unnecessary words such as \"I\", \"me\", etc\n",
    "stop_words = set(stopwords.words(\"english\"))\n",
    "\n",
    "banned_words = ['a', 'just', 'my', 'is', \"n't\", 'at', 'when', 'you', \"'re\", 'the', '.']\n",
    "\n",
    "for i in banned_words:\n",
    "    stop_words.add(i)"
   ]
  },
  {
   "cell_type": "code",
   "execution_count": 70,
   "metadata": {},
   "outputs": [],
   "source": [
    "# filtered text w/o unnecessary words\n",
    "filtered_all_time = []\n",
    "filtered_controversial = []"
   ]
  },
  {
   "cell_type": "code",
   "execution_count": 71,
   "metadata": {},
   "outputs": [],
   "source": [
    "# Filtering out noise to gauge the trending topics better\n",
    "for w in tokenized_all_time:\n",
    "    if w not in stop_words:\n",
    "        filtered_all_time.append(w)\n",
    "\n",
    "for w in tokenized_controversial:\n",
    "    if w not in stop_words:\n",
    "        filtered_controversial.append(w)"
   ]
  },
  {
   "cell_type": "code",
   "execution_count": 73,
   "metadata": {},
   "outputs": [
    {
     "data": {
      "image/png": "[encoded data removed]",
      "text/plain": [
       "<Figure size 432x288 with 1 Axes>"
      ]
     },
     "metadata": {
      "needs_background": "light"
     },
     "output_type": "display_data"
    },
    {
     "data": {
      "image/png": "[encoded data removed]",
      "text/plain": [
       "<Figure size 432x288 with 1 Axes>"
      ]
     },
     "metadata": {
      "needs_background": "light"
     },
     "output_type": "display_data"
    }
   ],
   "source": [
    "# Setting up a frequency distribution plot to get an idea of the most common words    \n",
    "fdist_all_time = FreqDist(filtered_all_time)\n",
    "fdist_all_time.most_common(2)\n",
    "plt.title('Word Frequencies for the top 100 posts on All Time on /r/depression')\n",
    "fdist_all_time.plot(30,cumulative=False)\n",
    "plt.show()\n",
    "\n",
    "fdist_controversial = FreqDist(filtered_controversial)\n",
    "fdist_controversial.most_common(2)\n",
    "plt.title('Word Frequencies for the top 100 posts on Controversial on /r/depression')\n",
    "fdist_controversial.plot(30,cumulative=False)\n",
    "plt.show()"
   ]
  },
  {
   "cell_type": "markdown",
   "metadata": {},
   "source": [
    "Moving Forward\n",
    "• Exploring other visualizations that can be used\n",
    "• Making the visualizations more accurate by filtering out unnecessary words\n",
    "• Analyze the top 500 all time and controversial posts to get a better idea of most frequently used words\n",
    "• Add new categories such as guilded\n",
    "• Explore other avenues that can be used in the Reddit API\n",
    "• Maybe explore content of posts rather than titles\n",
    "• Maybe explore comments of posts rather than titles\n",
    "• possibly explore other subreddits\n",
    "• TBA"
   ]
  }
 ],
 "metadata": {
  "kernelspec": {
   "display_name": "Python 3",
   "language": "python",
   "name": "python3"
  },
  "language_info": {
   "codemirror_mode": {
    "name": "ipython",
    "version": 3
   },
   "file_extension": ".py",
   "mimetype": "text/x-python",
   "name": "python",
   "nbconvert_exporter": "python",
   "pygments_lexer": "ipython3",
   "version": "3.7.3"
  }
 },
 "nbformat": 4,
 "nbformat_minor": 2
}
