{
 "cells": [
  {
   "cell_type": "code",
   "execution_count": 2,
   "metadata": {},
   "outputs": [],
   "source": [
    "# libraries\n",
    "import pandas as pd\n",
    "import plotly\n",
    "import plotly.plotly as py\n",
    "import plotly.graph_objs as go\n",
    "import numpy as np\n",
    "\n",
    "# api\n",
    "plotly.tools.set_credentials_file(username='acgarcia', api_key='asT7FaUCTFQ97M93vRLN')\n",
    "\n",
    "# naming columns\n",
    "cols = pd.read_csv('./stuff.csv')\n",
    "\n",
    "# creating our dataframe\n",
    "df_2017 = pd.read_csv('./personsx.csv', usecols = cols['Feature name in Doc'].str.strip())\n",
    "df_2017 = df_2017.fillna(0)"
   ]
  },
  {
   "cell_type": "code",
   "execution_count": 3,
   "metadata": {},
   "outputs": [],
   "source": [
    "# Subsetting and renaming\n",
    "# dep stands for depression\n",
    "dep_sex = df_2017.loc[:,['SEX','LACHRC17']]\n",
    "dep_sex['SEX'] = dep_sex['SEX'].map({1:'male', 2:'female'})"
   ]
  },
  {
   "cell_type": "code",
   "execution_count": 4,
   "metadata": {},
   "outputs": [],
   "source": [
    "# Cleaning our data into a desireable dataframe for both male and female\n",
    "dep_male = pd.DataFrame(dep_sex[dep_sex['SEX'] == 'male']['LACHRC17'].value_counts())\n",
    "dep_male = dep_male.reset_index()\n",
    "dep_male = dep_male.loc[1:, :]\n",
    "dep_male = dep_male.rename(index=str, columns={\"index\": \"Code\", \"LACHRC17\": \"Male\"})\n",
    "\n",
    "dep_female = pd.DataFrame(dep_sex[dep_sex['SEX'] == 'female']['LACHRC17'].value_counts())\n",
    "dep_female = dep_female.reset_index()\n",
    "dep_female = dep_female.loc[1:, :]\n",
    "dep_female = dep_female.rename(index=str, columns={\"index\": \"Code\", \"LACHRC17\": \"Female\"})\n",
    "\n",
    "dep_sex = pd.concat([dep_male, dep_female], axis=1)\n",
    "dep_sex = dep_sex.loc[:,~dep_sex.columns.duplicated()]\n",
    "dep_sex['Code'] = dep_sex['Code'].map({1.0: 'Chronic', 2.0: 'Not chronic', 9.0:'Unknown if chronic'})"
   ]
  },
  {
   "cell_type": "code",
   "execution_count": 5,
   "metadata": {},
   "outputs": [
    {
     "name": "stderr",
     "output_type": "stream",
     "text": [
      "/Users/Andy/anaconda3/lib/python3.7/site-packages/IPython/core/display.py:689: UserWarning:\n",
      "\n",
      "Consider using IPython.display.IFrame instead\n",
      "\n"
     ]
    },
    {
     "data": {
      "text/html": [
       "<iframe id=\"igraph\" scrolling=\"no\" style=\"border:none;\" seamless=\"seamless\" src=\"https://plot.ly/~acgarcia/10.embed\" height=\"525px\" width=\"100%\"></iframe>"
      ],
      "text/plain": [
       "<plotly.tools.PlotlyDisplay object>"
      ]
     },
     "execution_count": 5,
     "metadata": {},
     "output_type": "execute_result"
    }
   ],
   "source": [
    "# Data for our bar plot\n",
    "trace_male = go.Bar(\n",
    "    x=dep_sex['Code'],\n",
    "    y= dep_sex['Male'],\n",
    "    name='Male'\n",
    ")\n",
    "\n",
    "trace_female = go.Bar(\n",
    "    x=dep_sex['Code'],\n",
    "    y= dep_sex['Female'],\n",
    "    name='Female'\n",
    ")\n",
    "\n",
    "data = [trace_male, trace_female]\n",
    "layout = go.Layout(\n",
    "    barmode='stack',\n",
    "    title = 'Depression/anxiety/emotional problem condition status among Males and Females'\n",
    ")\n",
    "\n",
    "fig = go.Figure(data=data, layout=layout)\n",
    "py.iplot(fig, filename='stacked-bar')"
   ]
  },
  {
   "cell_type": "markdown",
   "metadata": {},
   "source": [
    "Out of about 78k people, 921 females and 589 males are reported to have chronic depression. While for 9 females and 7 males, they did not know if it was chronic. 6 females and 2 males reported that it was not chronic. Lastly, the remaining people did not have an answer for this question."
   ]
  },
  {
   "cell_type": "code",
   "execution_count": 30,
   "metadata": {},
   "outputs": [
    {
     "data": {
      "text/html": [
       "<iframe id=\"igraph\" scrolling=\"no\" style=\"border:none;\" seamless=\"seamless\" src=\"https://plot.ly/~acgarcia/14.embed\" height=\"525px\" width=\"100%\"></iframe>"
      ],
      "text/plain": [
       "<plotly.tools.PlotlyDisplay object>"
      ]
     },
     "execution_count": 30,
     "metadata": {},
     "output_type": "execute_result"
    }
   ],
   "source": [
    "# Subsetting the race column\n",
    "races = df_2017.loc[:,['RACRECI3']]\n",
    "\n",
    "# Subsetting by race\n",
    "races_white = races[races == 1]\n",
    "races_white = races_white.dropna()\n",
    "\n",
    "races_black = races[races == 2]\n",
    "races_black = races_black.dropna()\n",
    "\n",
    "races_asian = races[races == 3]\n",
    "races_asian = races_asian.dropna()\n",
    "\n",
    "races_other = races[races == 4]\n",
    "races_other = races_other.dropna()\n",
    "\n",
    "# Traces per bar in histogram\n",
    "trace_white = go.Histogram(\n",
    "    x=races_white,\n",
    "    name='White'\n",
    ")\n",
    "trace_black = go.Histogram(\n",
    "    x=races_black,\n",
    "    name='Black'\n",
    ")\n",
    "trace_asian = go.Histogram(\n",
    "    x=races_asian,\n",
    "    name='Asian'\n",
    ")\n",
    "trace_other = go.Histogram(\n",
    "    x=races_other,\n",
    "    name='Other'\n",
    ")\n",
    "\n",
    "# Plotting our histogram\n",
    "data = [trace_white, trace_black, trace_asian, trace_other]\n",
    "layout = go.Layout(barmode='stack', title = \"Demographics of our data\",\n",
    "                    xaxis=dict(\n",
    "                        ticks='',\n",
    "                        showticklabels=False\n",
    "                    )\n",
    "                  )\n",
    "fig = go.Figure(data=data, layout=layout)\n",
    "\n",
    "py.iplot(fig, filename='stacked histogram')"
   ]
  },
  {
   "cell_type": "code",
   "execution_count": null,
   "metadata": {},
   "outputs": [],
   "source": []
  }
 ],
 "metadata": {
  "kernelspec": {
   "display_name": "Python 3",
   "language": "python",
   "name": "python3"
  },
  "language_info": {
   "codemirror_mode": {
    "name": "ipython",
    "version": 3
   },
   "file_extension": ".py",
   "mimetype": "text/x-python",
   "name": "python",
   "nbconvert_exporter": "python",
   "pygments_lexer": "ipython3",
   "version": "3.7.3"
  }
 },
 "nbformat": 4,
 "nbformat_minor": 2
}
